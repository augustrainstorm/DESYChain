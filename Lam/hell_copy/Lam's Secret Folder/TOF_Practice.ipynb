{
 "cells": [
  {
   "cell_type": "code",
   "execution_count": 1,
   "metadata": {},
   "outputs": [
    {
     "name": "stdout",
     "output_type": "stream",
     "text": [
      "Welcome to JupyROOT 6.18/02\n"
     ]
    }
   ],
   "source": [
    "from ROOT import TFile"
   ]
  },
  {
   "cell_type": "code",
   "execution_count": 2,
   "metadata": {},
   "outputs": [],
   "source": [
    "input_file = TFile(\"PseudoExperiment.root\", \"READ\")"
   ]
  },
  {
   "cell_type": "code",
   "execution_count": 3,
   "metadata": {},
   "outputs": [
    {
     "name": "stdout",
     "output_type": "stream",
     "text": [
      "TFile: name=PseudoExperiment.root, title=, option=READ\n"
     ]
    }
   ],
   "source": [
    "input_file.Print()"
   ]
  },
  {
   "cell_type": "code",
   "execution_count": 4,
   "metadata": {},
   "outputs": [
    {
     "name": "stdout",
     "output_type": "stream",
     "text": [
      "TFile**\t\tPseudoExperiment.root\t\n",
      " TFile*\t\tPseudoExperiment.root\t\n",
      "  KEY: TTree\tp500d0;1\tTOF data with momentum=500 MeV and a distance of 0\n",
      "  KEY: TTree\tp500d_;1\tTOF data with momentum=500 MeV and an unknown distance\n",
      "  KEY: TTree\tp750d0;1\tTOF data with momentum=750 MeV and a distance of 0\n",
      "  KEY: TTree\tp750d_;1\tTOF data with momentum=750 MeV and an unknown distance\n",
      "  KEY: TTree\tp1000d0;1\tTOF data with momentum=1000 MeV and a distance of 0\n",
      "  KEY: TTree\tp1000d_;1\tTOF data with momentum=1000 MeV and an unknown distance\n",
      "  KEY: TTree\tp10000d0;1\tTOF data with momentum=10000 MeV and a distance of 0\n",
      "  KEY: TTree\tp10000d_;1\tTOF data with momentum=10000 MeV and an unknown distance\n"
     ]
    }
   ],
   "source": [
    "input_file.ls()"
   ]
  },
  {
   "cell_type": "code",
   "execution_count": 6,
   "metadata": {},
   "outputs": [],
   "source": [
    "p500d0 = input_file.Get('p500d0')"
   ]
  },
  {
   "cell_type": "code",
   "execution_count": 7,
   "metadata": {},
   "outputs": [
    {
     "name": "stdout",
     "output_type": "stream",
     "text": [
      "OBJ: TTree\tp500d0\tTOF data with momentum=500 MeV and a distance of 0 : 0 at: 0x496a2d0\n"
     ]
    }
   ],
   "source": [
    "p500d0.ls()"
   ]
  },
  {
   "cell_type": "code",
   "execution_count": 8,
   "metadata": {},
   "outputs": [
    {
     "name": "stdout",
     "output_type": "stream",
     "text": [
      "******************************************************************************\n",
      "*Tree    :p500d0    : TOF data with momentum=500 MeV and a distance of 0     *\n",
      "*Entries :     5000 : Total =           81768 bytes  File  Size =      75640 *\n",
      "*        :          : Tree compression factor =   1.07                       *\n",
      "******************************************************************************\n",
      "*Br    0 :Detector1 : Detector1/D                                            *\n",
      "*Entries :     5000 : Total  Size=      40665 bytes  File Size  =      37479 *\n",
      "*Baskets :        2 : Basket Size=      32000 bytes  Compression=   1.07     *\n",
      "*............................................................................*\n",
      "*Br    1 :Detector2 : Detector2/D                                            *\n",
      "*Entries :     5000 : Total  Size=      40665 bytes  File Size  =      37602 *\n",
      "*Baskets :        2 : Basket Size=      32000 bytes  Compression=   1.07     *\n",
      "*............................................................................*\n"
     ]
    }
   ],
   "source": [
    "p500d0.Print()"
   ]
  },
  {
   "cell_type": "code",
   "execution_count": 9,
   "metadata": {},
   "outputs": [],
   "source": [
    "from ROOT import TCanvas"
   ]
  },
  {
   "cell_type": "code",
   "execution_count": 10,
   "metadata": {},
   "outputs": [
    {
     "name": "stdout",
     "output_type": "stream",
     "text": [
      "******************************************************************************\n",
      "*Tree    :p500d0    : TOF data with momentum=500 MeV and a distance of 0     *\n",
      "*Entries :     5000 : Total =           81768 bytes  File  Size =      75640 *\n",
      "*        :          : Tree compression factor =   1.07                       *\n",
      "******************************************************************************\n",
      "*Br    0 :Detector1 : Detector1/D                                            *\n",
      "*Entries :     5000 : Total  Size=      40665 bytes  File Size  =      37479 *\n",
      "*Baskets :        2 : Basket Size=      32000 bytes  Compression=   1.07     *\n",
      "*............................................................................*\n",
      "*Br    1 :Detector2 : Detector2/D                                            *\n",
      "*Entries :     5000 : Total  Size=      40665 bytes  File Size  =      37602 *\n",
      "*Baskets :        2 : Basket Size=      32000 bytes  Compression=   1.07     *\n",
      "*............................................................................*\n"
     ]
    }
   ],
   "source": [
    "canvas1 = TCanvas('c1', 'c2', 800, 600)\n",
    "\n",
    "p500d0.Print()"
   ]
  },
  {
   "cell_type": "code",
   "execution_count": 12,
   "metadata": {},
   "outputs": [],
   "source": [
    "p500d0.Draw('Detector1')"
   ]
  },
  {
   "cell_type": "code",
   "execution_count": 13,
   "metadata": {},
   "outputs": [
    {
     "data": {
      "image/png": "[encoded data removed]",
      "text/plain": [
       "<IPython.core.display.Image object>"
      ]
     },
     "metadata": {},
     "output_type": "display_data"
    }
   ],
   "source": [
    "canvas1.Draw()"
   ]
  },
  {
   "cell_type": "code",
   "execution_count": 14,
   "metadata": {},
   "outputs": [],
   "source": [
    "from ROOT import TH1D\n",
    "from ROOT import kRed"
   ]
  },
  {
   "cell_type": "code",
   "execution_count": 18,
   "metadata": {},
   "outputs": [
    {
     "name": "stderr",
     "output_type": "stream",
     "text": [
      "Warning in <TFile::Append>: Replacing existing TH1: hist1 (Potential memory leak).\n",
      "Warning in <TFile::Append>: Replacing existing TH1: hist2 (Potential memory leak).\n",
      "Warning in <TCanvas::Constructor>: Deleting canvas with same name: c2\n"
     ]
    },
    {
     "data": {
      "image/png": "[encoded data removed]",
      "text/plain": [
       "<IPython.core.display.Image object>"
      ]
     },
     "metadata": {},
     "output_type": "display_data"
    }
   ],
   "source": [
    "hist1 = TH1D('hist1', 'Detector 1;', 50, 35, 85)\n",
    "hist2 = TH1D('hist2', 'Detector 2', 50, 35, 85)\n",
    "p500d0.Draw('Detector1>>hist1')\n",
    "p500d0.Draw('Detector2>>hist2')\n",
    "\n",
    "canvas2 = TCanvas('c2','c2', 800, 600)\n",
    "hist1.Draw()\n",
    "hist2.Draw('same')\n",
    "canvas2.Draw()\n"
   ]
  },
  {
   "cell_type": "code",
   "execution_count": 1,
   "metadata": {},
   "outputs": [
    {
     "name": "stdout",
     "output_type": "stream",
     "text": [
      "['converted_002602.root', 'converted_002595.root', 'converted_002594.root', 'converted_002584.root', 'converted_002591.root', 'converted_002593.root', 'converted_002600.root', 'converted_002606.root', 'converted_002608.root', 'converted_002574.root', 'converted_002596.root', 'converted_002604.root', 'converted_002592.root', 'converted_002605.root', 'converted_002603.root', 'converted_002589.root', 'converted_002599.root', 'converted_002598.root', 'converted_002585.root', 'converted_002590.root']\n"
     ]
    }
   ],
   "source": [
    "import os\n",
    "\n",
    "print(os.listdir(\"/nfs/dust/fhlabs/group/BL4S/convertedData/ParticlePeers/converted\"))"
   ]
  },
  {
   "cell_type": "code",
   "execution_count": 2,
   "metadata": {},
   "outputs": [
    {
     "name": "stdout",
     "output_type": "stream",
     "text": [
      "Welcome to JupyROOT 6.18/02\n"
     ]
    }
   ],
   "source": [
    "from ROOT import TFile"
   ]
  },
  {
   "cell_type": "code",
   "execution_count": 7,
   "metadata": {},
   "outputs": [],
   "source": [
    "t = TFile(\"/nfs/dust/fhlabs/group/BL4S/convertedData/ParticlePeers/converted/converted_002590.root\")"
   ]
  },
  {
   "cell_type": "code",
   "execution_count": null,
   "metadata": {},
   "outputs": [],
   "source": []
  }
 ],
 "metadata": {
  "kernelspec": {
   "display_name": "Python 3",
   "language": "python",
   "name": "python3"
  },
  "language_info": {
   "codemirror_mode": {
    "name": "ipython",
    "version": 3
   },
   "file_extension": ".py",
   "mimetype": "text/x-python",
   "name": "python",
   "nbconvert_exporter": "python",
   "pygments_lexer": "ipython3",
   "version": "3.6.8"
  }
 },
 "nbformat": 4,
 "nbformat_minor": 2
}

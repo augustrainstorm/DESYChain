{
 "cells": [
  {
   "cell_type": "markdown",
   "metadata": {},
   "source": [
    "# Information from e-mail\n",
    "\n",
    "The second exercise focuses on alignment. A single root file is provided, called Alignment.root. Inside this root file you will find 7 ttrees. The first two ttrees, preparation1 and preparation2, are relatively simple and just show how data can be stored in a ttree. The preparation2 one is particularly important because it is showing how an array of values can be stored for each event. The next 4 ttrees (step1 to step4) are the bulk of the exercise. The last ttree, challenge, is a challenge if you would like to try it. Each of these ttree has the emulated data from 6 pixel detectors. The detectors are placed along the z axis at positions 10 cm, 20 cm, 45 cm, 70 cm, 78 cm, 84 cm. Each event stored in the ttree corresponds to one particle travelling through the detectors. The trees have the following properties:\n",
    "  - step1: the detectors are perfectly aligned, this is provided for you to experiment and test things out\n",
    "  - step2: the detectors are misaligned by unknown amounts in the x axis. You have to figure out by how much for each detector\n",
    "  - step3: the detectors are misaligned by unknown amounts in the y axis. You have to figure out by how much for each detector\n",
    "  - step4: the detectors are misaligned by unknown amounts in the x and y axis. You have to figure out by how much for each detector\n",
    "  - challenge: you have no information on the detectors apart from the position along z. Can you figure out the alignment of the detectors?\n",
    "  \n",
    "In all trees of this exercise the pixel6 detector has its position perfectly known, centered at (0, 0, 84). You will need to calculate the alignment for the other detectors. The simulated pixel detectors have dimensions of 4 cm by 2 cm with 1200 pixels in x and 600 in y, making a total of 720k pixels. When a particle traverses a pixel detector it deposits some energy locally, this energy is spread over an area and typically affects more than one pixel. Each pixel that passes a threshold is said to be a hit. You will notice in the ttree that there are branches called pixelN_numHits, this is the number of hits in that detector for that event. The pixelN_hitX and pixelN_hitY are the coordinates in X and Y of the corresponding pixel hits (i.e. these branches are actually arrays of values per event). Finally, you will see another two branches pixelN_clusterX and pixelN_clusterY, these are the result of running a clustering algorithm on the hits and are the output of a would-be reconstruction code. A good mini exercise could be for you to take the hits themselves and try to get yourselves the cluster X and Y values."
   ]
  },
  {
   "cell_type": "code",
   "execution_count": 1,
   "metadata": {},
   "outputs": [
    {
     "name": "stdout",
     "output_type": "stream",
     "text": [
      "Welcome to JupyROOT 6.18/02\n"
     ]
    }
   ],
   "source": [
    "from ROOT import TFile\n",
    "\n",
    "inputFile = TFile(\"Alignment.root\", \"READ\")"
   ]
  },
  {
   "cell_type": "code",
   "execution_count": 2,
   "metadata": {
    "scrolled": true
   },
   "outputs": [
    {
     "name": "stdout",
     "output_type": "stream",
     "text": [
      "TFile**\t\tAlignment.root\t\n",
      " TFile*\t\tAlignment.root\t\n",
      "  KEY: TTree\tpreparation1;1\tsimple tree\n",
      "  KEY: TTree\tpreparation2;1\ta tree with an array\n",
      "  KEY: TTree\tstep1;1\t6 Pixel detectors aligned\n",
      "  KEY: TTree\tstep2;1\t6 Pixel detectors with unknown shifts in x\n",
      "  KEY: TTree\tstep3;1\t6 Pixel detectors with unknown shifts in y\n",
      "  KEY: TTree\tstep4;1\t6 Pixel detectors with unknown shifts in x and y\n",
      "  KEY: TTree\tchallenge;1\t6 Pixel detectors: are you able to figure out what happened to these detectors?\n"
     ]
    }
   ],
   "source": [
    "inputFile.ls()"
   ]
  },
  {
   "cell_type": "markdown",
   "metadata": {},
   "source": [
    "Now that we understand how arrays work inside flat TTrees, lets take a look at the data from the pixels"
   ]
  },
  {
   "cell_type": "code",
   "execution_count": 21,
   "metadata": {},
   "outputs": [],
   "source": [
    "from ROOT import TH1F, TCanvas, TFile\n",
    "inputFile = TFile(\"Alignment.root\", \"READ\")\n",
    "step2 = inputFile.Get(\"step2\")\n",
    "counter = 0\n",
    "pixel0_clusterX = []\n",
    "pixel1_clusterX = []\n",
    "pixel2_clusterX = []\n",
    "pixel3_clusterX = []\n",
    "pixel4_clusterX = []\n",
    "pixel5_clusterX = []\n",
    "\n",
    "pixel0_clusterY = []\n",
    "pixel1_clusterY = []\n",
    "pixel2_clusterY = []\n",
    "pixel3_clusterY = []\n",
    "pixel4_clusterY = []\n",
    "pixel5_clusterY = []\n",
    "\n",
    "for event in step2:\n",
    "    pixel0_clusterX.append(getattr(event, 'pixel0_clusterX'))\n",
    "    pixel1_clusterX.append(getattr(event, 'pixel1_clusterX'))\n",
    "    pixel2_clusterX.append(getattr(event, 'pixel2_clusterX'))\n",
    "    pixel3_clusterX.append(getattr(event, 'pixel3_clusterX'))\n",
    "    pixel4_clusterX.append(getattr(event, 'pixel4_clusterX'))\n",
    "    pixel5_clusterX.append(getattr(event, 'pixel5_clusterX'))\n",
    "    \n",
    "    pixel0_clusterY.append(getattr(event, 'pixel0_clusterY'))\n",
    "    pixel1_clusterY.append(getattr(event, 'pixel1_clusterY'))\n",
    "    pixel2_clusterY.append(getattr(event, 'pixel2_clusterY'))\n",
    "    pixel3_clusterY.append(getattr(event, 'pixel3_clusterY'))\n",
    "    pixel4_clusterY.append(getattr(event, 'pixel4_clusterY'))\n",
    "    pixel5_clusterY.append(getattr(event, 'pixel5_clusterY'))\n",
    "    counter += 1\n",
    "\n",
    "    if counter >= 5000:\n",
    "        break"
   ]
  },
  {
   "cell_type": "code",
   "execution_count": 22,
   "metadata": {
    "scrolled": true
   },
   "outputs": [
    {
     "data": {
      "text/plain": [
       "0.021204874171165285"
      ]
     },
     "execution_count": 22,
     "metadata": {},
     "output_type": "execute_result"
    },
    {
     "data": {
      "image/png": "[encoded data removed]",
      "text/plain": [
       "<Figure size 432x288 with 1 Axes>"
      ]
     },
     "metadata": {},
     "output_type": "display_data"
    }
   ],
   "source": [
    "from matplotlib.pyplot import hist\n",
    "import seaborn as sns\n",
    "import numpy as np\n",
    "sns.set()\n",
    "\n",
    "diff = [x-y for x,y in zip(pixel4_clusterX, pixel5_clusterX)]\n",
    "h = hist(diff, 100, (-2, 2))\n",
    "np.array(diff).mean()"
   ]
  },
  {
   "cell_type": "code",
   "execution_count": null,
   "metadata": {},
   "outputs": [],
   "source": [
    "from ROOT import TFile\n",
    "\n",
    "class Particle:\n",
    "    x = 0\n",
    "    y = 0\n",
    "    cluster = []\n",
    "    \n",
    "class Plane:\n",
    "    \n",
    "    def __init__(self, x, y, z):\n",
    "        self.x = x\n",
    "        self.y = y\n",
    "        self.z = z\n",
    "        \n",
    "    @x.setter\n",
    "    def x (self, x):\n",
    "        self.x = x\n",
    "        \n",
    "    @y.setter\n",
    "    def y (self, y):\n",
    "        self.y = y\n",
    "        \n",
    "    def correct_offset_x(self, offset_x):\n",
    "        self.x += offset_x\n",
    "        \n",
    "    def correct_offset_y(self, offset_y):\n",
    "        self.y += offset_y\n",
    "        \n",
    "class Event:\n",
    "    \n",
    "    def __init__(self, event):\n",
    "        self.event = event\n",
    "        \n",
    "    def get_branch_value(self, branch):\n",
    "        return getattr(self.event, branch)\n",
    "    \n",
    "class Calibration:\n",
    "    \n",
    "    def __init__(self, root_file):\n",
    "        self.input_file = \n",
    "    \n",
    "if __name__== '__name__':\n",
    "    \n",
    "    "
   ]
  }
 ],
 "metadata": {
  "kernelspec": {
   "display_name": "Python 3",
   "language": "python",
   "name": "python3"
  },
  "language_info": {
   "codemirror_mode": {
    "name": "ipython",
    "version": 3
   },
   "file_extension": ".py",
   "mimetype": "text/x-python",
   "name": "python",
   "nbconvert_exporter": "python",
   "pygments_lexer": "ipython3",
   "version": "3.6.8"
  }
 },
 "nbformat": 4,
 "nbformat_minor": 2
}

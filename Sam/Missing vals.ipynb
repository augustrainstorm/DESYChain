{
 "cells": [
  {
   "cell_type": "code",
   "execution_count": 1,
   "metadata": {},
   "outputs": [
    {
     "name": "stdout",
     "output_type": "stream",
     "text": [
      "Welcome to JupyROOT 6.20/04\n"
     ]
    }
   ],
   "source": [
    "from ROOT import TFile\n",
    "inputFile = TFile(\"/nfs/dust/fhlabs/group/BL4S/data/DESYChain/ConvertedData/1572105827.root\", \"READ\")"
   ]
  },
  {
   "cell_type": "code",
   "execution_count": 2,
   "metadata": {},
   "outputs": [
    {
     "name": "stdout",
     "output_type": "stream",
     "text": [
      "TFile**\t\t/nfs/dust/fhlabs/group/BL4S/data/DESYChain/ConvertedData/1572105827.root\t\n",
      " TFile*\t\t/nfs/dust/fhlabs/group/BL4S/data/DESYChain/ConvertedData/1572105827.root\t\n",
      "  KEY: TTree\tRAWdata;1\tBL4S RAW data tree\n",
      "  KEY: TTree\tRECOdata;1\tBL4S RECO data tree\n"
     ]
    }
   ],
   "source": [
    "inputFile.ls()"
   ]
  },
  {
   "cell_type": "code",
   "execution_count": 3,
   "metadata": {},
   "outputs": [
    {
     "name": "stdout",
     "output_type": "stream",
     "text": [
      "******************************************************************************\n",
      "*Tree    :RECOdata  : BL4S RECO data tree                                    *\n",
      "*Entries :   100489 : Total =        38021272 bytes  File  Size =   15555360 *\n",
      "*        :          : Tree compression factor =   2.44                       *\n",
      "******************************************************************************\n",
      "*Br    0 :NChamber1_position :                                               *\n",
      "*         | UInt_t Number of entries in branch Chamber1_position             *\n",
      "*Entries :   100489 : Total  Size=     403755 bytes  File Size  =      35236 *\n",
      "*Baskets :       13 : Basket Size=      32000 bytes  Compression=  11.44     *\n",
      "*............................................................................*\n",
      "*Br    1 :Chamber1_position :                                                *\n",
      "*         | Double_t Local position of Chamber1 clusters in cm               *\n",
      "*Entries :   100489 : Total  Size=     553030 bytes  File Size  =     127669 *\n",
      "*Baskets :       30 : Basket Size=      32000 bytes  Compression=   4.32     *\n",
      "*............................................................................*\n",
      "*Br    2 :NChamber2_position :                                               *\n",
      "*         | UInt_t Number of entries in branch Chamber2_position             *\n",
      "*Entries :   100489 : Total  Size=     403755 bytes  File Size  =      41357 *\n",
      "*Baskets :       13 : Basket Size=      32000 bytes  Compression=   9.75     *\n",
      "*............................................................................*\n",
      "*Br    3 :Chamber2_position :                                                *\n",
      "*         | Double_t Local position of Chamber2 clusters in cm               *\n",
      "*Entries :   100489 : Total  Size=     621838 bytes  File Size  =     186929 *\n",
      "*Baskets :       32 : Basket Size=      32000 bytes  Compression=   3.32     *\n",
      "*............................................................................*\n",
      "*Br    4 :NChamber3_position :                                               *\n",
      "*         | UInt_t Number of entries in branch Chamber3_position             *\n",
      "*Entries :   100489 : Total  Size=     403755 bytes  File Size  =      36661 *\n",
      "*Baskets :       13 : Basket Size=      32000 bytes  Compression=  11.00     *\n",
      "*............................................................................*\n",
      "*Br    5 :Chamber3_position :                                                *\n",
      "*         | Double_t Local position of Chamber3 clusters in cm               *\n",
      "*Entries :   100489 : Total  Size=     649986 bytes  File Size  =     160125 *\n",
      "*Baskets :       33 : Basket Size=      32000 bytes  Compression=   4.05     *\n",
      "*............................................................................*\n",
      "*Br    6 :NMimosa0_xPosition :                                               *\n",
      "*         | UInt_t Number of entries in branch Mimosa0_xPosition             *\n",
      "*Entries :   100489 : Total  Size=     403755 bytes  File Size  =      85321 *\n",
      "*Baskets :       13 : Basket Size=      32000 bytes  Compression=   4.72     *\n",
      "*............................................................................*\n",
      "*Br    7 :Mimosa0_xPosition :                                                *\n",
      "*         | Double_t Local position in x-axis of Mimosa0 clusters in cm      *\n",
      "*Entries :   100489 : Total  Size=    4905007 bytes  File Size  =    2221640 *\n",
      "*Baskets :      166 : Basket Size=      32000 bytes  Compression=   2.21     *\n",
      "*............................................................................*\n",
      "*Br    8 :NMimosa0_yPosition :                                               *\n",
      "*         | UInt_t Number of entries in branch Mimosa0_yPosition             *\n",
      "*Entries :   100489 : Total  Size=     403755 bytes  File Size  =      85321 *\n",
      "*Baskets :       13 : Basket Size=      32000 bytes  Compression=   4.72     *\n",
      "*............................................................................*\n",
      "*Br    9 :Mimosa0_yPosition :                                                *\n",
      "*         | Double_t Local position in y-axis of Mimosa0 clusters in cm      *\n",
      "*Entries :   100489 : Total  Size=    4905007 bytes  File Size  =    2115544 *\n",
      "*Baskets :      166 : Basket Size=      32000 bytes  Compression=   2.32     *\n",
      "*............................................................................*\n",
      "*Br   10 :NMimosa1_xPosition :                                               *\n",
      "*         | UInt_t Number of entries in branch Mimosa1_xPosition             *\n",
      "*Entries :   100489 : Total  Size=     403755 bytes  File Size  =      81582 *\n",
      "*Baskets :       13 : Basket Size=      32000 bytes  Compression=   4.94     *\n",
      "*............................................................................*\n",
      "*Br   11 :Mimosa1_xPosition :                                                *\n",
      "*         | Double_t Local position in x-axis of Mimosa1 clusters in cm      *\n",
      "*Entries :   100489 : Total  Size=    3864071 bytes  File Size  =    1814530 *\n",
      "*Baskets :      134 : Basket Size=      32000 bytes  Compression=   2.13     *\n",
      "*............................................................................*\n",
      "*Br   12 :NMimosa1_yPosition :                                               *\n",
      "*         | UInt_t Number of entries in branch Mimosa1_yPosition             *\n",
      "*Entries :   100489 : Total  Size=     403755 bytes  File Size  =      81582 *\n",
      "*Baskets :       13 : Basket Size=      32000 bytes  Compression=   4.94     *\n",
      "*............................................................................*\n",
      "*Br   13 :Mimosa1_yPosition :                                                *\n",
      "*         | Double_t Local position in y-axis of Mimosa1 clusters in cm      *\n",
      "*Entries :   100489 : Total  Size=    3864071 bytes  File Size  =    1758229 *\n",
      "*Baskets :      134 : Basket Size=      32000 bytes  Compression=   2.20     *\n",
      "*............................................................................*\n",
      "*Br   14 :NMimosa2_xPosition :                                               *\n",
      "*         | UInt_t Number of entries in branch Mimosa2_xPosition             *\n",
      "*Entries :   100489 : Total  Size=     403755 bytes  File Size  =      80443 *\n",
      "*Baskets :       13 : Basket Size=      32000 bytes  Compression=   5.01     *\n",
      "*............................................................................*\n",
      "*Br   15 :Mimosa2_xPosition :                                                *\n",
      "*         | Double_t Local position in x-axis of Mimosa2 clusters in cm      *\n",
      "*Entries :   100489 : Total  Size=    4411067 bytes  File Size  =    1915173 *\n",
      "*Baskets :      151 : Basket Size=      32000 bytes  Compression=   2.30     *\n",
      "*............................................................................*\n",
      "*Br   16 :NMimosa2_yPosition :                                               *\n",
      "*         | UInt_t Number of entries in branch Mimosa2_yPosition             *\n",
      "*Entries :   100489 : Total  Size=     403755 bytes  File Size  =      80443 *\n",
      "*Baskets :       13 : Basket Size=      32000 bytes  Compression=   5.01     *\n",
      "*............................................................................*\n",
      "*Br   17 :Mimosa2_yPosition :                                                *\n",
      "*         | Double_t Local position in y-axis of Mimosa2 clusters in cm      *\n",
      "*Entries :   100489 : Total  Size=    4411067 bytes  File Size  =    1852183 *\n",
      "*Baskets :      151 : Basket Size=      32000 bytes  Compression=   2.38     *\n",
      "*............................................................................*\n",
      "*Br   18 :NDWC0_xTime : UInt_t Number of entries in branch DWC0_xTime        *\n",
      "*Entries :   100489 : Total  Size=     403636 bytes  File Size  =      32454 *\n",
      "*Baskets :       13 : Basket Size=      32000 bytes  Compression=  12.42     *\n",
      "*............................................................................*\n",
      "*Br   19 :DWC0_xTime :                                                       *\n",
      "*         | Double_t Time difference of hits along x-axis of DWC0 in ns      *\n",
      "*Entries :   100489 : Total  Size=    1133709 bytes  File Size  =     523917 *\n",
      "*Baskets :       48 : Basket Size=      32000 bytes  Compression=   2.16     *\n",
      "*............................................................................*\n",
      "*Br   20 :NDWC0_yTime : UInt_t Number of entries in branch DWC0_yTime        *\n",
      "*Entries :   100489 : Total  Size=     403636 bytes  File Size  =      33581 *\n",
      "*Baskets :       13 : Basket Size=      32000 bytes  Compression=  12.00     *\n",
      "*............................................................................*\n",
      "*Br   21 :DWC0_yTime :                                                       *\n",
      "*         | Double_t Time difference of hits along y-axis of DWC0 in ns      *\n",
      "*Entries :   100489 : Total  Size=    1139010 bytes  File Size  =     518126 *\n",
      "*Baskets :       49 : Basket Size=      32000 bytes  Compression=   2.20     *\n",
      "*............................................................................*\n",
      "*Br   22 :NDWC0_xPosition : UInt_t Number of entries in branch DWC0_xPosition*\n",
      "*Entries :   100489 : Total  Size=     403704 bytes  File Size  =      35904 *\n",
      "*Baskets :       13 : Basket Size=      32000 bytes  Compression=  11.23     *\n",
      "*............................................................................*\n",
      "*Br   23 :DWC0_xPosition :                                                   *\n",
      "*         | Double_t Local position in x-axis of DWC0 hits in cm             *\n",
      "*Entries :   100489 : Total  Size=    1157863 bytes  File Size  =     793245 *\n",
      "*Baskets :       49 : Basket Size=      32000 bytes  Compression=   1.46     *\n",
      "*............................................................................*\n",
      "*Br   24 :NDWC0_yPosition : UInt_t Number of entries in branch DWC0_yPosition*\n",
      "*Entries :   100489 : Total  Size=     403704 bytes  File Size  =      35904 *\n",
      "*Baskets :       13 : Basket Size=      32000 bytes  Compression=  11.23     *\n",
      "*............................................................................*\n",
      "*Br   25 :DWC0_yPosition :                                                   *\n",
      "*         | Double_t Local position in y-axis of DWC0 hits in cm             *\n",
      "*Entries :   100489 : Total  Size=    1157863 bytes  File Size  =     807771 *\n",
      "*Baskets :       49 : Basket Size=      32000 bytes  Compression=   1.43     *\n",
      "*............................................................................*\n"
     ]
    }
   ],
   "source": [
    "recoData = inputFile.Get(\"RECOdata\")\n",
    "recoData.Print()"
   ]
  },
  {
   "cell_type": "code",
   "execution_count": 13,
   "metadata": {},
   "outputs": [
    {
     "name": "stdout",
     "output_type": "stream",
     "text": [
      "\n",
      " 99726 44398 100488\n"
     ]
    }
   ],
   "source": [
    "totAll = 0\n",
    "totSome = 0\n",
    "for index, event in enumerate(recoData):\n",
    "    '''if index < 10 or (index > 1000 and index < 1010):\n",
    "        print(f\"{str(event.NChamber1_position)}:{str(event.Chamber1_position)}; \", \n",
    "          f\"{str(event.NChamber2_position)}:{str(event.Chamber2_position)}; \",\n",
    "          f\"{str(event.NChamber3_position)}:{str(event.Chamber3_position)}\", sep = \"\")'''\n",
    "    if (event.NChamber1_position == 0 or event.NChamber2_position == 0 or event.NChamber3_position == 0):\n",
    "        totSome += 1\n",
    "        if not (event.NChamber1_position == 0 and event.NChamber2_position == 0 and event.NChamber3_position == 0):\n",
    "            totAll +=1\n",
    "print(\"\\n\", totSome, totAll, index)\n",
    "        "
   ]
  },
  {
   "cell_type": "code",
   "execution_count": 3,
   "metadata": {},
   "outputs": [
    {
     "name": "stdout",
     "output_type": "stream",
     "text": [
      "\n",
      "1572101587: some MMs empty = 102991, all MMs empty = 60083, total events = 104106\n",
      "\n",
      "1572172945: some MMs empty = 113031, all MMs empty = 50799, total events = 113770\n",
      "\n",
      "1572208366: some MMs empty = 31286, all MMs empty = 5668, total events = 31305\n",
      "\n",
      "1572100097: some MMs empty = 101822, all MMs empty = 62015, total events = 103265\n",
      "\n",
      "1572195254: some MMs empty = 101197, all MMs empty = 37709, total events = 101354\n",
      "\n",
      "1572105827: some MMs empty = 99726, all MMs empty = 44398, total events = 100488\n"
     ]
    }
   ],
   "source": [
    "# Trying with several other files; must have all 3 MMs in \n",
    "files = ['1572101587', '1572172945', '1572208366', '1572100097', '1572195254', '1572105827']\n",
    "for file in files:\n",
    "    inputFile = TFile(f\"/nfs/dust/fhlabs/group/BL4S/data/DESYChain/ConvertedData/{file}.root\", \"READ\")\n",
    "    recoData = inputFile.Get(\"RECOdata\")\n",
    "    totAll = 0\n",
    "    totSome = 0\n",
    "    for index, event in enumerate(recoData):\n",
    "        if (event.NChamber1_position == 0 or event.NChamber2_position == 0 or event.NChamber3_position == 0):\n",
    "            totSome += 1\n",
    "            if not (event.NChamber1_position == 0 and event.NChamber2_position == 0 and event.NChamber3_position == 0):\n",
    "                totAll +=1\n",
    "    print(f\"\\n{file}: some MMs empty = {totSome}, all MMs empty = {totAll}, total events = {index}\")"
   ]
  },
  {
   "cell_type": "code",
   "execution_count": 34,
   "metadata": {},
   "outputs": [
    {
     "name": "stdout",
     "output_type": "stream",
     "text": [
      "run                 NChamber1_position  NChamber2_position  NChamber3_position  NMimosa0_xPosition  \n",
      "1572101587          82187               60477               92141               114                 \n",
      "1572172945          92157               83865               102400              113                 \n",
      "1572208366          27752               29523               30223               37                  \n",
      "1572100097          80771               55906               91089               146                 \n",
      "1572195254          89187               74358               97490               154                 \n",
      "1572105827          83373               75869               86798               160                 \n",
      "\n",
      "\n",
      "run                 NMimosa0_yPosition  NMimosa1_xPosition  NMimosa1_yPosition  NMimosa2_xPosition  \n",
      "1572101587          114                 716                 716                 2                   \n",
      "1572172945          113                 711                 711                 0                   \n",
      "1572208366          37                  125                 125                 0                   \n",
      "1572100097          146                 584                 584                 0                   \n",
      "1572195254          154                 570                 570                 0                   \n",
      "1572105827          160                 638                 638                 0                   \n",
      "\n",
      "\n",
      "run                 NMimosa2_yPosition  NDWC0_xPosition     NDWC0_yPosition     \n",
      "1572101587          2                   4778                4778                \n",
      "1572172945          0                   33213               33213               \n",
      "1572208366          0                   31190               31190               \n",
      "1572100097          0                   5428                5428                \n",
      "1572195254          0                   18110               18110               \n",
      "1572105827          0                   11958               11958               \n"
     ]
    }
   ],
   "source": [
    "#Now let's count in each of the detectors for several runs how many 0-hit events there are\n",
    "attributes = ['NChamber1_position', 'NChamber2_position', 'NChamber3_position',\n",
    "              'NMimosa0_xPosition', 'NMimosa0_yPosition', 'NMimosa1_xPosition',\n",
    "              'NMimosa1_yPosition', 'NMimosa2_xPosition', 'NMimosa2_yPosition',\n",
    "              'NDWC0_xPosition', 'NDWC0_yPosition']\n",
    "\n",
    "count_dict = {i:0 for i in files}\n",
    "for file in files:\n",
    "    inputFile = TFile(f\"/nfs/dust/fhlabs/group/BL4S/data/DESYChain/ConvertedData/{file}.root\", \"READ\")\n",
    "    recoData = inputFile.Get(\"RECOdata\")\n",
    "    zero_count = [0] * len(attributes)\n",
    "    for event in recoData:\n",
    "        for index, attribute in enumerate(attributes):\n",
    "            if getattr(event, attribute) == 0:\n",
    "                zero_count[index] +=1\n",
    "    count_dict[file] = zero_count\n",
    "\n",
    "#Maybe try textwrap instead of 3x statements?\n",
    "#https://docs.python.org/3/library/textwrap.html\n",
    "print(('{:20}'*5).format(*([\"run\"] + attributes[0:4])))\n",
    "for key in count_dict:\n",
    "    print(('{:<20}'*5).format(*([key] + count_dict[key][0:4])))\n",
    "print('\\n')\n",
    "print(('{:20}'*5).format(*([\"run\"] + attributes[4:8])))\n",
    "for key in count_dict:        \n",
    "    print(('{:<20}'*5).format(*([key] + count_dict[key][4:8])))\n",
    "print('\\n')\n",
    "print(('{:20}'*4).format(*([\"run\"] + attributes[8:])))\n",
    "for key in count_dict:        \n",
    "    print(('{:<20}'*4).format(*([key] + count_dict[key][8:])))"
   ]
  },
  {
   "cell_type": "code",
   "execution_count": null,
   "metadata": {},
   "outputs": [],
   "source": [
    "# what about the raw data?\n",
    "recoData = inputFile.Get(\"RAWdata\")\n",
    "recoData.Print()"
   ]
  },
  {
   "cell_type": "code",
   "execution_count": 4,
   "metadata": {},
   "outputs": [
    {
     "ename": "NameError",
     "evalue": "name 'attributes' is not defined",
     "output_type": "error",
     "traceback": [
      "\u001b[0;31m---------------------------------------------------------------------------\u001b[0m",
      "\u001b[0;31mNameError\u001b[0m                                 Traceback (most recent call last)",
      "\u001b[0;32m<ipython-input-4-1d8b3bce03b5>\u001b[0m in \u001b[0;36m<module>\u001b[0;34m\u001b[0m\n\u001b[1;32m     14\u001b[0m     \u001b[0mcount_dict_MMs\u001b[0m\u001b[0;34m[\u001b[0m\u001b[0mfile\u001b[0m\u001b[0;34m]\u001b[0m \u001b[0;34m=\u001b[0m \u001b[0mzero_count\u001b[0m\u001b[0;34m\u001b[0m\u001b[0;34m\u001b[0m\u001b[0m\n\u001b[1;32m     15\u001b[0m \u001b[0;34m\u001b[0m\u001b[0m\n\u001b[0;32m---> 16\u001b[0;31m \u001b[0mprint\u001b[0m\u001b[0;34m(\u001b[0m\u001b[0;34m(\u001b[0m\u001b[0;34m'{:20}'\u001b[0m\u001b[0;34m*\u001b[0m\u001b[0;36m4\u001b[0m\u001b[0;34m)\u001b[0m\u001b[0;34m.\u001b[0m\u001b[0mformat\u001b[0m\u001b[0;34m(\u001b[0m\u001b[0;34m*\u001b[0m\u001b[0;34m(\u001b[0m\u001b[0;34m[\u001b[0m\u001b[0;34m\"run\"\u001b[0m\u001b[0;34m]\u001b[0m \u001b[0;34m+\u001b[0m \u001b[0mattributes\u001b[0m\u001b[0;34m)\u001b[0m\u001b[0;34m)\u001b[0m\u001b[0;34m)\u001b[0m\u001b[0;34m\u001b[0m\u001b[0;34m\u001b[0m\u001b[0m\n\u001b[0m\u001b[1;32m     17\u001b[0m \u001b[0;32mfor\u001b[0m \u001b[0mkey\u001b[0m \u001b[0;32min\u001b[0m \u001b[0mcount_dict_MMs\u001b[0m\u001b[0;34m:\u001b[0m\u001b[0;34m\u001b[0m\u001b[0;34m\u001b[0m\u001b[0m\n\u001b[1;32m     18\u001b[0m     \u001b[0mprint\u001b[0m\u001b[0;34m(\u001b[0m\u001b[0;34m(\u001b[0m\u001b[0;34m'{:<20}'\u001b[0m\u001b[0;34m*\u001b[0m\u001b[0;36m5\u001b[0m\u001b[0;34m)\u001b[0m\u001b[0;34m.\u001b[0m\u001b[0mformat\u001b[0m\u001b[0;34m(\u001b[0m\u001b[0;34m*\u001b[0m\u001b[0;34m(\u001b[0m\u001b[0;34m[\u001b[0m\u001b[0mkey\u001b[0m\u001b[0;34m]\u001b[0m \u001b[0;34m+\u001b[0m \u001b[0mcount_dict_MMs\u001b[0m\u001b[0;34m[\u001b[0m\u001b[0mkey\u001b[0m\u001b[0;34m]\u001b[0m\u001b[0;34m)\u001b[0m\u001b[0;34m)\u001b[0m\u001b[0;34m)\u001b[0m\u001b[0;34m\u001b[0m\u001b[0;34m\u001b[0m\u001b[0m\n",
      "\u001b[0;31mNameError\u001b[0m: name 'attributes' is not defined"
     ]
    }
   ],
   "source": [
    "import handy_utilities as hu\n",
    "\n",
    "attribute_MMs = ['[N]MM_1R_hitChannel', '[N]MM_1L_hitChannel', '[N]MM_2T_hitChannel']\n",
    "count_dict_MMs = {i:0 for i in files}\n",
    "for file in files:\n",
    "    inputFile = TFile(f\"/nfs/dust/fhlabs/group/BL4S/data/DESYChain/ConvertedData/{file}.root\", \"READ\")\n",
    "    recoData = inputFile.Get(\"RAWdata\")\n",
    "    recoData = hu.renameBranches_alias(recoData)\n",
    "    zero_count = [0] * len(attribute_MMs)\n",
    "    for event in recoData:\n",
    "        for index, attribute in enumerate(attribute_MMs):\n",
    "            if getattr(event, attribute) == 0:\n",
    "                zero_count[index] +=1\n",
    "    count_dict_MMs[file] = zero_count\n",
    "    \n",
    "print(('{:20}'*4).format(*([\"run\"] + attribute_MMs)))\n",
    "for key in count_dict_MMs:\n",
    "    print(('{:<20}'*5).format(*([key] + count_dict_MMs[key])))"
   ]
  },
  {
   "cell_type": "code",
   "execution_count": 6,
   "metadata": {},
   "outputs": [
    {
     "name": "stdout",
     "output_type": "stream",
     "text": [
      "run                 [N]MM_1R_hitChannel [N]MM_1L_hitChannel [N]MM_2T_hitChannel \n",
      "1572101587          76634               86816               92141               \n",
      "1572172945          84461               112906              102400              \n",
      "1572208366          30862               29925               30223               \n",
      "1572100097          69650               87637               91089               \n",
      "1572195254          99557               75672               97490               \n",
      "1572105827          97917               77710               86798               \n"
     ]
    }
   ],
   "source": [
    "print(('{:20}'*4).format(*([\"run\"] + attribute_MMs)))\n",
    "for key in count_dict_MMs:\n",
    "    print(('{:<20}'*4).format(*([key] + count_dict_MMs[key])))"
   ]
  },
  {
   "cell_type": "code",
   "execution_count": null,
   "metadata": {},
   "outputs": [],
   "source": []
  }
 ],
 "metadata": {
  "kernelspec": {
   "display_name": "Python 3",
   "language": "python",
   "name": "python3"
  },
  "language_info": {
   "codemirror_mode": {
    "name": "ipython",
    "version": 3
   },
   "file_extension": ".py",
   "mimetype": "text/x-python",
   "name": "python",
   "nbconvert_exporter": "python",
   "pygments_lexer": "ipython3",
   "version": "3.6.8"
  }
 },
 "nbformat": 4,
 "nbformat_minor": 4
}

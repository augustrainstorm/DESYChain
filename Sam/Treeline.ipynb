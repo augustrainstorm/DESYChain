{
 "cells": [
  {
   "cell_type": "markdown",
   "metadata": {},
   "source": [
    "# Treeline\n",
    "### (the ROOT equivalent of a *pipeline*)\n",
    "\n",
    "In the big picutre, we don't have too much data and this doesn't need to be too automated. I've been focussed a lot on figuring out how to deal with the TTree format more efficiently, but that might not be the best way to go about it. Trying just to go w/ straightforward **slices** and iteration"
   ]
  },
  {
   "cell_type": "code",
   "execution_count": null,
   "metadata": {},
   "outputs": [],
   "source": [
    "# imports, all in one place for ease of running\n",
    "# apart from this, each sub-heading (e.g. Position, Calculating energy…) should be self-contained\n",
    "# i.e. we import libraries and ROOT file here \n",
    "\n",
    "from ROOT import TFile, TProfile, TCanvas, TH1D, TH2D\n",
    "import numpy as np\n",
    "import matplotlib.pyplot as plt\n",
    "import pandas as pd\n",
    "import os\n",
    "import sys\n",
    "import math\n",
    "from array import array\n",
    "\n",
    "#For our rectangles\n",
    "from matplotlib import cm\n",
    "from matplotlib.patches import Rectangle"
   ]
  },
  {
   "cell_type": "markdown",
   "metadata": {},
   "source": [
    "### Position\n",
    "Using August and Charlie's normalized x-y positions, to plot for different detectors"
   ]
  },
  {
   "cell_type": "code",
   "execution_count": null,
   "metadata": {},
   "outputs": [],
   "source": [
    "closest_alignment = 0 # <- "
   ]
  },
  {
   "cell_type": "markdown",
   "metadata": {},
   "source": [
    "#### And now using z-positions"
   ]
  },
  {
   "cell_type": "markdown",
   "metadata": {},
   "source": [
    "### Exluding noisy pixels, and noisy events"
   ]
  },
  {
   "cell_type": "markdown",
   "metadata": {},
   "source": [
    "### Excluding events with multiple tracks"
   ]
  },
  {
   "cell_type": "markdown",
   "metadata": {},
   "source": [
    "### Calculating energy by magnet deflection\n",
    "\n",
    "#### Finding $\\theta$ by fitting a linear model"
   ]
  },
  {
   "cell_type": "markdown",
   "metadata": {},
   "source": [
    "#### And calcuating angle using, as Cristóvão notes,\n",
    "$$ \\sin\\theta = 0.3\\frac{L\\cdot B}{p} $$"
   ]
  },
  {
   "cell_type": "markdown",
   "metadata": {},
   "source": [
    "### Deposited calorimter energy\n",
    "(with our favourite rectangular visualizations!)"
   ]
  },
  {
   "cell_type": "markdown",
   "metadata": {},
   "source": [
    "---\n",
    "### And condensing it to do in parallel to compare different runs"
   ]
  },
  {
   "cell_type": "code",
   "execution_count": 6,
   "metadata": {},
   "outputs": [],
   "source": [
    "# Above, I've noted with `# <-` places where we can reference our spreadsheet to import needed data\n",
    "# Let's put that to use!"
   ]
  },
  {
   "cell_type": "code",
   "execution_count": null,
   "metadata": {},
   "outputs": [],
   "source": []
  }
 ],
 "metadata": {
  "kernelspec": {
   "display_name": "Python 3",
   "language": "python",
   "name": "python3"
  },
  "language_info": {
   "codemirror_mode": {
    "name": "ipython",
    "version": 3
   },
   "file_extension": ".py",
   "mimetype": "text/x-python",
   "name": "python",
   "nbconvert_exporter": "python",
   "pygments_lexer": "ipython3",
   "version": "3.6.8"
  }
 },
 "nbformat": 4,
 "nbformat_minor": 4
}

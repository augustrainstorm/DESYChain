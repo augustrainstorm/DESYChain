{
 "cells": [
  {
   "cell_type": "markdown",
   "metadata": {},
   "source": [
    "Paul says about the magnet...\n",
    ">The magnetic field is not fully homogeneous, so the Teslas is not really enough. What you need is the $T\\cdot m$ unit. attached a zipped folder (now `magnet_field`) for you — that's all the information I was once supplied with for this magnet. It contains\n",
    "> - The measurements of the magnetic field versus the longitudinal position, one file for each step in currents: `md365.XX1.4`, where `XX` stands for the current in amps times 100. The current is also written at the top of each of these text files. Then you find the longitudinal position in the first column and the magn field in Gauss ($10^{-4}$ T) in the second column.\n",
    "> - The representation of all these files as graphs: `md365_21.*`\n",
    "> - The integrated magnetic field in $T\\cdot m$ for all currents in text and graph: `md365_int*`"
   ]
  },
  {
   "cell_type": "code",
   "execution_count": null,
   "metadata": {},
   "outputs": [],
   "source": []
  }
 ],
 "metadata": {
  "kernelspec": {
   "display_name": "Python 3",
   "language": "python",
   "name": "python3"
  },
  "language_info": {
   "codemirror_mode": {
    "name": "ipython",
    "version": 3
   },
   "file_extension": ".py",
   "mimetype": "text/x-python",
   "name": "python",
   "nbconvert_exporter": "python",
   "pygments_lexer": "ipython3",
   "version": "3.6.8"
  }
 },
 "nbformat": 4,
 "nbformat_minor": 4
}

{
 "cells": [
  {
   "cell_type": "markdown",
   "metadata": {},
   "source": [
    "# Treeline\n",
    "### (the ROOT equivalent of a *pipeline*)\n",
    "\n",
    "In the big picture, we don't have too much data and this doesn't need to be too automated. I've been focussed a lot on figuring out how to deal with the TTree format more efficiently, but that might not be the best way to go about it. Trying just to go w/ straightforward **slices** and iteration"
   ]
  },
  {
   "cell_type": "code",
   "execution_count": 1,
   "metadata": {},
   "outputs": [
    {
     "name": "stdout",
     "output_type": "stream",
     "text": [
      "Welcome to JupyROOT 6.20/06\n"
     ]
    }
   ],
   "source": [
    "# imports, all in one place for ease of running\n",
    "# apart from this, each sub-heading (e.g. Position, Calculating energy…) should be self-contained\n",
    "# i.e. we import libraries and ROOT file here \n",
    "\n",
    "from ROOT import TFile, TProfile, TCanvas, TH1D, TH2D\n",
    "import numpy as np\n",
    "from scipy import stats, optimize\n",
    "import matplotlib.pyplot as plt\n",
    "import pandas as pd\n",
    "import os\n",
    "import sys\n",
    "import math\n",
    "from array import array\n",
    "\n",
    "#For our rectangles\n",
    "from matplotlib import cm\n",
    "from matplotlib.patches import Rectangle"
   ]
  },
  {
   "cell_type": "markdown",
   "metadata": {},
   "source": [
    "### Position\n",
    "Confirming the alignment runs, and looking at the range of their distributions"
   ]
  },
  {
   "cell_type": "code",
   "execution_count": null,
   "metadata": {},
   "outputs": [],
   "source": []
  },
  {
   "cell_type": "markdown",
   "metadata": {},
   "source": [
    "Now using August and Charlie's normalized x-y positions, to plot for different detectors"
   ]
  },
  {
   "cell_type": "code",
   "execution_count": null,
   "metadata": {},
   "outputs": [],
   "source": [
    "# We have to remember carefully that the MMs (Chamber 1-3) are 1-D. \n",
    "# To be specifc, MMs 1 & 2 give x-position and MM 3 gives y-position\n",
    "\n",
    "closest_alignment = 0 # <- "
   ]
  },
  {
   "cell_type": "markdown",
   "metadata": {},
   "source": [
    "#### And now using z-positions"
   ]
  },
  {
   "cell_type": "code",
   "execution_count": null,
   "metadata": {},
   "outputs": [],
   "source": [
    "# Copying from run 66 the z-positions \"±1cm\"\n",
    "# Note that Mimosas are \"±0.1cm\"\n",
    "''' stuff that isn't detectors\n",
    "Beam exit point of collimator: -21 cm \n",
    "Concrete stand for the collimator = 0 cm\n",
    "Trigger scintillators begin at 42 cm\n",
    "From front of trigger scintillators to front of black box: 4 cm\n",
    "    Black box length: 12.5 cm\n",
    "Front of BRM: 114 cm\n",
    "Back of BRM: 273 cm\n",
    "'''\n",
    "# And making it as a dict()\n",
    "\n",
    "z_dict = {'NChamber1_position': 345, 'NChamber2_position': 533, 'NChamber3_position': 577,\n",
    "              'NMimosa0_xPosition': 67.5, 'NMimosa0_yPosition': 67.5, 'NMimosa1_xPosition': 75,\n",
    "              'NMimosa1_yPosition': 75, 'NMimosa2_xPosition': 83, 'NMimosa2_yPosition': 83,\n",
    "              'NDWC0_xPosition': 304, 'NDWC0_yPosition': 304}\n",
    "\n",
    "# order the z-dict (using a seperate list) back->front, if desir\n",
    "# plotting x-y, x-z, y-z, and x-y-z"
   ]
  },
  {
   "cell_type": "markdown",
   "metadata": {},
   "source": [
    "### Exluding noisy pixels, and noisy events"
   ]
  },
  {
   "cell_type": "markdown",
   "metadata": {},
   "source": [
    "### Excluding events with multiple tracks (outliers!)"
   ]
  },
  {
   "cell_type": "code",
   "execution_count": null,
   "metadata": {},
   "outputs": [],
   "source": []
  },
  {
   "cell_type": "markdown",
   "metadata": {},
   "source": [
    "### Calculating energy by magnet deflection\n",
    "\n",
    "#### Finding $\\theta$ by fitting a linear model\n",
    "\n",
    "When we have sufficient points to fit a true line to the post-BRM particle, it is easy to calculate $\\theta$\n",
    "$$ \\cos\\theta = \\frac{\\vec{a}\\cdot\\vec{b}}{\\left\\lVert\\vec{a}\\right\\rVert\\left\\lVert\\vec{b}\\right\\rVert} $$\n",
    "![](img/line.png)\n",
    "However, while we shouldn't use it for actual data (probably), we can calculate angle deflected from just one point (i.e. the DWC), using the assumption that the particle bends at a constant angle during its time in the BRM — each point on the other side of the magnet corresponds uniquely to a $\\frac{d\\theta}{dt}$.\n",
    "![](img/single_point.png)\n",
    "Under this assumption, if we let the point the particle enters the BRM as $(x, z) = (0, 0, 0)$, it follows a path described by the partial circle centered at $(r, 0, 0)$\n",
    "$$ z = \\sqrt{r^2 - (x - r)^2}$$\n",
    "where the radius of this path (corresponding to the energy) is our unknown. Let the point it exits the BRM be $(x_e, z_e)$ and where it impacts the DWC be $(x_p, z_p)$. When it exits the BRM, it follows a path given by $\\frac{dz}{dx}$. We know, however, $z_e$, so we can calculate \n",
    "$$ x = -\\sqrt{r^2 - z^2} + r \\implies \\frac{dx}{dz} = \\frac{z}{\\sqrt{r^2-z^2}} \\implies \\frac{dz}{dx}\\Bigr|_{x_e} = \\left(\\frac{dx}{dz}\\Bigr|_{z_e}\\right)^{-1} = \\left(\\frac{\\sqrt{r^2-z_e^2}}{z_e}\\right) $$\n",
    "<center>*note x could be $±\\sqrt{...}$, but $-$ matches up correctly</center>\n",
    "Alternatively, we can calculate the point, $x_e$, and which the particle exits the BRM:\n",
    "$$ x_e = -\\sqrt{r^2 - z_e^2} + r $$\n",
    "And thus find the slope between $(x_e, z_e)$ and $(x_p, z_p)$:\n",
    "$$ m = \\frac{\\Delta z}{\\Delta x} = \\frac{z_p - z_e}{x_p - (-\\sqrt{r^2-z_e^2}+r)} = \\frac{z_p - z_e}{x_p + \\sqrt{r^2-z_e^2} - r}$$\n",
    "Setting these two slopes equal, and solving for r:\n",
    "$$ \\frac{\\sqrt{r^2-z_e^2}}{z_e} = \\frac{z_p - z_e}{x_p + \\sqrt{r^2-z_e^2} - r} $$\n",
    "\n",
    "How do we factor the micromegas (which only have 1-D data) into our linear regression?\n",
    "- Option 1: consider MM-2 and MM-3 as a single point\n",
    "- Option 2: use planes?\n",
    "We can make an *x*-*z* scatterplot with DWC, MM-1 and MM-2, and an *y*-*z* scatterplot with DWC and MM-3. Then, we can get perform linear regression and get an *x*-*z* and *y*-*z* plane (of the form $Ax + By + Cz = D$). By crossing their **normal vectors**, $\\langle A, B, C\\rangle$, $\\vec{n}_1 \\times \\vec{n}_2=\\vec{d}$, we can get the direction vector of the line they intersect along, providing line $\\vec{r}_1 = \\overrightarrow{\\text{DWC}} + \\lambda\\vec{d}$\n",
    "\n",
    "One other important thing to think about is that the magnet should only be deflecting in the *x* direction. We can  restrain any *y*-variance by projecting both our vectors onto the the *x*-*z* plane. [This is done](https://www.maplesoft.com/support/help/Maple/view.aspx?path=MathApps/ProjectionOfVectorOntoPlane) by taking the projection of the vector onto the normal of the plane:\n",
    "$$ \\text{proj}_\\vec{v}\\vec{u} = \\frac{\\vec{u}\\cdot\\vec{v}}{\\rVert\\vec{v}\\lVert^2}\\vec{v}\\\\ \\text{proj}_\\vec{n}\\vec{u} = (\\hat{j}\\cdot\\vec{u})\\hat{j} $$\n",
    "and subtracting that component from our vector:\n",
    "$$ \\text{proj}_{x-z\\text{ plane}}\\vec{u} = \\vec{u} - \\text{proj}_\\hat{j}\\vec{u} = \\vec{u} - (\\hat{j}\\cdot\\vec{u})\\hat{j} $$\n",
    "Of course, in truth since we are projecting onto the *x*-*z* plane, all that's necessary is to remove the *y* component from the vector for $\\text{proj}_\\hat{j}\\vec{u}$."
   ]
  },
  {
   "cell_type": "code",
   "execution_count": 2,
   "metadata": {},
   "outputs": [
    {
     "name": "stdout",
     "output_type": "stream",
     "text": [
      "[1. 1. 1.]\n",
      "[1.         0.         1.85102492]\n",
      "[0.         0.02857724 0.99959159]\n",
      "(0.49532002201705244, 0)\n"
     ]
    }
   ],
   "source": [
    "###---Slope finding---###\n",
    "\n",
    "## With DWCs and all MM2\n",
    "def TD_regression(*, DWC, MM1, MM2, MM3):\n",
    "    x1, y1, z1 = DWC\n",
    "    x2, z2 = MM1\n",
    "    x3, z3 = MM2\n",
    "    y4, z4 = MM3\n",
    "    \n",
    "    xz_regress = stats.linregress([x1, x2, x3],[z1, z2, z3]) #returns [slope, intercept, r_value, p_value, std_err]\n",
    "    xz_vect = [-xz_regress.slope, 0, 1]\n",
    "    yz_regress = stats.linregress([y1, y4], [z1, z4])\n",
    "    yz_vect = [0, -xz_regress.slope, 1]\n",
    "    \n",
    "    return np.cross(xz_vect, yz_vect) #we only need two vectors to find the angle between => no need for intercepts\n",
    "\n",
    "## With only a DWC\n",
    "def radius_func_constructor(z_e, x_p, z_p):\n",
    "    def radius_func(r):\n",
    "        return (math.sqrt(r**2 - z_e**2)/z_e) - ((z_p - z_e)/(x_p + math.sqrt(r**2 - z_e**2) - r))\n",
    "    return radius_func\n",
    "\n",
    "def DWC_x_slope(z_e, x_p, z_p):\n",
    "    radius = optimize.fsolve(radius_func_constructor(z_e, x_p, z_p), z_e)[0] ## we know the radius best be > z_e, so z_e is a fine initial guess\n",
    "    slope = (z_p - z_e)/(x_p + math.sqrt(radius**2 - z_e**2) - radius)\n",
    "    return np.array([1, 0, slope]) #return the direction vector of the line\n",
    "\n",
    "## Dealing with MiM\n",
    "# Someone with more linear algebra should verify this, but I'm trying PCoA \n",
    "# to get the first principal component https://stackoverflow.com/questions/2298390/fitting-a-line-in-3d\n",
    "def MiM_vect(MiM1, MiM2, MiM3): #should be three (x, y, z) vectors\n",
    "    #recall it will return a unit vector (magnitude = 1), => weird/decimal (e.g. 1/sqrt(3)) numbers\n",
    "    MiMs = np.array([MiM1, MiM2, MiM3])\n",
    "    MiM_mean = MiMs.mean(axis = 0)\n",
    "    PC_1 = np.linalg.svd(MiMs - MiM_mean)[2][0]\n",
    "    return PC_1\n",
    "\n",
    "## Getting the angle\n",
    "def angle_vect(vec1, vec2):\n",
    "    return np.arccos((np.dot(vec1, vec2)) / (np.linalg.norm(vec1) * np.linalg.norm(vec2)))\n",
    "\n",
    "def project_vect(vec, plane_normal):\n",
    "    vec = np.array(vec)\n",
    "    plane_normal = np.array(plane_normal)\n",
    "    return np.subtract(vec,\n",
    "                      (np.dot(vec, plane_normal)/np.linalg.norm(plane_normal)**2)*plane_normal) \n",
    "\n",
    "def find_angle(before_vec, after_vec, OnlyDWC = False):\n",
    "    # if we only have a DWC, then we only have x-z info. We can't calculate y-deflection because that doesn't follow our assumption\n",
    "    # in the big picture, we should only care about the x-z deflection anyways\n",
    "    before_vec_xz = project_vect(before_vec, [0, 1, 0])\n",
    "    after_vec_xz = project_vect(after_vec, [0, 1, 0])\n",
    "    angle_sans_y =  angle_vect(before_vec_xz, after_vec_xz)\n",
    "    return_status = 0 #-1 = angle+y≠angle-y; 0 = angle+y not checked; 1 = angle+y = angle-y\n",
    "    if not OnlyDWC: #also calculate angle with y taken into account, and check if it's drastically different\n",
    "        angle_with_y = angle_vect(before_vec, after_vec)\n",
    "        return_status = 1 if abs(angle_with_y - angle_sans_y)<0.02*angle_sans_y else -1\n",
    "    return angle_sans_y, return_status\n",
    "\n",
    "## Testing functions\n",
    "print(TD_regression(DWC = (0, 0, 0), MM1 = (1, 1), MM2 = (2, 2), MM3 = (3, 3)))\n",
    "print(DWC_x_slope(3, 4, 9))\n",
    "#print(MiM_vect((1, 1, 1), (2, 2, 2), (3, 3, 3)))\n",
    "print(MiM_vect([0, 0, -5], [0, 0, -3], [0, 0.1, -2]))\n",
    "## altogether now\n",
    "print(find_angle(MiM_vect([0, 0, -5], [0, 0, -3], [0, 0.1, -2]), \n",
    "                DWC_x_slope(3, 4, 9), OnlyDWC = True)) #0.495rad ~ 28deg"
   ]
  },
  {
   "cell_type": "markdown",
   "metadata": {},
   "source": [
    "#### And calcuating energy using, as Cristóvão notes,\n",
    "$$ \\sin\\theta = 0.3\\frac{L\\cdot B}{p} $$\n",
    "\n",
    "We could ask, just as a sanity check, that the energy calculated from angle matches ±5% with the calorimeters — then use (depending on if it's a one-point $\\theta$ w/ only the DWC or a legit one) either the calorimeter or DWC\n",
    "- though it might be nice to generalise it in terms of scientific-ness"
   ]
  },
  {
   "cell_type": "markdown",
   "metadata": {},
   "source": [
    "### Deposited calorimeter energy\n",
    "(with our favourite rectangular visualizations!)\n",
    "#### Calibrating calorimeters"
   ]
  },
  {
   "cell_type": "markdown",
   "metadata": {},
   "source": [
    "#### Comparing calorimeter and $\\theta$ energy calculatios"
   ]
  },
  {
   "cell_type": "markdown",
   "metadata": {},
   "source": [
    "### Scintillator Voltage Comparisons"
   ]
  },
  {
   "cell_type": "markdown",
   "metadata": {},
   "source": [
    "---\n",
    "### And condensing it to do in parallel to compare different runs"
   ]
  },
  {
   "cell_type": "code",
   "execution_count": 6,
   "metadata": {},
   "outputs": [],
   "source": [
    "# Above, I've noted with `# <-` places where we can reference our spreadsheet to import needed data\n",
    "# Let's put that to use!"
   ]
  },
  {
   "cell_type": "code",
   "execution_count": null,
   "metadata": {},
   "outputs": [],
   "source": []
  }
 ],
 "metadata": {
  "kernelspec": {
   "display_name": "Python 3",
   "language": "python",
   "name": "python3"
  },
  "language_info": {
   "codemirror_mode": {
    "name": "ipython",
    "version": 3
   },
   "file_extension": ".py",
   "mimetype": "text/x-python",
   "name": "python",
   "nbconvert_exporter": "python",
   "pygments_lexer": "ipython3",
   "version": "3.6.8"
  }
 },
 "nbformat": 4,
 "nbformat_minor": 4
}

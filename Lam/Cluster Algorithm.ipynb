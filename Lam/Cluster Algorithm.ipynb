{
 "cells": [
  {
   "cell_type": "code",
   "execution_count": 2,
   "metadata": {},
   "outputs": [],
   "source": [
    "class Cluster:\n",
    "    def __init__(self, pixels_list):\n",
    "        self.x = 0\n",
    "        self.y = 0\n",
    "        self.pixels_list = pixels_list\n",
    "        \n",
    "    def calc_center(self):\n",
    "        sum_x = 0\n",
    "        sum_y = 0\n",
    "        for (i,j) in self.pixels_list:\n",
    "            sum_x += i\n",
    "            sum_y += j\n",
    "            \n",
    "        self.x = sum_x / len(self.pixels_list)\n",
    "        self.y = sum_y / len(self.pixels_list)\n",
    "        \n",
    "        return (self.x, self.y)\n",
    "    \n",
    "    def print(self):\n",
    "        print(self.pixels_list)\n",
    "    \n",
    "    def add(self, pixel):\n",
    "        self.pixels_list.append(pixel)\n",
    "            "
   ]
  },
  {
   "cell_type": "code",
   "execution_count": 7,
   "metadata": {},
   "outputs": [],
   "source": [
    "class ClusterAlgorithm:\n",
    "    def __init__(self, pixels_list):\n",
    "        self.pixels_list = pixels_list\n",
    "        \n",
    "    def calc_clusters(self):\n",
    "        cluster_list = []\n",
    "        \n",
    "        pixels_to_check = list(self.pixels_list)\n",
    "        \n",
    "        for pixel in self.pixels_list:\n",
    "            #Remove current pixel from pixels_to_check list in order to compare all other pixels\n",
    "            if pixel in pixels_to_check:\n",
    "                pixels_to_check.remove(pixel)\n",
    "            else:\n",
    "                continue\n",
    "            \n",
    "            #Determine if current pixel can fit into existing cluster\n",
    "            #If so, return the cluster\n",
    "            found_cluster, cluster = self.has_cluster(cluster_list, pixel)\n",
    "            \n",
    "            if found_cluster:\n",
    "                #Add pixel to existing cluster\n",
    "                cluster_list[cluster_list.index(cluster)].add(pixel)\n",
    "            else:\n",
    "                #Create new cluster from pixel\n",
    "                c = Cluster([pixel])\n",
    "                for pixel_unchecked in pixels_to_check:\n",
    "                    #Add remaining pixels to cluster if they are direct neighbors with current pixel\n",
    "                    if self.are_neighbors(pixel_unchecked, pixel):\n",
    "                        c.add(pixel_unchecked)\n",
    "                        pixels_to_check.remove(pixel_unchecked)\n",
    "                cluster_list.append(c)\n",
    "        \n",
    "        for cluster in cluster_list:\n",
    "            cluster.print()\n",
    "        \n",
    "        return cluster_list\n",
    "         \n",
    "    def are_neighbors(self, pixel1, pixel2):\n",
    "        if abs(pixel1[0] - pixel2[0]) <= 1 and abs(pixel1[1] - pixel2[1]) <= 1:\n",
    "            return True\n",
    "        else:\n",
    "            return False\n",
    "            \n",
    "    def has_cluster(self, cluster_list, pixel):\n",
    "        for cluster in cluster_list:\n",
    "            for p in cluster.pixels_list:\n",
    "                if self.are_neighbors(pixel, p):\n",
    "                    return True, cluster\n",
    "        return False, None\n",
    "            "
   ]
  },
  {
   "cell_type": "code",
   "execution_count": 8,
   "metadata": {},
   "outputs": [],
   "source": [
    "pixels_list = [(1,1), (2,1), (3,1), (4,1), (5,1), (2,2), (6,5), (6,6), (7,6), (7,5), (8,5), (10, 10)]\n",
    "cluster_algo = ClusterAlgorithm(pixels_list)"
   ]
  },
  {
   "cell_type": "code",
   "execution_count": 9,
   "metadata": {},
   "outputs": [
    {
     "name": "stdout",
     "output_type": "stream",
     "text": [
      "[(1, 1), (2, 1), (2, 2), (3, 1), (4, 1), (5, 1)]\n",
      "[(6, 5), (6, 6), (7, 5), (7, 6), (8, 5)]\n",
      "[(10, 10)]\n"
     ]
    }
   ],
   "source": [
    "f = cluster_algo.calc_clusters()"
   ]
  },
  {
   "cell_type": "code",
   "execution_count": 10,
   "metadata": {},
   "outputs": [
    {
     "name": "stdout",
     "output_type": "stream",
     "text": [
      "(2.8333333333333335, 1.1666666666666667)\n",
      "(6.8, 5.4)\n",
      "(10.0, 10.0)\n"
     ]
    }
   ],
   "source": [
    "for cluster in f:\n",
    "    print(cluster.calc_center())"
   ]
  },
  {
   "cell_type": "code",
   "execution_count": null,
   "metadata": {},
   "outputs": [],
   "source": []
  }
 ],
 "metadata": {
  "kernelspec": {
   "display_name": "Python 3",
   "language": "python",
   "name": "python3"
  },
  "language_info": {
   "codemirror_mode": {
    "name": "ipython",
    "version": 3
   },
   "file_extension": ".py",
   "mimetype": "text/x-python",
   "name": "python",
   "nbconvert_exporter": "python",
   "pygments_lexer": "ipython3",
   "version": "3.7.3"
  }
 },
 "nbformat": 4,
 "nbformat_minor": 2
}

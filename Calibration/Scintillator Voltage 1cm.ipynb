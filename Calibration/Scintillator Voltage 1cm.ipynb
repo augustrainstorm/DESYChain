{
 "cells": [
  {
   "cell_type": "code",
   "execution_count": 1,
   "metadata": {},
   "outputs": [],
   "source": [
    "#ok for this we're going to find the most probable value (aka the mode) of the scintillator QDC counts and compare them to voltage in a lovely graph"
   ]
  },
  {
   "cell_type": "code",
   "execution_count": 3,
   "metadata": {},
   "outputs": [],
   "source": [
    "from ROOT import TFile, TCanvas, TH1D\n",
    "import numpy as np\n",
    "runNumbers =[\"1572128197\", \"1571992354\", \"1572199259\", \"1571991208\", \"1572167586\"]\n",
    "#other voltages: \"1572097787\",  \"1572097505\",  \"1572187615\", \"1572169691\", \"1572167644\", \"1572001725\", \"1572002093\"      \n"
   ]
  },
  {
   "cell_type": "code",
   "execution_count": 9,
   "metadata": {},
   "outputs": [
    {
     "data": {
      "text/plain": [
       "[(1186.3129653436044, 1437.3191753701944),\n",
       " (1418.4260863284785, 1688.8160825933903),\n",
       " (3107.8693611947583, 3206.90238375021),\n",
       " (3011.647831695596, 3132.457529668338),\n",
       " (4220.43581215429, 3654.392105263158)]"
      ]
     },
     "execution_count": 9,
     "metadata": {},
     "output_type": "execute_result"
    },
    {
     "name": "stdout",
     "output_type": "stream",
     "text": [
      " FCN=2981.87 FROM MIGRAD    STATUS=CONVERGED     201 CALLS         202 TOTAL\n",
      "                     EDM=8.11211e-10    STRATEGY= 1  ERROR MATRIX UNCERTAINTY   1.5 per cent\n",
      "  EXT PARAMETER                                   STEP         FIRST   \n",
      "  NO.   NAME      VALUE            ERROR          SIZE      DERIVATIVE \n",
      "   1  Constant     5.36695e+04   2.79692e+02  -3.83675e-01  -1.35495e-07\n",
      "   2  MPV          1.18631e+03   4.51308e-01   6.27897e-04  -1.26604e-05\n",
      "   3  Sigma        6.62289e+01   2.80288e-01  -7.92052e-08  -1.48699e-01\n",
      " FCN=1173.98 FROM MIGRAD    STATUS=CONVERGED     198 CALLS         199 TOTAL\n",
      "                     EDM=7.17986e-08    STRATEGY= 1  ERROR MATRIX UNCERTAINTY   3.6 per cent\n",
      "  EXT PARAMETER                                   STEP         FIRST   \n",
      "  NO.   NAME      VALUE            ERROR          SIZE      DERIVATIVE \n",
      "   1  Constant     1.76806e+04   1.47340e+02   2.90594e+00  -4.13792e-06\n",
      "   2  MPV          1.41843e+03   8.53444e-01  -5.53866e-03   4.39963e-04\n",
      "   3  Sigma        7.79248e+01   5.26376e-01  -2.04582e-05  -6.98031e-01\n",
      " FCN=152.26 FROM MIGRAD    STATUS=CONVERGED     113 CALLS         114 TOTAL\n",
      "                     EDM=2.104e-07    STRATEGY= 1      ERROR MATRIX ACCURATE \n",
      "  EXT PARAMETER                                   STEP         FIRST   \n",
      "  NO.   NAME      VALUE            ERROR          SIZE      DERIVATIVE \n",
      "   1  Constant     3.70635e+03   4.93246e+01   2.06602e-01   1.03637e-05\n",
      "   2  MPV          3.10787e+03   3.20217e+00   1.38976e-02   2.09098e-04\n",
      "   3  Sigma        1.51240e+02   2.15602e+00   1.15587e-05  -7.66237e-02\n",
      " FCN=420.532 FROM MIGRAD    STATUS=CONVERGED      99 CALLS         100 TOTAL\n",
      "                     EDM=3.31215e-11    STRATEGY= 1  ERROR MATRIX UNCERTAINTY   2.1 per cent\n",
      "  EXT PARAMETER                                   STEP         FIRST   \n",
      "  NO.   NAME      VALUE            ERROR          SIZE      DERIVATIVE \n",
      "   1  Constant     1.07673e+04   8.45801e+01   5.89241e-02  -3.11671e-08\n",
      "   2  MPV          3.01165e+03   1.75452e+00   1.05221e-03   7.80552e-06\n",
      "   3  Sigma        1.48713e+02   1.19059e+00  -2.61517e-07  -4.64642e-03\n",
      " FCN=15.7375 FROM MIGRAD    STATUS=CONVERGED     166 CALLS         167 TOTAL\n",
      "                     EDM=3.74381e-07    STRATEGY= 1      ERROR MATRIX ACCURATE \n",
      "  EXT PARAMETER                                   STEP         FIRST   \n",
      "  NO.   NAME      VALUE            ERROR          SIZE      DERIVATIVE \n",
      "   1  Constant     6.13072e+02   2.74660e+02   6.41373e-02   1.02567e-05\n",
      "   2  MPV          4.22044e+03   2.36842e+02   1.69808e-02   5.56046e-06\n",
      "   3  Sigma        3.15005e+02   8.31712e+01   1.21555e-05  -3.17056e-02\n"
     ]
    }
   ],
   "source": [
    "#for sam: why did you do the iterat mod 4 in the cell w the comment 'not function graph scint'\n",
    "#Using the 1cm data to compare the voltages\n",
    "\n",
    "from ROOT import TF1\n",
    "import matplotlib.pyplot as plt\n",
    "\n",
    "#means for 1cm scintillator \n",
    "scintMeans1cm = []\n",
    "holdScint = []\n",
    "fitti = TF1('fitti', 'landau')\n",
    "\n",
    "#make it a function so we can run it on any scintillator/voltage\n",
    "def fittiGraph(runNums):\n",
    "    #variables\n",
    "    scintMeans = []\n",
    "    holdScint = []\n",
    "    fitti = TF1('fitti', 'landau')\n",
    "    \n",
    "    \n",
    "    if runNums == []:\n",
    "        return scintMeans\n",
    "    else:\n",
    "        runName = \"/nfs/dust/fhlabs/group/BL4S/data/DESYChain/ConvertedData/\" + runNums[0] + \".root\"\n",
    "        importFile = TFile(runName, \"READ\")\n",
    "        RAWdata = importFile.Get(\"RAWdata\")\n",
    "        \n",
    "        #draw the hist of the run with landau dist\n",
    "        hist1 = TH1D(\"name\", \"hist\", 100, 200, 3800)\n",
    "        RAWdata.Draw(\"QDC0_ch0>>name\", \"QDC0_ch0<3800 && QDC0_ch0>200\")\n",
    "        hist1.Fit(fitti)\n",
    "        \n",
    "        #store the landau MPV and mean\n",
    "        holdScint = [(fitti.GetParameter(\"MPV\"), hist1.GetMean())]\n",
    "        scintMeans = [(np.mean([i[0] for i in holdScint]), np.mean([i[1] for i in holdScint]))]\n",
    "        \n",
    "        return scintMeans + fittiGraph(runNums[1:])\n",
    "            \n",
    "fittiGraph(runNumbers)        \n",
    "        \n",
    "        "
   ]
  },
  {
   "cell_type": "code",
   "execution_count": 12,
   "metadata": {},
   "outputs": [
    {
     "name": "stdout",
     "output_type": "stream",
     "text": [
      "[(2353.6174823190927, 2491.1135592299997)]\n",
      " FCN=2657.52 FROM MIGRAD    STATUS=CONVERGED     206 CALLS         207 TOTAL\n",
      "                     EDM=3.75109e-07    STRATEGY= 1      ERROR MATRIX ACCURATE \n",
      "  EXT PARAMETER                                   STEP         FIRST   \n",
      "  NO.   NAME      VALUE            ERROR          SIZE      DERIVATIVE \n",
      "   1  Constant     4.22038e+04   3.26203e+02   4.92074e+00  -3.23832e-06\n",
      "   2  MPV          5.45703e+02   4.03896e-01   9.95182e-03  -1.36046e-03\n",
      "   3  Sigma        4.02521e+01   2.52584e-01   1.03871e-05  -1.40870e+00\n",
      " FCN=152.26 FROM MIGRAD    STATUS=CONVERGED     111 CALLS         112 TOTAL\n",
      "                     EDM=2.10345e-07    STRATEGY= 1      ERROR MATRIX ACCURATE \n",
      "  EXT PARAMETER                                   STEP         FIRST   \n",
      "  NO.   NAME      VALUE            ERROR          SIZE      DERIVATIVE \n",
      "   1  Constant     3.70635e+03   4.93246e+01   2.06602e-01   1.03580e-05\n",
      "   2  MPV          3.10787e+03   3.20217e+00   1.38976e-02   2.09109e-04\n",
      "   3  Sigma        1.51240e+02   2.15602e+00   1.15587e-05  -7.67054e-02\n",
      " FCN=789.625 FROM MIGRAD    STATUS=CONVERGED     125 CALLS         126 TOTAL\n",
      "                     EDM=1.67026e-10    STRATEGY= 1      ERROR MATRIX ACCURATE \n",
      "  EXT PARAMETER                                   STEP         FIRST   \n",
      "  NO.   NAME      VALUE            ERROR          SIZE      DERIVATIVE \n",
      "   1  Constant     2.21400e+04   1.19868e+02   1.11396e+00  -1.26430e-07\n",
      "   2  MPV          2.88308e+03   1.18871e+00   1.29110e-02   1.67122e-05\n",
      "   3  Sigma        1.49199e+02   7.88817e-01   9.67808e-06  -1.95811e-02\n",
      " FCN=2053.25 FROM MIGRAD    STATUS=CONVERGED     120 CALLS         121 TOTAL\n",
      "                     EDM=2.37478e-07    STRATEGY= 1      ERROR MATRIX ACCURATE \n",
      "  EXT PARAMETER                                   STEP         FIRST   \n",
      "  NO.   NAME      VALUE            ERROR          SIZE      DERIVATIVE \n",
      "   1  Constant     5.67560e+04   1.91254e+02   2.86724e+00  -1.99757e-06\n",
      "   2  MPV          2.87782e+03   7.41893e-01   1.30722e-02  -8.44894e-04\n",
      "   3  Sigma        1.49926e+02   4.92569e-01   9.71170e-06  -3.77314e-01\n",
      " FCN=420.532 FROM MIGRAD    STATUS=CONVERGED      95 CALLS          96 TOTAL\n",
      "                     EDM=2.84458e-11    STRATEGY= 1  ERROR MATRIX UNCERTAINTY   2.2 per cent\n",
      "  EXT PARAMETER                                   STEP         FIRST   \n",
      "  NO.   NAME      VALUE            ERROR          SIZE      DERIVATIVE \n",
      "   1  Constant     1.07673e+04   8.45802e+01   5.62991e-02  -5.49896e-08\n",
      "   2  MPV          3.01165e+03   1.75447e+00   1.00165e-03   7.04783e-06\n",
      "   3  Sigma        1.48713e+02   1.19057e+00  -2.83075e-07  -5.07932e-03\n",
      " FCN=1675.27 FROM MIGRAD    STATUS=CONVERGED     179 CALLS         180 TOTAL\n",
      "                     EDM=8.0163e-10    STRATEGY= 1  ERROR MATRIX UNCERTAINTY   2.6 per cent\n",
      "  EXT PARAMETER                                   STEP         FIRST   \n",
      "  NO.   NAME      VALUE            ERROR          SIZE      DERIVATIVE \n",
      "   1  Constant     2.07647e+04   1.57275e+02   1.86960e-01  -3.80296e-07\n",
      "   2  MPV          1.23722e+03   7.92070e-01  -3.20101e-04   7.38730e-06\n",
      "   3  Sigma        8.12986e+01   5.02473e-01  -6.81018e-07  -1.29022e-02\n"
     ]
    },
    {
     "data": {
      "image/png": "[encoded data removed]",
      "text/plain": [
       "<IPython.core.display.Image object>"
      ]
     },
     "metadata": {},
     "output_type": "display_data"
    }
   ],
   "source": [
    "#not function graph scint\n",
    "#surprise suprise Sam's code worked. Let's do it again for this first plot - \n",
    "#Now we're going to do it for all the ones in our runNumbers array\n",
    "iterat=1\n",
    "maxum=12\n",
    "\n",
    "scintMeans=[]\n",
    "holdScint=[]\n",
    "\n",
    "fitti=TF1(\"fitti\", \"landau\")\n",
    "\n",
    "for run in runNumbers:\n",
    "    runName=\"/nfs/dust/fhlabs/group/BL4S/data/DESYChain/ConvertedData/\" + run + \".root\"\n",
    "    importFile = TFile(runName, \"READ\")\n",
    "    RAWdata=importFile.Get(\"RAWdata\")\n",
    "    hist1=TH1D(\"name\", \"title\", 100, 200, 3800)\n",
    "\n",
    "    RAWdata.Draw(\"QDC0_ch0>>name\", \"QDC0_ch0<3800 && QDC0_ch0>200\")\n",
    "    hist1.Fit(fitti)\n",
    "\n",
    "    holdScint+=[(fitti.GetParameter(\"MPV\"), hist1.GetMean())] #store both the Landau MPV and mean to our hold\n",
    "    if iterat%4==0:\n",
    "        scintMeans+=[(np.mean([i[0] for i in holdScint]), np.mean([i[1] for i in holdScint]))] #and then calculate both their means and store it\n",
    "        holdScint=[]\n",
    "    iterat+=1\n",
    "    if iterat>maxum:\n",
    "        break\n",
    "    \n",
    "c1.Draw()\n",
    "print(scintMeans)"
   ]
  },
  {
   "cell_type": "code",
   "execution_count": 17,
   "metadata": {},
   "outputs": [
    {
     "name": "stdout",
     "output_type": "stream",
     "text": [
      "[(545.7025824505193, 705.8504682389746), (3107.869361140928, 3206.90238375021), (2883.0816607583715, 3028.307662657008), (2877.8163249265517, 3023.393722273806), (3011.6478308159903, 3132.457529668338), (1237.2202534845203, 1508.128118807662)]\n",
      " FCN=2657.52 FROM MIGRAD    STATUS=CONVERGED     206 CALLS         207 TOTAL\n",
      "                     EDM=3.75109e-07    STRATEGY= 1      ERROR MATRIX ACCURATE \n",
      "  EXT PARAMETER                                   STEP         FIRST   \n",
      "  NO.   NAME      VALUE            ERROR          SIZE      DERIVATIVE \n",
      "   1  Constant     4.22038e+04   3.26203e+02   4.92074e+00  -3.23832e-06\n",
      "   2  MPV          5.45703e+02   4.03896e-01   9.95182e-03  -1.36046e-03\n",
      "   3  Sigma        4.02521e+01   2.52584e-01   1.03871e-05  -1.40870e+00\n",
      " FCN=152.26 FROM MIGRAD    STATUS=CONVERGED     111 CALLS         112 TOTAL\n",
      "                     EDM=2.10345e-07    STRATEGY= 1      ERROR MATRIX ACCURATE \n",
      "  EXT PARAMETER                                   STEP         FIRST   \n",
      "  NO.   NAME      VALUE            ERROR          SIZE      DERIVATIVE \n",
      "   1  Constant     3.70635e+03   4.93246e+01   2.06602e-01   1.03580e-05\n",
      "   2  MPV          3.10787e+03   3.20217e+00   1.38976e-02   2.09109e-04\n",
      "   3  Sigma        1.51240e+02   2.15602e+00   1.15587e-05  -7.67054e-02\n",
      " FCN=789.625 FROM MIGRAD    STATUS=CONVERGED     125 CALLS         126 TOTAL\n",
      "                     EDM=1.67026e-10    STRATEGY= 1      ERROR MATRIX ACCURATE \n",
      "  EXT PARAMETER                                   STEP         FIRST   \n",
      "  NO.   NAME      VALUE            ERROR          SIZE      DERIVATIVE \n",
      "   1  Constant     2.21400e+04   1.19868e+02   1.11396e+00  -1.26430e-07\n",
      "   2  MPV          2.88308e+03   1.18871e+00   1.29110e-02   1.67122e-05\n",
      "   3  Sigma        1.49199e+02   7.88817e-01   9.67808e-06  -1.95811e-02\n",
      " FCN=2053.25 FROM MIGRAD    STATUS=CONVERGED     120 CALLS         121 TOTAL\n",
      "                     EDM=2.37478e-07    STRATEGY= 1      ERROR MATRIX ACCURATE \n",
      "  EXT PARAMETER                                   STEP         FIRST   \n",
      "  NO.   NAME      VALUE            ERROR          SIZE      DERIVATIVE \n",
      "   1  Constant     5.67560e+04   1.91254e+02   2.86724e+00  -1.99757e-06\n",
      "   2  MPV          2.87782e+03   7.41893e-01   1.30722e-02  -8.44894e-04\n",
      "   3  Sigma        1.49926e+02   4.92569e-01   9.71170e-06  -3.77314e-01\n",
      " FCN=420.532 FROM MIGRAD    STATUS=CONVERGED      95 CALLS          96 TOTAL\n",
      "                     EDM=2.84458e-11    STRATEGY= 1  ERROR MATRIX UNCERTAINTY   2.2 per cent\n",
      "  EXT PARAMETER                                   STEP         FIRST   \n",
      "  NO.   NAME      VALUE            ERROR          SIZE      DERIVATIVE \n",
      "   1  Constant     1.07673e+04   8.45802e+01   5.62991e-02  -5.49896e-08\n",
      "   2  MPV          3.01165e+03   1.75447e+00   1.00165e-03   7.04783e-06\n",
      "   3  Sigma        1.48713e+02   1.19057e+00  -2.83075e-07  -5.07932e-03\n",
      " FCN=1675.27 FROM MIGRAD    STATUS=CONVERGED     179 CALLS         180 TOTAL\n",
      "                     EDM=8.0163e-10    STRATEGY= 1  ERROR MATRIX UNCERTAINTY   2.6 per cent\n",
      "  EXT PARAMETER                                   STEP         FIRST   \n",
      "  NO.   NAME      VALUE            ERROR          SIZE      DERIVATIVE \n",
      "   1  Constant     2.07647e+04   1.57275e+02   1.86960e-01  -3.80296e-07\n",
      "   2  MPV          1.23722e+03   7.92070e-01  -3.20101e-04   7.38730e-06\n",
      "   3  Sigma        8.12986e+01   5.02473e-01  -6.81018e-07  -1.29022e-02\n"
     ]
    },
    {
     "data": {
      "image/png": "[encoded data removed]",
      "text/plain": [
       "<IPython.core.display.Image object>"
      ]
     },
     "metadata": {},
     "output_type": "display_data"
    }
   ],
   "source": [
    "runNumbers=[\"1572187615\", \"1572199259\", \"1572169691\", \"1572167644\", \"1571991208\",\"1572001725\"]\n",
    "from ROOT import TF1, TFile, TCanvas, TH1D\n",
    "import numpy as np\n",
    "import matplotlib.pyplot as plt\n",
    "iterat=1\n",
    "maxum=6\n",
    "\n",
    "scintMeans=[]\n",
    "holdScint=[]\n",
    "\n",
    "fitti=TF1(\"fitti\", \"landau\")\n",
    "\n",
    "for run in runNumbers:\n",
    "    runName=\"/nfs/dust/fhlabs/group/BL4S/data/DESYChain/ConvertedData/\" + run + \".root\"\n",
    "    importFile = TFile(runName, \"READ\")\n",
    "    RAWdata=importFile.Get(\"RAWdata\")\n",
    "    hist1=TH1D(\"name\", \"title\", 100, 200, 3800)\n",
    "\n",
    "    RAWdata.Draw(\"QDC0_ch0>>name\", \"QDC0_ch0<3800 && QDC0_ch0>200\")\n",
    "    hist1.Fit(fitti)\n",
    "\n",
    "    holdScint+=[(fitti.GetParameter(\"MPV\"), hist1.GetMean())] #store both the Landau MPV and mean to our hold\n",
    "    if iterat%1==0:\n",
    "        scintMeans+=[(np.mean([i[0] for i in holdScint]), np.mean([i[1] for i in holdScint]))] #and then calculate both their means and store it\n",
    "        holdScint=[]\n",
    "    iterat+=1\n",
    "    if iterat>maxum:\n",
    "        break\n",
    "    \n",
    "c1.Draw()\n",
    "print(scintMeans)"
   ]
  },
  {
   "cell_type": "code",
   "execution_count": 3,
   "metadata": {},
   "outputs": [
    {
     "name": "stdout",
     "output_type": "stream",
     "text": [
      "[(4220.43581215429, 3654.392105263158), (1698.231985841211, 1973.8316003298405)]\n",
      " FCN=15.7375 FROM MIGRAD    STATUS=CONVERGED     166 CALLS         167 TOTAL\n",
      "                     EDM=3.74381e-07    STRATEGY= 1      ERROR MATRIX ACCURATE \n",
      "  EXT PARAMETER                                   STEP         FIRST   \n",
      "  NO.   NAME      VALUE            ERROR          SIZE      DERIVATIVE \n",
      "   1  Constant     6.13072e+02   2.74660e+02   6.41373e-02   1.02567e-05\n",
      "   2  MPV          4.22044e+03   2.36842e+02   1.69808e-02   5.56046e-06\n",
      "   3  Sigma        3.15005e+02   8.31712e+01   1.21555e-05  -3.17056e-02\n",
      " FCN=1543.72 FROM MIGRAD    STATUS=CONVERGED     163 CALLS         164 TOTAL\n",
      "                     EDM=1.37712e-07    STRATEGY= 1  ERROR MATRIX UNCERTAINTY   1.3 per cent\n",
      "  EXT PARAMETER                                   STEP         FIRST   \n",
      "  NO.   NAME      VALUE            ERROR          SIZE      DERIVATIVE \n",
      "   1  Constant     1.66120e+04   1.20322e+02   2.82217e-01  -8.15394e-06\n",
      "   2  MPV          1.69823e+03   1.04963e+00   9.46614e-04   1.26671e-04\n",
      "   3  Sigma        1.11065e+02   6.72832e-01   2.59571e-06  -1.27556e+00\n"
     ]
    },
    {
     "data": {
      "image/png": "[encoded data removed]",
      "text/plain": [
       "<IPython.core.display.Image object>"
      ]
     },
     "metadata": {},
     "output_type": "display_data"
    }
   ],
   "source": [
    "runNumbers=[\"1572167586\",\"1572002093\"]\n",
    "from ROOT import TF1, TFile, TCanvas, TH1D\n",
    "import numpy as np\n",
    "import matplotlib.pyplot as plt\n",
    "iterat=1\n",
    "maxum=2\n",
    "\n",
    "scintMeans=[]\n",
    "holdScint=[]\n",
    "\n",
    "fitti=TF1(\"fitti\", \"landau\")\n",
    "c1=TCanvas(\"MimosaPlots\", \"MimosaPlots\", 800, 600)\n",
    "\n",
    "for run in runNumbers:\n",
    "    runName=\"/nfs/dust/fhlabs/group/BL4S/data/DESYChain/ConvertedData/\" + run + \".root\"\n",
    "    importFile = TFile(runName, \"READ\")\n",
    "    RAWdata=importFile.Get(\"RAWdata\")\n",
    "    hist1=TH1D(\"name\", \"title\", 100, 200, 3800)\n",
    "\n",
    "    RAWdata.Draw(\"QDC0_ch0>>name\", \"QDC0_ch0<3800 && QDC0_ch0>200\")\n",
    "    hist1.Fit(fitti)\n",
    "\n",
    "    holdScint+=[(fitti.GetParameter(\"MPV\"), hist1.GetMean())] #store both the Landau MPV and mean to our hold\n",
    "    if iterat%1==0:\n",
    "        scintMeans+=[(np.mean([i[0] for i in holdScint]), np.mean([i[1] for i in holdScint]))] #and then calculate both their means and store it\n",
    "        holdScint=[]\n",
    "    iterat+=1\n",
    "    if iterat>maxum:\n",
    "        break\n",
    "    \n",
    "c1.Draw()\n",
    "print(scintMeans)"
   ]
  },
  {
   "cell_type": "code",
   "execution_count": null,
   "metadata": {},
   "outputs": [],
   "source": []
  },
  {
   "cell_type": "code",
   "execution_count": null,
   "metadata": {},
   "outputs": [],
   "source": []
  }
 ],
 "metadata": {
  "kernelspec": {
   "display_name": "Python 3",
   "language": "python",
   "name": "python3"
  },
  "language_info": {
   "codemirror_mode": {
    "name": "ipython",
    "version": 3
   },
   "file_extension": ".py",
   "mimetype": "text/x-python",
   "name": "python",
   "nbconvert_exporter": "python",
   "pygments_lexer": "ipython3",
   "version": "3.6.8"
  }
 },
 "nbformat": 4,
 "nbformat_minor": 4
}

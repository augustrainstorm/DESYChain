{
 "cells": [
  {
   "cell_type": "code",
   "execution_count": 2,
   "metadata": {},
   "outputs": [],
   "source": [
    "import os, pandas as pd, numpy as np\n",
    "import ROOT\n",
    "import matplotlib.pyplot as plt\n",
    "import seaborn as sns\n",
    "import scipy\n",
    "from ROOT import TCanvas, TH1D\n",
    "sns.set()"
   ]
  },
  {
   "cell_type": "code",
   "execution_count": 57,
   "metadata": {},
   "outputs": [],
   "source": [
    "def create_track_list(tfile_tdaq):\n",
    "    tfile_path = '/nfs/dust/fhlabs/group/BL4S/data/DESYChain/ConvertedData/' + str(tfile_tdaq) + '.root'\n",
    "    data_run = ROOT.TFile(tfile_path)\n",
    "    \n",
    "    reco_tree = data_run.Get('RECOdata')\n",
    "   \n",
    "    micromega1x= 0\n",
    "    micromega2x= 0\n",
    "    micromega3y= 0\n",
    "    mimosa0x= 0\n",
    "    mimosa0y= 0\n",
    "    mimosa1x= 0\n",
    "    mimosa1y= 0\n",
    "    mimosa2x= 0\n",
    "    mimosa2y= 0\n",
    "    dwc0x= 0\n",
    "    dwc0y= 0\n",
    "    '''\n",
    "    micromega1x= -10.564471784019508\n",
    "    micromega2x= -0.025884502340847576\n",
    "    micromega3y= -11.74195086475566\n",
    "    mimosa0x= 0.08463667999269381\n",
    "    mimosa0y= -0.056565280079979845\n",
    "    mimosa1x= -0.06449192869238878\n",
    "    mimosa1y= -0.07193527449474807\n",
    "    mimosa2x= 0.09808760125634848\n",
    "    mimosa2y= -0.004454130628000803\n",
    "    dwc0x= 0.02162774732829503\n",
    "    dwc0y= -0.135752433620644\n",
    "    '''\n",
    "    counter = 0\n",
    "    track_list = []\n",
    "   \n",
    "    for event in reco_tree:\n",
    "        if (len(event.DWC0_xPosition) >= 2 or len(event.Chamber1_position) >= 2 or \n",
    "            len(event.Chamber2_position) >= 2 or len(event.Chamber3_position) >= 2):\n",
    "            counter += 1\n",
    "            continue\n",
    "        elif (len(event.DWC0_xPosition) == 0 and len(event.Chamber1_position) == 0 and \n",
    "            len(event.Chamber2_position) == 0 and len(event.Chamber3_position) == 0):\n",
    "            counter += 1\n",
    "            continue\n",
    "        elif ((len(event.DWC0_xPosition) == 0 and len(event.Chamber1_position) == 0 and len(event.Chamber2_position) == 0 and len(event.Chamber3_position) != 0) or \n",
    "            (len(event.DWC0_xPosition) == 0 and len(event.Chamber1_position) == 0 and len(event.Chamber2_position) != 0 and len(event.Chamber3_position) == 0) or\n",
    "            (len(event.DWC0_xPosition) == 0 and len(event.Chamber1_position) != 0 and len(event.Chamber2_position) == 0 and len(event.Chamber3_position) == 0) or \n",
    "            (len(event.DWC0_xPosition) != 0 and len(event.Chamber1_position) == 0 and len(event.Chamber2_position) == 0 and len(event.Chamber3_position) == 0)):\n",
    "            counter += 1\n",
    "            continue\n",
    "\n",
    "        track = []\n",
    "        track.append(list(zip([x-mimosa0x for x in event.Mimosa0_xPosition], [x-mimosa0y for x in event.Mimosa0_yPosition])))\n",
    "        track.append(list(zip([x-mimosa1x for x in event.Mimosa1_xPosition], [x-mimosa1y for x in event.Mimosa1_yPosition])))\n",
    "        track.append(list(zip([x-mimosa2x for x in event.Mimosa2_xPosition], [x-mimosa2y for x in event.Mimosa2_yPosition])))\n",
    "\n",
    "        track.append(list(zip([x-dwc0x for x in event.DWC0_xPosition], [x-dwc0y for x in event.DWC0_yPosition])))\n",
    "        #track.append(list(zip([x-dwc1x for x in event.DWC1_xPosition], [x-dwc1y for x in event.DWC1_yPosition])))\n",
    "\n",
    "        track.append(list([x-micromega1x for x in event.Chamber1_position]))\n",
    "        track.append(list([x-micromega2x for x in event.Chamber2_position]))\n",
    "        track.append(list([x-micromega3y for x in event.Chamber3_position]))\n",
    "        track.append(counter)\n",
    "        track_list.append(track)\n",
    "\n",
    "        counter += 1\n",
    "        \n",
    "    return track_list, counter\n",
    "\n",
    "def pre_magnet_track(track_list, z_vals, event=0):\n",
    "    zs = np.array([[0,8.5,16]])\n",
    "    min_error = 100\n",
    "    for (x1, y1) in track_list[event][0]:\n",
    "        for (x2, y2) in track_list[event][1]:\n",
    "            for (x3, y3) in track_list[event][2]:\n",
    "                X = np.array([[x1, y1, z_vals[0]], [x2,y2, z_vals[1]], [x3,y3,z_vals[2]]])\n",
    "                X_mean = X.mean(axis=0)\n",
    "                uu, dd, vv = np.linalg.svd(X - X_mean)\n",
    "                linepts = vv[0] * np.mgrid[-7:7:2j][:, np.newaxis]\n",
    "                linepts += X_mean\n",
    "                direction = linepts[1]-linepts[0]\n",
    "                z_t = (z_vals-linepts[0][2])/direction[2]\n",
    "                points = np.concatenate((np.reshape(linepts[0, 0:2], (2,1)) + (z_t * np.reshape(direction[0:2], (2,1))), zs))\n",
    "                error = np.mean(np.square(points.T - X))\n",
    "                if error < min_error:\n",
    "                    best_track = np.array([[x1,x2,x3],[y1,y2,y3], [0,8.5,16]])\n",
    "                    min_error = error\n",
    "                \n",
    "    print(min_error)\n",
    "    print(best_track)\n",
    "\n",
    "        \n",
    "def display_event_scatterplot(track_list, event_index):\n",
    "    fig = plt.figure(figsize=(8,6))\n",
    "    ax1 = fig.add_subplot(111)\n",
    "    ax1.scatter(*zip(*track_list[event_index][0]), c='r')\n",
    "    ax1.scatter(*zip(*track_list[event_index][1]), c='g')\n",
    "    ax1.scatter(*zip(*track_list[event_index][2]), c='b')\n",
    "    ax1.scatter(*zip(*track_list[event_index][3]), c='y')\n",
    "        #ax1.scatter(*zip(*track_list[i][4]), c='black')\n",
    "        #ax1.scatter(*zip(*track_list[i][5]), c='brown')\n",
    "\n",
    "    \n",
    "    "
   ]
  },
  {
   "cell_type": "code",
   "execution_count": 58,
   "metadata": {},
   "outputs": [
    {
     "data": {
      "text/plain": [
       "'\\n1572201397\\n1572201758\\n1572202090\\n'"
      ]
     },
     "execution_count": 58,
     "metadata": {},
     "output_type": "execute_result"
    }
   ],
   "source": [
    "track_list, counter = create_track_list(1572179299)\n",
    "#1572100097\n",
    "#1572100629\n",
    "'''\n",
    "1572201397\n",
    "1572201758\n",
    "1572202090\n",
    "'''\n"
   ]
  },
  {
   "cell_type": "code",
   "execution_count": 59,
   "metadata": {},
   "outputs": [
    {
     "data": {
      "text/plain": [
       "63392"
      ]
     },
     "execution_count": 59,
     "metadata": {},
     "output_type": "execute_result"
    }
   ],
   "source": [
    "len(track_list)"
   ]
  },
  {
   "cell_type": "code",
   "execution_count": 60,
   "metadata": {},
   "outputs": [
    {
     "data": {
      "text/plain": [
       "200496"
      ]
     },
     "execution_count": 60,
     "metadata": {},
     "output_type": "execute_result"
    }
   ],
   "source": [
    "counter"
   ]
  },
  {
   "cell_type": "code",
   "execution_count": 61,
   "metadata": {},
   "outputs": [
    {
     "data": {
      "text/plain": [
       "31964"
      ]
     },
     "execution_count": 61,
     "metadata": {},
     "output_type": "execute_result"
    }
   ],
   "source": [
    "no_hit"
   ]
  },
  {
   "cell_type": "code",
   "execution_count": null,
   "metadata": {
    "scrolled": true
   },
   "outputs": [],
   "source": [
    "mimosa_list[3]"
   ]
  },
  {
   "cell_type": "code",
   "execution_count": null,
   "metadata": {},
   "outputs": [],
   "source": [
    "mimosa_list[7][0]"
   ]
  },
  {
   "cell_type": "code",
   "execution_count": null,
   "metadata": {
    "scrolled": false
   },
   "outputs": [],
   "source": [
    "idx = 0\n",
    "plt.figure(figsize=(14,10))\n",
    "plt.scatter(np.full((len(mimosa_list[idx][0])),0), np.array(mimosa_list[idx][0])[:, 0], c='r')\n",
    "plt.scatter(np.full((len(mimosa_list[idx][1])),8.5), np.array(mimosa_list[idx][1])[:, 0], c='r')\n",
    "plt.scatter(np.full((len(mimosa_list[idx][2])),16.5), np.array(mimosa_list[idx][2])[:, 0], c='r')\n",
    "plt.scatter(np.full((len(mimosa_list[idx+1][0])),0), np.array(mimosa_list[idx+1][0])[:, 0], c='g', s=20)\n",
    "plt.scatter(np.full((len(mimosa_list[idx+1][1])),8.5), np.array(mimosa_list[idx+1][1])[:, 0], c='g', s=20)\n",
    "plt.scatter(np.full((len(mimosa_list[idx+1][2])),16.5), np.array(mimosa_list[idx+1][2])[:, 0], c='g', s=20)"
   ]
  },
  {
   "cell_type": "code",
   "execution_count": null,
   "metadata": {},
   "outputs": [],
   "source": [
    "np.full((len(mimosa_list[0][1])),0).shape"
   ]
  },
  {
   "cell_type": "code",
   "execution_count": null,
   "metadata": {
    "scrolled": true
   },
   "outputs": [],
   "source": [
    "np.array(mimosa_list[0][0])[:, 0].sha"
   ]
  },
  {
   "cell_type": "code",
   "execution_count": null,
   "metadata": {},
   "outputs": [],
   "source": [
    "np.array(mimosa_list[0][0])[:, 1]"
   ]
  },
  {
   "cell_type": "code",
   "execution_count": null,
   "metadata": {},
   "outputs": [],
   "source": [
    "pre_magnet_track(track_list, [0, 8.5, 16.5], event=30)"
   ]
  },
  {
   "cell_type": "code",
   "execution_count": null,
   "metadata": {
    "scrolled": true
   },
   "outputs": [],
   "source": [
    "event = 91\n",
    "zs = np.array([[0,8.5,16]])\n",
    "#print(zs.shape)\n",
    "min_error = 100\n",
    "for (x1, y1) in track_list[event][0]:\n",
    "    for (x2, y2) in track_list[event][1]:\n",
    "        for (x3, y3) in track_list[event][2]:\n",
    "            X = np.array([[x1, y1, 0], [x2,y2,8.5], [x3,y3,16]])\n",
    "            #print(X)\n",
    "            X_mean = X.mean(axis=0)\n",
    "            uu, dd, vv = np.linalg.svd(X - X_mean)\n",
    "            #print(vv[0])\n",
    "            linepts = vv[0] * np.mgrid[-7:7:2j][:, np.newaxis]\n",
    "            linepts += X_mean\n",
    "            direction = linepts[1]-linepts[0]\n",
    "            z_t = (zs-linepts[0][2])/direction[2]\n",
    "            points = np.concatenate((np.reshape(linepts[0, 0:2], (2,1)) + (z_t * np.reshape(direction[0:2], (2,1))), zs))\n",
    "            error = np.mean(np.square(points.T - X))\n",
    "            if error < min_error:\n",
    "                best_fit = linepts\n",
    "                best_points = np.array([[x1,x2,x3],[y1,y2,y3], [0,8.5,16]])\n",
    "                best_pts = points\n",
    "                print(np.sum(np.square(best_pts[0:2] - best_points[0:2]) / best_pts[0:2], axis=1))\n",
    "                min_error = error\n",
    "                \n",
    "print(best_fit)\n",
    "print(min_error)\n",
    "print(best_points)\n",
    "print(best_pts)\n"
   ]
  },
  {
   "cell_type": "code",
   "execution_count": null,
   "metadata": {},
   "outputs": [],
   "source": [
    "plt.figure(figsize=(14,10))\n",
    "plt.scatter(np.full((len(mimosa_list[event][0])),0), np.array(mimosa_list[event][0])[:, 0], c='r')\n",
    "plt.scatter(np.full((len(mimosa_list[event][1])),8.5), np.array(mimosa_list[event][1])[:, 0], c='r')\n",
    "plt.scatter(np.full((len(mimosa_list[event][2])),16), np.array(mimosa_list[event][2])[:, 0], c='r')\n",
    "plt.scatter(np.full((len(mimosa_list[event+1][0])),0), np.array(mimosa_list[event+1][0])[:, 0], c='g', s=20)\n",
    "plt.scatter(np.full((len(mimosa_list[event+1][1])),8.5), np.array(mimosa_list[event+1][1])[:, 0], c='g', s=20)\n",
    "plt.scatter(np.full((len(mimosa_list[event+1][2])),16), np.array(mimosa_list[event+1][2])[:, 0], c='g', s=20)\n",
    "plt.plot(best_pts[2], best_pts[0])"
   ]
  },
  {
   "cell_type": "code",
   "execution_count": null,
   "metadata": {},
   "outputs": [],
   "source": [
    "\n",
    "plt.figure(figsize=(14,10))\n",
    "plt.ylim(-10,10)\n",
    "for event in range(len(track_list)):\n",
    "    x1 = [x[0] for x in track_list[event][0]]\n",
    "    x2 = [x[0] for x in track_list[event][1]]\n",
    "    x3 = [x[0] for x in track_list[event][2]]\n",
    "    x4 = [x[0] for x in track_list[event][3]]\n",
    "    x5 = [x for x in track_list[event][4]]\n",
    "    x6 = [x for x in track_list[event][5]]\n",
    "   \n",
    "    for (a,b,c,d,e,f) in zip(x1,x2,x3,x4,x5,x6):\n",
    "        plt.scatter(0, a, c='r')\n",
    "        plt.scatter(8.5, b, c='orange')\n",
    "        plt.scatter(16, c, c='y')\n",
    "        plt.scatter(221, d, c='g')\n",
    "        plt.scatter(262, e, c='blue')\n",
    "        plt.scatter(494, f, c='violet')\n",
    "\n",
    "#plt.plot(best_pts[2], best_pts[0])\n",
    "plt.ylabel('x-axis (cm)')\n",
    "plt.xlabel('z-axis (cm)')\n",
    "#plt.scatter(best_points[2], best_points[0])\n",
    "plt.show()\n"
   ]
  },
  {
   "cell_type": "code",
   "execution_count": null,
   "metadata": {},
   "outputs": [],
   "source": [
    "accepted = []\n",
    "for i in range(len(track_list)):\n",
    "    #print(track_list[i][5])\n",
    "    if any(x <= 5 and x >= -5 for x in track_list[i][5]):\n",
    "        accepted.append(i)"
   ]
  },
  {
   "cell_type": "code",
   "execution_count": null,
   "metadata": {
    "scrolled": true
   },
   "outputs": [],
   "source": [
    "track_list[event][0]"
   ]
  },
  {
   "cell_type": "code",
   "execution_count": null,
   "metadata": {},
   "outputs": [],
   "source": [
    "track_list[event][0]"
   ]
  },
  {
   "cell_type": "code",
   "execution_count": 67,
   "metadata": {
    "scrolled": false
   },
   "outputs": [
    {
     "name": "stdout",
     "output_type": "stream",
     "text": [
      "[0.14168, -0.74336, -0.7415200000000001, -0.89056, 0.22264, 0.79672, 0.22724, 0.2944, -0.40296, -0.10181333333333341, 0.05296571428571438, -0.30084, -0.17020000000000002, -0.19182000000000002, -0.760656, -0.23368]\n"
     ]
    },
    {
     "data": {
      "image/png": "[encoded data removed]",
      "text/plain": [
       "<Figure size 504x360 with 1 Axes>"
      ]
     },
     "metadata": {},
     "output_type": "display_data"
    }
   ],
   "source": [
    "plt.figure(figsize=(7,5))\n",
    "event = 100\n",
    "x1 = [x[0] for x in track_list[event][0]]\n",
    "x2 = [x[0] for x in track_list[event][1]]\n",
    "x3 = [x[0] for x in track_list[event][2]]\n",
    "x4 = [x[0] for x in track_list[event][3]]\n",
    "x5 = [x for x in track_list[event][4]]\n",
    "x6 = [x for x in track_list[event][5]]\n",
    "print(x1)\n",
    "for i in x1:\n",
    "    plt.scatter(0, i, c='r')\n",
    "for i in x2:\n",
    "    plt.scatter(8.5, i, c='orange')\n",
    "for i in x3:\n",
    "    plt.scatter(16.5, i, c='y')\n",
    "for i in x4:\n",
    "    plt.scatter(221, i, c='g')\n",
    "for i in x5:\n",
    "    plt.scatter(262, i, c='blue')\n",
    "for i in x6:\n",
    "    plt.scatter(494, i, c='violet')\n",
    "\n",
    "#plt.plot(best_pts[2], best_pts[0])\n",
    "plt.ylabel('x-axis (cm)')\n",
    "plt.xlabel('z-axis (cm)')\n",
    "#plt.scatter(best_points[2], best_points[0])\n",
    "plt.show()"
   ]
  },
  {
   "cell_type": "code",
   "execution_count": null,
   "metadata": {},
   "outputs": [],
   "source": [
    "len(accepted)"
   ]
  },
  {
   "cell_type": "code",
   "execution_count": null,
   "metadata": {},
   "outputs": [],
   "source": [
    "x1 = [x[0] for x in track_list[event][0]]\n",
    "x2 = [x[0] for x in track_list[event][1]]\n",
    "x3 = [x[0] for x in track_list[event][2]]\n",
    "x4 = [x[0] for x in track_list[event][3]]\n",
    "x5 = [x for x in track_list[event][4]]\n",
    "plt.figure(figsize=(12,8))\n",
    "for (a,b,c) in zip(y1,y2,y3):\n",
    "    plt.scatter(0, a)\n",
    "    plt.scatter(8.5, b)\n",
    "    plt.scatter(16.5, c)\n",
    "    pass\n",
    "for d in zip(y4):\n",
    "    plt.scatter(221, d)\n",
    "for e in y5:\n",
    "    plt.scatter(480, e)\n",
    "    \n",
    "plt.plot(best_pts[2], best_pts[1])\n",
    "plt.scatter(best_points[2], best_points[1])\n",
    "plt.show()"
   ]
  },
  {
   "cell_type": "code",
   "execution_count": null,
   "metadata": {},
   "outputs": [],
   "source": [
    "sum_x = 0\n",
    "total = 0\n",
    "for i in range(len(track_list)):\n",
    "    mm1 = np.array(track_list[i][3])\n",
    "    sum_x += np.sum(mm1[:, 0])\n",
    "    total += mm1.shape[0]\n",
    "print(sum_x/total)"
   ]
  },
  {
   "cell_type": "code",
   "execution_count": null,
   "metadata": {},
   "outputs": [],
   "source": []
  },
  {
   "cell_type": "code",
   "execution_count": null,
   "metadata": {},
   "outputs": [],
   "source": [
    "tfile_path = '/nfs/dust/fhlabs/group/BL4S/data/DESYChain/ConvertedData/1572179299.root'\n",
    "data_run = ROOT.TFile(tfile_path)"
   ]
  },
  {
   "cell_type": "code",
   "execution_count": null,
   "metadata": {},
   "outputs": [],
   "source": [
    "ttree = data_run.Get('RECOdata')"
   ]
  },
  {
   "cell_type": "code",
   "execution_count": null,
   "metadata": {},
   "outputs": [],
   "source": [
    "c1 = TCanvas(\"c1\", \"c1\", 800, 600)\n",
    "ttree.Draw(\"Chamber1_position\")\n",
    "c1.Draw()"
   ]
  },
  {
   "cell_type": "code",
   "execution_count": null,
   "metadata": {
    "scrolled": true
   },
   "outputs": [],
   "source": [
    "c2 = TCanvas(\"c2\", \"c2\", 800, 600)\n",
    "ttree.Draw(\"Chamber2_position+0.025884502340847576\")\n",
    "c2.Draw()"
   ]
  },
  {
   "cell_type": "code",
   "execution_count": null,
   "metadata": {
    "scrolled": true
   },
   "outputs": [],
   "source": [
    "c3 = TCanvas(\"c3\", \"c3\", 800, 600)\n",
    "ttree.Draw(\"Mimosa1_xPosition+0.02764\", 'NMimosa1_xPosition>0 && Mimosa1_xPosition<0.5 && Mimosa1_xPosition>-0.5')\n",
    "c3.Draw()"
   ]
  },
  {
   "cell_type": "code",
   "execution_count": null,
   "metadata": {},
   "outputs": [],
   "source": [
    "hist1 = TH1D('hist1', 'Mimosa0',100, -0.5, 0.5)\n",
    "hist2 = TH1D('hist2', 'Mimosa1', 100, -0.5, 0.5)\n",
    "ttree.Draw(\"Mimosa0_xPosition>>hist1\", 'NMimosa0_xPosition>0 && Mimosa0_xPosition<0.5 && Mimosa0_xPosition>-0.5')\n",
    "ttree.Draw(\"Mimosa1_xPosition>>hist2\", 'NMimosa1_xPosition>0 && Mimosa1_xPosition<0.5 && Mimosa1_xPosition>-0.5')\n",
    "c4 = TCanvas(\"c4\", \"c4\", 800, 600)\n",
    "hist1.Draw()\n",
    "hist2.SetLineColor(ROOT.kRed)\n",
    "hist2.Draw('same')\n",
    "c4.Draw()"
   ]
  },
  {
   "cell_type": "markdown",
   "metadata": {},
   "source": [
    "x = np.mgrid[-2:5:120j]\n",
    "y = np.mgrid[1:9:120j]\n",
    "z = np.mgrid[-5:3:120j]\n",
    "\n",
    "data = np.concatenate((x[:, np.newaxis], \n",
    "                       y[:, np.newaxis], \n",
    "                       z[:, np.newaxis]), \n",
    "                      axis=1)\n",
    "\n",
    "# Perturb with some Gaussian noise\n",
    "data += np.random.normal(size=data.shape) * 0.4\n",
    "\n",
    "# Calculate the mean of the points, i.e. the 'center' of the cloud\n",
    "datamean = data.mean(axis=0)\n",
    "\n",
    "# Do an SVD on the mean-centered data.\n",
    "uu, dd, vv = np.linalg.svd(data - datamean)\n",
    "\n",
    "# Now vv[0] contains the first principal component, i.e. the direction\n",
    "# vector of the 'best fit' line in the least squares sense.\n",
    "\n",
    "# Now generate some points along this best fit line, for plotting.\n",
    "\n",
    "# I use -7, 7 since the spread of the data is roughly 14\n",
    "# and we want it to have mean 0 (like the points we did\n",
    "# the svd on). Also, it's a straight line, so we only need 2 points.\n",
    "linepts = vv[0] * np.mgrid[-7:7:2j][:, np.newaxis]\n",
    "\n",
    "# shift by the mean to get the line in the right place\n",
    "linepts += datamean"
   ]
  },
  {
   "cell_type": "code",
   "execution_count": null,
   "metadata": {},
   "outputs": [],
   "source": [
    "for event in len(track_list):\n",
    "    zs = np.array([[0,8.5,16, 221]])\n",
    "    min_error = 100\n",
    "    for (x1, y1) in track_list[event][0]:\n",
    "        for (x2, y2) in track_list[event][1]:\n",
    "            for (x3, y3) in track_list[event][2]:\n",
    "                X = np.array([[x1, y1, z_vals[0]], [x2,y2, z_vals[1]], [x3,y3,z_vals[2]]])\n",
    "                X_mean = X.mean(axis=0)\n",
    "                uu, dd, vv = np.linalg.svd(X - X_mean)\n",
    "                linepts = vv[0] * np.mgrid[-7:7:2j][:, np.newaxis]\n",
    "                linepts += X_mean\n",
    "                direction = linepts[1]-linepts[0]\n",
    "                z_t = (z_vals-linepts[0][2])/direction[2]\n",
    "                points = np.concatenate((np.reshape(linepts[0, 0:2], (2,1)) + (z_t * np.reshape(direction[0:2], (2,1))), zs))\n",
    "                error = np.mean(np.square(points.T - X))\n",
    "                if error < min_error:\n",
    "                    best_track = np.array([[x1,x2,x3],[y1,y2,y3], [0,8.5,16]])\n",
    "                    min_error = error"
   ]
  },
  {
   "cell_type": "code",
   "execution_count": null,
   "metadata": {},
   "outputs": [],
   "source": []
  },
  {
   "cell_type": "code",
   "execution_count": null,
   "metadata": {},
   "outputs": [],
   "source": []
  },
  {
   "cell_type": "code",
   "execution_count": 3,
   "metadata": {},
   "outputs": [
    {
     "data": {
      "image/png": "[encoded data removed]",
      "text/plain": [
       "<IPython.core.display.Image object>"
      ]
     },
     "metadata": {},
     "output_type": "display_data"
    }
   ],
   "source": [
    "#1572179299\n",
    "#1572188706\n",
    "\n",
    "tfile_path = '/nfs/dust/fhlabs/group/BL4S/data/DESYChain/ConvertedData/1572191829.root'\n",
    "data_run = ROOT.TFile(tfile_path)\n",
    "ttree = data_run.Get('RAWdata')\n",
    "\n",
    "c1 = TCanvas(\"c1\", \"c1\", 800, 600)\n",
    "c1.Divide(5,1)\n",
    "c1.cd(1)\n",
    "ttree.Draw(\"QDC0_ch5\")\n",
    "c1.cd(2)\n",
    "ttree.Draw(\"QDC0_ch1\")\n",
    "c1.cd(3)\n",
    "ttree.Draw(\"QDC0_ch2\")\n",
    "c1.cd(4)\n",
    "ttree.Draw(\"QDC0_ch3\")\n",
    "c1.cd(5)\n",
    "ttree.Draw(\"QDC0_ch4\")\n",
    "c1.Draw()"
   ]
  },
  {
   "cell_type": "code",
   "execution_count": 4,
   "metadata": {},
   "outputs": [
    {
     "name": "stderr",
     "output_type": "stream",
     "text": [
      "Warning in <TCanvas::Constructor>: Deleting canvas with same name: c1\n"
     ]
    },
    {
     "data": {
      "image/png": "[encoded data removed]",
      "text/plain": [
       "<IPython.core.display.Image object>"
      ]
     },
     "metadata": {},
     "output_type": "display_data"
    }
   ],
   "source": [
    "#1572179299\n",
    "#1572188706\n",
    "\n",
    "tfile_path = '/nfs/dust/fhlabs/group/BL4S/data/DESYChain/ConvertedData/1572191362.root'\n",
    "data_run = ROOT.TFile(tfile_path)\n",
    "ttree = data_run.Get('RAWdata')\n",
    "\n",
    "c1 = TCanvas(\"c1\", \"c1\", 800, 600)\n",
    "c1.Divide(5,1)\n",
    "c1.cd(1)\n",
    "ttree.Draw(\"QDC0_ch5\")\n",
    "c1.cd(2)\n",
    "ttree.Draw(\"QDC0_ch1\")\n",
    "c1.cd(3)\n",
    "ttree.Draw(\"QDC0_ch2\")\n",
    "c1.cd(4)\n",
    "ttree.Draw(\"QDC0_ch3\")\n",
    "c1.cd(5)\n",
    "ttree.Draw(\"QDC0_ch4\")\n",
    "c1.Draw()"
   ]
  },
  {
   "cell_type": "code",
   "execution_count": 5,
   "metadata": {},
   "outputs": [
    {
     "name": "stderr",
     "output_type": "stream",
     "text": [
      "Warning in <TCanvas::Constructor>: Deleting canvas with same name: c1\n"
     ]
    },
    {
     "data": {
      "image/png": "[encoded data removed]",
      "text/plain": [
       "<IPython.core.display.Image object>"
      ]
     },
     "metadata": {},
     "output_type": "display_data"
    }
   ],
   "source": [
    "\n",
    "#1572179299\n",
    "#1572188706\n",
    "\n",
    "tfile_path = '/nfs/dust/fhlabs/group/BL4S/data/DESYChain/ConvertedData/1572190918.root'\n",
    "data_run = ROOT.TFile(tfile_path)\n",
    "ttree = data_run.Get('RAWdata')\n",
    "\n",
    "c1 = TCanvas(\"c1\", \"c1\", 800, 600)\n",
    "c1.Divide(5,1)\n",
    "c1.cd(1)\n",
    "ttree.Draw(\"QDC0_ch5\")\n",
    "c1.cd(2)\n",
    "ttree.Draw(\"QDC0_ch1\")\n",
    "c1.cd(3)\n",
    "ttree.Draw(\"QDC0_ch2\")\n",
    "c1.cd(4)\n",
    "ttree.Draw(\"QDC0_ch3\")\n",
    "c1.cd(5)\n",
    "ttree.Draw(\"QDC0_ch4\")\n",
    "c1.Draw()"
   ]
  },
  {
   "cell_type": "code",
   "execution_count": 37,
   "metadata": {},
   "outputs": [],
   "source": [
    "track_list, mimosa_list = create_track_list(1572191362)"
   ]
  },
  {
   "cell_type": "code",
   "execution_count": 38,
   "metadata": {},
   "outputs": [
    {
     "data": {
      "text/plain": [
       "173"
      ]
     },
     "execution_count": 38,
     "metadata": {},
     "output_type": "execute_result"
    }
   ],
   "source": [
    "len(track_list)"
   ]
  },
  {
   "cell_type": "code",
   "execution_count": 54,
   "metadata": {},
   "outputs": [
    {
     "name": "stdout",
     "output_type": "stream",
     "text": [
      "[-0.37076000000000003, 0.14352, -0.1564, 0.9531200000000001, -0.2729333333333333, 0.58512]\n"
     ]
    },
    {
     "data": {
      "image/png": "[encoded data removed]",
      "text/plain": [
       "<Figure size 504x360 with 1 Axes>"
      ]
     },
     "metadata": {},
     "output_type": "display_data"
    }
   ],
   "source": [
    "plt.figure(figsize=(7,5))\n",
    "event = 140\n",
    "x1 = [x[0] for x in track_list[event][0]]\n",
    "x2 = [x[0] for x in track_list[event][1]]\n",
    "x3 = [x[0] for x in track_list[event][2]]\n",
    "x4 = [x[0] for x in track_list[event][3]]\n",
    "x5 = [x for x in track_list[event][4]]\n",
    "x6 = [x for x in track_list[event][5]]\n",
    "print(x1)\n",
    "for i in x1:\n",
    "    plt.scatter(0, i, c='r')\n",
    "for i in x2:\n",
    "    plt.scatter(8.5, i, c='orange')\n",
    "for i in x3:\n",
    "    plt.scatter(16.5, i, c='y')\n",
    "for i in x4:\n",
    "    plt.scatter(221, i, c='g')\n",
    "for i in x5:\n",
    "    plt.scatter(262, i, c='blue')\n",
    "for i in x6:\n",
    "    plt.scatter(494, i, c='violet')\n",
    "\n",
    "#plt.plot(best_pts[2], best_pts[0])\n",
    "plt.ylabel('x-axis (cm)')\n",
    "plt.xlabel('z-axis (cm)')\n",
    "#plt.scatter(best_points[2], best_points[0])\n",
    "plt.show()"
   ]
  },
  {
   "cell_type": "code",
   "execution_count": null,
   "metadata": {},
   "outputs": [],
   "source": []
  }
 ],
 "metadata": {
  "kernelspec": {
   "display_name": "Python 3",
   "language": "python",
   "name": "python3"
  },
  "language_info": {
   "codemirror_mode": {
    "name": "ipython",
    "version": 3
   },
   "file_extension": ".py",
   "mimetype": "text/x-python",
   "name": "python",
   "nbconvert_exporter": "python",
   "pygments_lexer": "ipython3",
   "version": "3.6.8"
  }
 },
 "nbformat": 4,
 "nbformat_minor": 4
}

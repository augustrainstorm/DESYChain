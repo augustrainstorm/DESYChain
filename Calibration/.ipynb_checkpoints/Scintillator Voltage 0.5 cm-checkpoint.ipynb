{
 "cells": [
  {
   "cell_type": "code",
   "execution_count": 1,
   "metadata": {},
   "outputs": [
    {
     "name": "stdout",
     "output_type": "stream",
     "text": [
      "Welcome to JupyROOT 6.22/02\n"
     ]
    }
   ],
   "source": [
    "from ROOT import TFile, TCanvas, TH1D\n",
    "import numpy as np\n",
    "runNumbers =[\"1572169691\", \"1572167644\", \"1572001725\"]\n",
    "#other voltages: \"1572097787\",  \"1572097505\",  \"1572187615\", \"1572169691\", \"1572167644\", \"1572001725\", \"1572002093\"      "
   ]
  },
  {
   "cell_type": "code",
   "execution_count": 3,
   "metadata": {},
   "outputs": [
    {
     "name": "stdout",
     "output_type": "stream",
     "text": [
      "means\n",
      "these are the MPVs\n",
      "[2883.08166077 2877.81632509 1237.22024589]\n",
      " FCN=789.625 FROM MIGRAD    STATUS=CONVERGED     131 CALLS         132 TOTAL\n",
      "                     EDM=1.67602e-10    STRATEGY= 1      ERROR MATRIX ACCURATE \n",
      "  EXT PARAMETER                                   STEP         FIRST   \n",
      "  NO.   NAME      VALUE            ERROR          SIZE      DERIVATIVE \n",
      "   1  Constant     2.21400e+04   1.19868e+02   1.11396e+00  -1.26613e-07\n",
      "   2  MPV          2.88308e+03   1.18871e+00   1.29110e-02   1.67429e-05\n",
      "   3  Sigma        1.49199e+02   7.88817e-01   9.67808e-06  -1.96159e-02\n",
      " FCN=2053.25 FROM MIGRAD    STATUS=CONVERGED     126 CALLS         127 TOTAL\n",
      "                     EDM=2.3714e-07    STRATEGY= 1      ERROR MATRIX ACCURATE \n",
      "  EXT PARAMETER                                   STEP         FIRST   \n",
      "  NO.   NAME      VALUE            ERROR          SIZE      DERIVATIVE \n",
      "   1  Constant     5.67560e+04   1.91254e+02   2.86724e+00  -1.99601e-06\n",
      "   2  MPV          2.87782e+03   7.41893e-01   1.30722e-02  -8.44321e-04\n",
      "   3  Sigma        1.49926e+02   4.92569e-01   9.71170e-06  -3.76989e-01\n",
      " FCN=1675.27 FROM MIGRAD    STATUS=CONVERGED     180 CALLS         181 TOTAL\n",
      "                     EDM=1.76533e-11    STRATEGY= 1  ERROR MATRIX UNCERTAINTY   2.1 per cent\n",
      "  EXT PARAMETER                                   STEP         FIRST   \n",
      "  NO.   NAME      VALUE            ERROR          SIZE      DERIVATIVE \n",
      "   1  Constant     2.07648e+04   1.57212e+02   4.29630e-01  -7.86070e-08\n",
      "   2  MPV          1.23722e+03   7.92449e-01   1.21726e-03   2.08661e-06\n",
      "   3  Sigma        8.12986e+01   5.01853e-01   1.13316e-07  -1.45444e-02\n",
      " FCN=789.625 FROM MIGRAD    STATUS=CONVERGED     131 CALLS         132 TOTAL\n",
      "                     EDM=1.67602e-10    STRATEGY= 1      ERROR MATRIX ACCURATE \n",
      "  EXT PARAMETER                                   STEP         FIRST   \n",
      "  NO.   NAME      VALUE            ERROR          SIZE      DERIVATIVE \n",
      "   1  Constant     2.21400e+04   1.19868e+02   1.11396e+00  -1.26613e-07\n",
      "   2  MPV          2.88308e+03   1.18871e+00   1.29110e-02   1.67429e-05\n",
      "   3  Sigma        1.49199e+02   7.88817e-01   9.67808e-06  -1.96159e-02\n",
      " FCN=2053.25 FROM MIGRAD    STATUS=CONVERGED     126 CALLS         127 TOTAL\n",
      "                     EDM=2.3714e-07    STRATEGY= 1      ERROR MATRIX ACCURATE \n",
      "  EXT PARAMETER                                   STEP         FIRST   \n",
      "  NO.   NAME      VALUE            ERROR          SIZE      DERIVATIVE \n",
      "   1  Constant     5.67560e+04   1.91254e+02   2.86724e+00  -1.99601e-06\n",
      "   2  MPV          2.87782e+03   7.41893e-01   1.30722e-02  -8.44321e-04\n",
      "   3  Sigma        1.49926e+02   4.92569e-01   9.71170e-06  -3.76989e-01\n",
      " FCN=1675.27 FROM MIGRAD    STATUS=CONVERGED     180 CALLS         181 TOTAL\n",
      "                     EDM=1.76533e-11    STRATEGY= 1  ERROR MATRIX UNCERTAINTY   2.1 per cent\n",
      "  EXT PARAMETER                                   STEP         FIRST   \n",
      "  NO.   NAME      VALUE            ERROR          SIZE      DERIVATIVE \n",
      "   1  Constant     2.07648e+04   1.57212e+02   4.29630e-01  -7.86070e-08\n",
      "   2  MPV          1.23722e+03   7.92449e-01   1.21726e-03   2.08661e-06\n",
      "   3  Sigma        8.12986e+01   5.01853e-01   1.13316e-07  -1.45444e-02\n"
     ]
    }
   ],
   "source": [
    "#for sam: why did you do the iterat mod 4 in the cell w the comment 'not function graph scint'\n",
    "#Using the 1cm data to compare the voltages\n",
    "\n",
    "from ROOT import TF1\n",
    "import matplotlib.pyplot as plt\n",
    "\n",
    "#means for 0.5cm scintillator \n",
    "scintMeans05cm = []\n",
    "holdScint = []\n",
    "fitti = TF1('fitti', 'landau')\n",
    "\n",
    "#make it a function so we can run it on any scintillator/voltage\n",
    "def fittiGraph(runNums):\n",
    "    #variables\n",
    "    scintMeans = []\n",
    "    holdScint = []\n",
    "    fitti = TF1('fitti', 'landau')\n",
    "    \n",
    "    #base case, if the list of run nums is empty\n",
    "    if runNums == []:\n",
    "        return scintMeans\n",
    "    #recursive step\n",
    "    else:\n",
    "        runName = \"/nfs/dust/fhlabs/group/BL4S/data/DESYChain/ConvertedData/\" + runNums[0] + \".root\"\n",
    "        importFile = TFile(runName, \"READ\")\n",
    "        RAWdata = importFile.Get(\"RAWdata\")\n",
    "        \n",
    "        #draw the hist of the run with landau dist\n",
    "        hist1 = TH1D(\"name\", \"hist\", 100, 200, 3800)\n",
    "        RAWdata.Draw(\"QDC0_ch0>>name\", \"QDC0_ch0<3800 && QDC0_ch0>200\")\n",
    "        hist1.Fit(fitti)\n",
    "        \n",
    "        #store the landau MPV and mean\n",
    "        holdScint = [(fitti.GetParameter(\"MPV\"), hist1.GetMean())]\n",
    "        scintMeans = [(np.mean([i[0] for i in holdScint]), np.mean([i[1] for i in holdScint]))]\n",
    "        \n",
    "        return scintMeans + fittiGraph(runNums[1:])\n",
    "#the second one is the hist mean, the first is the MPV            \n",
    "fittiGraph(runNumbers)\n",
    "#make it an array so that we can slice it easily\n",
    "means = np.array(fittiGraph(runNumbers))\n",
    "#print(fittiGraph(runNumbers))\n",
    "print('means')\n",
    "print('these are the MPVs')\n",
    "print(means[:,0])\n",
    "\n",
    "        \n",
    "#all cells after this are for finding new scint values       "
   ]
  },
  {
   "cell_type": "code",
   "execution_count": 4,
   "metadata": {},
   "outputs": [
    {
     "ename": "SyntaxError",
     "evalue": "invalid syntax (<ipython-input-4-667b756c7c16>, line 11)",
     "output_type": "error",
     "traceback": [
      "\u001b[0;36m  File \u001b[0;32m\"<ipython-input-4-667b756c7c16>\"\u001b[0;36m, line \u001b[0;32m11\u001b[0m\n\u001b[0;31m    print('k =' scint05cmk[0])\u001b[0m\n\u001b[0m                         ^\u001b[0m\n\u001b[0;31mSyntaxError\u001b[0m\u001b[0;31m:\u001b[0m invalid syntax\n"
     ]
    }
   ],
   "source": []
  },
  {
   "cell_type": "code",
   "execution_count": 6,
   "metadata": {},
   "outputs": [
    {
     "name": "stdout",
     "output_type": "stream",
     "text": [
      "[(2883.0816607699685, 3028.307662657008), (2877.8163249265936, 3023.393722273806)]\n",
      " FCN=789.625 FROM MIGRAD    STATUS=CONVERGED     131 CALLS         132 TOTAL\n",
      "                     EDM=1.67602e-10    STRATEGY= 1      ERROR MATRIX ACCURATE \n",
      "  EXT PARAMETER                                   STEP         FIRST   \n",
      "  NO.   NAME      VALUE            ERROR          SIZE      DERIVATIVE \n",
      "   1  Constant     2.21400e+04   1.19868e+02   1.11396e+00  -1.26613e-07\n",
      "   2  MPV          2.88308e+03   1.18871e+00   1.29110e-02   1.67429e-05\n",
      "   3  Sigma        1.49199e+02   7.88817e-01   9.67808e-06  -1.96159e-02\n",
      " FCN=2053.25 FROM MIGRAD    STATUS=CONVERGED     120 CALLS         121 TOTAL\n",
      "                     EDM=2.37478e-07    STRATEGY= 1      ERROR MATRIX ACCURATE \n",
      "  EXT PARAMETER                                   STEP         FIRST   \n",
      "  NO.   NAME      VALUE            ERROR          SIZE      DERIVATIVE \n",
      "   1  Constant     5.67560e+04   1.91254e+02   2.86724e+00  -1.99757e-06\n",
      "   2  MPV          2.87782e+03   7.41893e-01   1.30722e-02  -8.44894e-04\n",
      "   3  Sigma        1.49926e+02   4.92569e-01   9.71170e-06  -3.77313e-01\n"
     ]
    },
    {
     "data": {
      "image/png": "[encoded data removed]",
      "text/plain": [
       "<IPython.core.display.Image object>"
      ]
     },
     "metadata": {},
     "output_type": "display_data"
    }
   ],
   "source": [
    "import matplotlib.pyplot as plt\n",
    "iterat=1\n",
    "maxum=2\n",
    "\n",
    "scintMeans=[]\n",
    "holdScint=[]\n",
    "\n",
    "fitti=TF1(\"fitti\", \"landau\")\n",
    "c1=TCanvas(\"MimosaPlots\", \"MimosaPlots\", 800, 600)\n",
    "\n",
    "for run in runNumbers:\n",
    "    runName=\"/nfs/dust/fhlabs/group/BL4S/data/DESYChain/ConvertedData/\" + run + \".root\"\n",
    "    importFile = TFile(runName, \"READ\")\n",
    "    RAWdata=importFile.Get(\"RAWdata\")\n",
    "    hist1=TH1D(\"name\", \"title\", 100, 200, 3800)\n",
    "\n",
    "    RAWdata.Draw(\"QDC0_ch0>>name\", \"QDC0_ch0<3800 && QDC0_ch0>200\")\n",
    "    hist1.Fit(fitti)\n",
    "\n",
    "    holdScint+=[(fitti.GetParameter(\"MPV\"), hist1.GetMean())] #store both the Landau MPV and mean to our hold\n",
    "    if iterat%1==0:\n",
    "        scintMeans+=[(np.mean([i[0] for i in holdScint]), np.mean([i[1] for i in holdScint]))] #and then calculate both their means and store it\n",
    "        holdScint=[]\n",
    "    iterat+=1\n",
    "    if iterat>maxum:\n",
    "        break\n",
    "    \n",
    "c1.Draw()\n",
    "print(scintMeans)"
   ]
  },
  {
   "cell_type": "code",
   "execution_count": null,
   "metadata": {},
   "outputs": [],
   "source": []
  }
 ],
 "metadata": {
  "kernelspec": {
   "display_name": "Python 3",
   "language": "python",
   "name": "python3"
  },
  "language_info": {
   "codemirror_mode": {
    "name": "ipython",
    "version": 3
   },
   "file_extension": ".py",
   "mimetype": "text/x-python",
   "name": "python",
   "nbconvert_exporter": "python",
   "pygments_lexer": "ipython3",
   "version": "3.6.8"
  }
 },
 "nbformat": 4,
 "nbformat_minor": 4
}

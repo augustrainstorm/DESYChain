{
 "cells": [
  {
   "cell_type": "code",
   "execution_count": 9,
   "metadata": {},
   "outputs": [],
   "source": [
    "from ROOT import TFile, TCanvas, TH1D\n",
    "import numpy as np\n",
    "runNumber1=[\"1572128197\"]\n",
    "runNumber2=[\"1572097787\"]"
   ]
  },
  {
   "cell_type": "code",
   "execution_count": 11,
   "metadata": {},
   "outputs": [
    {
     "name": "stdout",
     "output_type": "stream",
     "text": [
      "1186.3129653436044\n",
      " FCN=2981.87 FROM MIGRAD    STATUS=CONVERGED     201 CALLS         202 TOTAL\n",
      "                     EDM=8.11211e-10    STRATEGY= 1  ERROR MATRIX UNCERTAINTY   1.5 per cent\n",
      "  EXT PARAMETER                                   STEP         FIRST   \n",
      "  NO.   NAME      VALUE            ERROR          SIZE      DERIVATIVE \n",
      "   1  Constant     5.36695e+04   2.79692e+02  -3.83675e-01  -1.35495e-07\n",
      "   2  MPV          1.18631e+03   4.51308e-01   6.27897e-04  -1.26604e-05\n",
      "   3  Sigma        6.62289e+01   2.80288e-01  -7.92052e-08  -1.48699e-01\n"
     ]
    },
    {
     "name": "stderr",
     "output_type": "stream",
     "text": [
      "Warning in <TCanvas::Constructor>: Deleting canvas with same name: MimosaPlots\n"
     ]
    }
   ],
   "source": [
    "from ROOT import TF1\n",
    "import matplotlib.pyplot as plt\n",
    "runName=\"/nfs/dust/fhlabs/group/BL4S/data/DESYChain/ConvertedData/1572128197.root\"\n",
    "importFile = TFile(runName, \"READ\")\n",
    "RAWdata=importFile.Get(\"RAWdata\")\n",
    "c1=TCanvas(\"MimosaPlots\", \"MimosaPlots\", 800, 600)\n",
    "hist1=TH1D(\"name15\", \"Scintillator Response\", 100, 200, 3800)\n",
    "\n",
    "RAWdata.Draw(\"QDC0_ch0>>name15\", \"QDC0_ch0>200 && QDC0_ch0<3800\")\n",
    "hist1.Draw()\n",
    "\n",
    "fitti=TF1(\"fitti\", \"landau\") #the distribution in this sense is the Landau distribution\n",
    "\n",
    "hist1.Fit(fitti) #Paul suggests eventually getting a better fit by mushing together landau and gaussian\n",
    "print(fitti.GetParameter(\"MPV\")) #and MPV refers to the peak"
   ]
  },
  {
   "cell_type": "code",
   "execution_count": 8,
   "metadata": {},
   "outputs": [
    {
     "name": "stdout",
     "output_type": "stream",
     "text": [
      "[]\n",
      " FCN=2981.87 FROM MIGRAD    STATUS=CONVERGED     201 CALLS         202 TOTAL\n",
      "                     EDM=8.11211e-10    STRATEGY= 1  ERROR MATRIX UNCERTAINTY   1.5 per cent\n",
      "  EXT PARAMETER                                   STEP         FIRST   \n",
      "  NO.   NAME      VALUE            ERROR          SIZE      DERIVATIVE \n",
      "   1  Constant     5.36695e+04   2.79692e+02  -3.83675e-01  -1.35495e-07\n",
      "   2  MPV          1.18631e+03   4.51308e-01   6.27897e-04  -1.26604e-05\n",
      "   3  Sigma        6.62289e+01   2.80288e-01  -7.92052e-08  -1.48699e-01\n"
     ]
    },
    {
     "name": "stderr",
     "output_type": "stream",
     "text": [
      "Warning in <TCanvas::Constructor>: Deleting canvas with same name: MimosaPlots\n"
     ]
    },
    {
     "data": {
      "image/png": "[encoded data removed]",
      "text/plain": [
       "<IPython.core.display.Image object>"
      ]
     },
     "metadata": {},
     "output_type": "display_data"
    }
   ],
   "source": [
    "#surprise suprise Sam's code worked. Let's do it again for this first plot - \n",
    "#Now we're going to do it for all the ones in our runNumbers array\n",
    "\n",
    "iterat=1\n",
    "maxum=12\n",
    "\n",
    "scintMeans=[]\n",
    "holdScint=[]\n",
    "\n",
    "fitti=TF1(\"fitti\", \"landau\")\n",
    "\n",
    "for run in runNumber1:\n",
    "    runName=\"/nfs/dust/fhlabs/group/BL4S/data/DESYChain/ConvertedData/\" + run + \".root\"\n",
    "    importFile = TFile(runName, \"READ\")\n",
    "    RAWdata=importFile.Get(\"RAWdata\")\n",
    "    hist1=TH1D(\"name\", \"title\", 100, 200, 3800)\n",
    "\n",
    "    RAWdata.Draw(\"QDC0_ch0>>name\", \"QDC0_ch0<3800 && QDC0_ch0>200\")\n",
    "    hist1.Fit(fitti)\n",
    "\n",
    "    holdScint+=[(fitti.GetParameter(\"MPV\"), hist1.GetMean())] #store both the Landau MPV and mean to our hold\n",
    "    if iterat%4==0:\n",
    "        scintMeans+=[(np.mean([i[0] for i in holdScint]), np.mean([i[1] for i in holdScint]))] #and then calculate both their means and store it\n",
    "        holdScint=[]\n",
    "    iterat+=1\n",
    "    if iterat>maxum:\n",
    "        break\n",
    "    \n",
    "c1.Draw()\n",
    "print(scintMeans)"
   ]
  },
  {
   "cell_type": "code",
   "execution_count": 12,
   "metadata": {},
   "outputs": [
    {
     "name": "stdout",
     "output_type": "stream",
     "text": [
      "[]\n",
      " FCN=705.632 FROM MIGRAD    STATUS=CONVERGED     172 CALLS         173 TOTAL\n",
      "                     EDM=4.59407e-10    STRATEGY= 1      ERROR MATRIX ACCURATE \n",
      "  EXT PARAMETER                                   STEP         FIRST   \n",
      "  NO.   NAME      VALUE            ERROR          SIZE      DERIVATIVE \n",
      "   1  Constant     2.77102e+04   1.45371e+02   1.25902e+00   6.84321e-08\n",
      "   2  MPV          2.56824e+03   9.03574e-01   9.17898e-03  -4.19520e-05\n",
      "   3  Sigma        1.19565e+02   5.45956e-01   6.51669e-06   3.42600e-02\n"
     ]
    },
    {
     "data": {
      "image/png": "[encoded data removed]",
      "text/plain": [
       "<IPython.core.display.Image object>"
      ]
     },
     "metadata": {},
     "output_type": "display_data"
    }
   ],
   "source": [
    "#surprise suprise Sam's code worked. Let's do it again for this first plot - \n",
    "#Now we're going to do it for all the ones in our runNumbers array\n",
    "\n",
    "iterat=1\n",
    "maxum=12\n",
    "\n",
    "scintMeans=[]\n",
    "holdScint=[]\n",
    "\n",
    "fitti=TF1(\"fitti\", \"landau\")\n",
    "\n",
    "for run in runNumber2:\n",
    "    runName=\"/nfs/dust/fhlabs/group/BL4S/data/DESYChain/ConvertedData/\" + run + \".root\"\n",
    "    importFile = TFile(runName, \"READ\")\n",
    "    RAWdata=importFile.Get(\"RAWdata\")\n",
    "    hist1=TH1D(\"name\", \"title\", 100, 200, 3800)\n",
    "\n",
    "    RAWdata.Draw(\"QDC0_ch0>>name\", \"QDC0_ch0<3800 && QDC0_ch0>200\")\n",
    "    hist1.Fit(fitti)\n",
    "\n",
    "    holdScint+=[(fitti.GetParameter(\"MPV\"), hist1.GetMean())] #store both the Landau MPV and mean to our hold\n",
    "    if iterat%4==0:\n",
    "        scintMeans+=[(np.mean([i[0] for i in holdScint]), np.mean([i[1] for i in holdScint]))] #and then calculate both their means and store it\n",
    "        holdScint=[]\n",
    "    iterat+=1\n",
    "    if iterat>maxum:\n",
    "        break\n",
    "    \n",
    "c1.Draw()\n",
    "print(scintMeans)"
   ]
  },
  {
   "cell_type": "code",
   "execution_count": null,
   "metadata": {},
   "outputs": [],
   "source": []
  }
 ],
 "metadata": {
  "kernelspec": {
   "display_name": "Python 3",
   "language": "python",
   "name": "python3"
  },
  "language_info": {
   "codemirror_mode": {
    "name": "ipython",
    "version": 3
   },
   "file_extension": ".py",
   "mimetype": "text/x-python",
   "name": "python",
   "nbconvert_exporter": "python",
   "pygments_lexer": "ipython3",
   "version": "3.6.8"
  }
 },
 "nbformat": 4,
 "nbformat_minor": 4
}

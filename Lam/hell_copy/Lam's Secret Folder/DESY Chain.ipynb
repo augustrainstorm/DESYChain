{
 "cells": [
  {
   "cell_type": "code",
   "execution_count": 2,
   "metadata": {
    "scrolled": true
   },
   "outputs": [
    {
     "name": "stdout",
     "output_type": "stream",
     "text": [
      "['1571922014.root', '1571906097.root', '1572200730.root', '1572182574.root', '1571935652.root', '1572006850.root', '1572013337.root', '1571925880.root', '1571668179.root', '1571823752.root', '1571928699.root', '1571765494.root', '1572199006.root', '1572188327.root', '1572193711.root', '1571906955.root', '1572185366.root', '1572089902.root', '1572167578.root', '1572094221.root', '1572095989.root', '1572104678.root', '1571676993.root', '1572007834.root', '1572012923.root', '.sys.a#.v#1571934315.root.93c095a0-06f1-11ea-870e-a4bf0112db74', '1571931737.root', '1572101517.root', '1572103468.root', '1572012186.root', '1572206843.root', '1571934315.root', '1572199259.root', '1572089109.root', '1572196640.root', '1571824778.root', '1571913030.root', '1571908717.root', '1572005872.root', '1571824140.root', '1571920030.root', '1571937854.root', '1572173990.root', '1572172623.root', '.sys.a#.v#1572106243.root.ab00f8cc-06f1-11ea-a11e-a4bf0112db74', '1572190135.root', '1571950010.root', '1572095620.root', '1572171442.root', '1572197296.root', '1571951573.root', '1571926803.root', '1571950464.root', '1572002093.root', '1571927170.root', '1572208366.root', '1571915680.root', '1571906107.root', '1572178378.root', '1571925201.root', '1572205682.root', '1571909598.root', '1571930905.root', '1572203962.root', '1571926227.root', '1572087074.root', '1571938794.root', '1571932668.root', '1571939524.root', 'DWCConfig.json', '1572002868.root', '1571755142.root', '1572167586.root', '1571905465.root', '1572208189.root', '1571865795.root', '1571924411.root', '1571926511.root', '1572005884.root', '1571676710.root', '1571909460.root', '1572167203.root', '1572098569.root', '1572201397.root', '1572183834.root', '1572090729.root', '1572183476.root', '1572172309.root', '1572203531.root', '1571991208.root', '1572169691.root', '1572100097.root', '1571762828.root', '.sys.a#.v#1571909338.root.88040602-06f1-11ea-870e-a4bf0112db74', '1572180849.root', '1572004934.root', '1571936276.root', '1571771239.root', '1572105827.root', '1571919408.root', '1572209097.root', '1571918053.root', '1571763988.root', '1572007197.root', '1571935569.root', '1571917572.root', '1572174791.root', '1571920674.root', '1571679770.root', '1571905775.root', '1572172945.root', '1572128197.root', '1571863535.root', '1572175587.root', '1571922516.root', '1572194833.root', '1571822855.root', '1571950402.root', '1572181745.root', '1572184952.root', '1571818444.root', '1571740568.root', '1572208805.root', '1572174366.root', '1572184203.root', '1572097505.root', '1571736480.root', '1572089428.root', '1572202090.root', '1571757714.root', '1572087790.root', '1572083953.root', '1572176260.root', '1571939912.root', '1572187615.root', '1571918744.root', '1572088927.root', '1572102973.root', '1572012538.root', '1572200064.root', '1571923287.root', '1571939450.root', '1571675972.root', '1572194409.root', '1572167644.root', '1571913683.root', '1571764735.root', '1571914265.root', '1571938501.root', '1571950936.root', '1571933521.root', '1571921075.root', '1572102470.root', '1572183037.root', '1571931443.root', '.sys.a#.v#1572190135.root.b8ca2ab4-06f1-11ea-a11e-a4bf0112db74', '1571921951.root', '1571769776.root', '1572208951.root', '1572092946.root', '1571907628.root', '1572201758.root', '1571908435.root', '1572169200.root', '1572181315.root', '1572094751.root', '1571992058.root', '1572179299.root', '1572092221.root', '1571925498.root', '1572202506.root', '1571733514.root', '1572190918.root', '1571770488.root', '1571733791.root', '1571922901.root', '1572209281.root', '1571927243.root', '1572008331.root', '1572101587.root', '1571924727.root', '1571921526.root', '1571746891.root', '1571938197.root', '1571907892.root', '1571952846.root', '1572090334.root', '1572001725.root', '1572007510.root', '1572208677.root', '1572006472.root', '1571907163.root', '1572184622.root', '1572192942.root', '1572186485.root', '1572095247.root', '1572097787.root', '1572185799.root', '1571580784.root', '1572207775.root', '1572093775.root', '1571992354.root', '1572085539.root', '1572010318.root', '1571930424.root', '1571678876.root', '1572191829.root', '1571927067.root', '1571993666.root', '1572091281.root', '1571933929.root', '1572191362.root', '1571934931.root', '1571929562.root', '1572171025.root', '1571734395.root', '1572173331.root', '1572108522.root', '1571910905.root', '1572099283.root', '1572010530.root', '1572178751.root', '1571905302.root', '1571732634.root', '1572101077.root', '1572204862.root', '1571669104.root', '1572207988.root', '1571763168.root', '1572176931.root', '1571924084.root', '1571910589.root', '1571907343.root', '.sys.a#.v#1572012186.root.a15abf6a-06f1-11ea-a11e-a4bf0112db74', '1572206303.root', '1572096305.root', '1571932325.root', '1572091455.root', '1571823435.root', '1571772052.root', '1572192584.root', '1572195758.root', '1572204380.root', '1572193352.root', '1571824472.root', '1571909338.root', '1571936885.root', '1572189388.root', '1571906358.root', '1571906677.root', '1571939126.root', '1572194050.root', '1571766271.root', '1571818731.root', '1571865077.root', '1572208515.root', '1572011373.root', '1571667323.root', '1572088771.root', '1572195254.root', '1572170351.root', '.sys.a#.v#1571736681.root.7de1b610-06f1-11ea-870e-a4bf0112db74', '1572102133.root', '1572171865.root', '1572004238.root', '1572203198.root', '1571750686.root', '1571908952.root', '1571933143.root', '1571932015.root', '1571930756.root', '1572013869.root', '1571953473.root', '1571667975.root', '1572196002.root', '1572173645.root', '1571736681.root', '1571991659.root', '1572107138.root', '1572003556.root', '1572091359.root', '1572009598.root', '1571818402.root', '1572105037.root', '1572187970.root', '1572188706.root', '1572202839.root', '1572010964.root', '1571923676.root', '1571950975.root', '1572105397.root', '1571909187.root', '1572088297.root', '1571863563.root', '1572088982.root', '1572175181.root', '1572106685.root', '1571769013.root', '1572106243.root', '1571737402.root', '1572100629.root', '1572008983.root', '1571952203.root', '1572104299.root', '1572192245.root', '1572107806.root', '1571864288.root', '1572199396.root']\n"
     ]
    }
   ],
   "source": [
    "import os, pandas as pd, numpy as np\n",
    "from ROOT import TH1D, TCanvas, TFile\n",
    "import matplotlib.pyplot as plt\n",
    "import seaborn as sns\n",
    "import scipy\n",
    "sns.set()\n",
    "print(os.listdir('/nfs/dust/fhlabs/group/BL4S/data/DESYChain/ConvertedData'))\n",
    "#1572097505"
   ]
  },
  {
   "cell_type": "code",
   "execution_count": 2,
   "metadata": {},
   "outputs": [
    {
     "data": {
      "text/plain": [
       "True"
      ]
     },
     "execution_count": 2,
     "metadata": {},
     "output_type": "execute_result"
    }
   ],
   "source": [
    "os.path.exists('/nfs/dust/fhlabs/group/BL4S/data/DESYChain/ConvertedData/1572002868.root')"
   ]
  },
  {
   "cell_type": "code",
   "execution_count": 3,
   "metadata": {},
   "outputs": [],
   "source": [
    "class Event:\n",
    "    \n",
    "    def __init__ (self, event):\n",
    "        self.event = event\n",
    "        \n",
    "    def get_branch_value (self, branch):\n",
    "        return getattr(self.event, branch)\n",
    "    \n",
    "class Calibration:\n",
    "    \n",
    "    def __init__ (self, main_ttree, test_detector_ttree, fixed_detector_ttree):\n",
    "        self.main_ttree = main_ttree\n",
    "        self.test_detector_ttree = test_detector_ttree\n",
    "        self.fixed_detector_ttree = fixed_detector_ttree\n",
    "        \n",
    "    def calculate_offset (self):\n",
    "        \n",
    "        clusterX_dict = {}\n",
    "        clusterY_dict = {}\n",
    "        clusterZ_dict = {}\n",
    "        \n",
    "        for i in range(2):\n",
    "            clusterX_dict[i] = []\n",
    "            clusterY_dict[i] = []\n",
    "            clusterY_dict[i] = []\n",
    "        \n",
    "        for e in self.main_ttree:\n",
    "            event = Event(e)\n",
    "            print(e.alpide_51_pos_x)\n",
    "            '''\n",
    "            clusterX_dict[0] = event.get_branch_value(self.test_detector_ttree)\n",
    "            clusterY_dict[0] = event.get_branch_value(self.test_detector_ttree)\n",
    "            clusterZ_dict[0] = event.get_branch_value(self.test_detector_ttree)\n",
    "            \n",
    "            clusterX_dict[1] = event.get_branch_value(self.fixed_detector_ttree)\n",
    "            clusterY_dict[1] = event.get_branch_value(self.fixed_detector_ttree)\n",
    "            clusterZ_dict[1] = event.get_branch_value(self.fixed_detector_ttree)\n",
    "               ''' \n",
    "       \n",
    "        diff = [a-b for a,b in zip(clusterX_dict[0], clusterX_dict[1])]\n",
    "            \n",
    "        mean_x = np.array(diff_x).mean()\n",
    "            \n",
    "        print('offset between ' + self.test_detector_ttree + ' and 55 =' + str(mean_x))\n",
    "    "
   ]
  },
  {
   "cell_type": "code",
   "execution_count": 4,
   "metadata": {},
   "outputs": [
    {
     "name": "stdout",
     "output_type": "stream",
     "text": [
      "[(-0.37167999999999995, -0.5041599999999999), (0.56304, -0.23919999999999997), (-0.23643999999999998, -0.00552), (-1.0046399999999998, 0.10303999999999999), (-0.14536, -0.32015999999999994), (-0.26587999999999995, -0.24655999999999997)]\n"
     ]
    }
   ],
   "source": [
    "class Cluster:\n",
    "    def __init__(self, pixels_list):\n",
    "        self.x = 0\n",
    "        self.y = 0\n",
    "        self.pixels_list = pixels_list\n",
    "        \n",
    "    def calc_center(self):\n",
    "        sum_x = 0\n",
    "        sum_y = 0\n",
    "        for (i,j) in self.pixels_list:\n",
    "            sum_x += i\n",
    "            sum_y += j\n",
    "            \n",
    "        self.x = sum_x / len(self.pixels_list)\n",
    "        self.y = sum_y / len(self.pixels_list)\n",
    "        \n",
    "        self.x = (self.x - 576) * 2.11968 /1152\n",
    "        self.y = (self.y - 288) * 1.05984 /576\n",
    "        \n",
    "        return (self.x, self.y)\n",
    "    \n",
    "    def print(self):\n",
    "        print(self.pixels_list)\n",
    "    \n",
    "    def add(self, pixel):\n",
    "        self.pixels_list.append(pixel)\n",
    "        \n",
    "class ClusterAlgorithm:\n",
    "        \n",
    "    def calc_clusters(self, pixels_listX, pixels_listY):\n",
    "        cluster_list = []\n",
    "        \n",
    "        pixels_list = list(map(lambda x, y:(x,y), pixels_listX, pixels_listY))\n",
    "        pixels_to_check = list(map(lambda x, y:(x,y), pixels_listX, pixels_listY)) \n",
    "        \n",
    "        for pixel in pixels_list:\n",
    "            #Remove current pixel from pixels_to_check list in order to compare all other pixels\n",
    "            if pixel in pixels_to_check:\n",
    "                pixels_to_check.remove(pixel)\n",
    "            else:\n",
    "                continue\n",
    "            \n",
    "            #Determine if current pixel can fit into existing cluster\n",
    "            #If so, return the cluster\n",
    "            found_cluster, cluster = self.has_cluster(cluster_list, pixel)\n",
    "            \n",
    "            if found_cluster:\n",
    "                #Add pixel to existing cluster\n",
    "                cluster_list[cluster_list.index(cluster)].add(pixel)\n",
    "            else:\n",
    "                #Create new cluster from pixel\n",
    "                c = Cluster([pixel])\n",
    "                for pixel_unchecked in pixels_to_check:\n",
    "                    #Add remaining pixels to cluster if they are direct neighbors with current pixel\n",
    "                    if self.are_neighbors(pixel_unchecked, pixel):\n",
    "                        c.add(pixel_unchecked)\n",
    "                        pixels_to_check.remove(pixel_unchecked)\n",
    "                cluster_list.append(c)\n",
    "        \n",
    "        cluster_centers = []\n",
    "        for cluster in cluster_list:\n",
    "            cluster_centers.append(cluster.calc_center())\n",
    "        \n",
    "        return cluster_centers\n",
    "         \n",
    "    def are_neighbors(self, pixel1, pixel2):\n",
    "        if abs(pixel1[0] - pixel2[0]) <= 1 and abs(pixel1[1] - pixel2[1]) <= 1:\n",
    "            return True\n",
    "        else:\n",
    "            return False\n",
    "            \n",
    "    def has_cluster(self, cluster_list, pixel):\n",
    "        for cluster in cluster_list:\n",
    "            for p in cluster.pixels_list:\n",
    "                if self.are_neighbors(pixel, p):\n",
    "                    return True, cluster\n",
    "        return False, None\n",
    "    \n",
    "pixels_list = [(1,1), (2,1), (3,1), (4,1), (5,1), (2,2), (6,5), (6,6), (7,6), (7,5), (8,5), (10, 10)]\n",
    "pixels_listX = [374, 882, 447, 448, 30, 497, 431, 432]\n",
    "pixels_listY = [14, 158, 285, 285, 344, 114, 154, 154]\n",
    "cluster_algo = ClusterAlgorithm()\n",
    "\n",
    "f = cluster_algo.calc_clusters(pixels_listX, pixels_listY)\n",
    "\n",
    "print(f)"
   ]
  },
  {
   "cell_type": "code",
   "execution_count": 5,
   "metadata": {},
   "outputs": [],
   "source": [
    "class RootFile:\n",
    "    \n",
    "    def __init__(self, file_name, options):\n",
    "        self.tfile = TFile(file_name, options)\n",
    "        \n",
    "    def print_trees(self):\n",
    "        self.tfile.ls()\n",
    "        \n",
    "    def print_branches_in_tree(self, ttree):\n",
    "        self.tfile.Get(ttree).Print()\n",
    "        \n",
    "    def load_to_dataframe(self, _ttree='', branches=None):\n",
    "        \n",
    "        ttree = self.tfile.Get(_ttree)\n",
    "        counter = 0\n",
    "        \n",
    "        branches_list = []\n",
    "        if branches is None:\n",
    "            for tbranch in ttree.GetListOfBranches():\n",
    "                branches_list.append(str(tbranch).split()[1])\n",
    "        else:\n",
    "            branches_list = branches\n",
    "        \n",
    "        df = pd.DataFrame(columns=branches_list)\n",
    "            \n",
    "        \n",
    "        for branch_str in branches_list:\n",
    "            \n",
    "            data_list = []\n",
    "            \n",
    "            for event in ttree:\n",
    "                data_list.append(getattr(event, branch_str))\n",
    "            df[branch_str] = data_list\n",
    "            \n",
    "        return df\n",
    "    \n",
    "    def branch_to_nparray(self, _ttree, branch):\n",
    "        ttree = self.tfile.Get(_ttree)\n",
    "        data_list = []\n",
    "        for event in ttree:\n",
    "            data_list.append(getattr(event, branch))\n",
    "        \n",
    "        arr = np.array(data_list)\n",
    "      \n",
    "        return data_list\n",
    "    \n",
    "    def get_tree(self, ttree_name):\n",
    "        return self.tfile.Get(ttree_name)\n",
    "   \n",
    "    def cluster(self, dataframe, branch_list=[]):\n",
    "        cluster_df = pd.DataFrame(columns=branch_list)\n",
    "        for branch in branch_list:\n",
    "            cluster_list = []\n",
    "            for cluster in dataframe[branch]:\n",
    "                total = 0\n",
    "                counter = 0\n",
    "                for i in cluster:\n",
    "                    total += i\n",
    "                    counter += 1\n",
    "                avg = total/counter if counter is not 0 else 0\n",
    "                cluster_list.append(avg)\n",
    "            cluster_df[branch] = cluster_list     \n",
    "            \n",
    "        return cluster_df"
   ]
  },
  {
   "cell_type": "code",
   "execution_count": 6,
   "metadata": {},
   "outputs": [],
   "source": [
    "class Histogram:\n",
    "    \n",
    "    def __init__(self, detector_ttree, detector_tbranch_list=[], canvas_division = (),\n",
    "                 bins=0, x_min=0, x_max=0):\n",
    "        self.detector_ttree = detector_ttree\n",
    "        self.detector_tbranch_list = detector_tbranch_list\n",
    "        self.canvas_division = canvas_division\n",
    "        self.bins = bins\n",
    "        self.x_min = x_min\n",
    "        self.x_max = x_max\n",
    "    \n",
    "    def root_histogram(self):\n",
    "        hist = TH1D('hist', '', self.bins, self.x_min, self.x_max)\n",
    "        canvas = TCanvas('canvas', 'canvas', 800, 600)\n",
    "        canvas.Divide(self.canvas_division[0], self.canvas_division[1])\n",
    "        counter = 1\n",
    "        num_divisions = self.canvas_division[0] * self.canvas_division[1]\n",
    "        \n",
    "        for tbranch in self.detector_tbranch_list:\n",
    "            canvas.cd(counter)\n",
    "            self.detector_ttree.Draw(tbranch+'>>hist')\n",
    "            print(tbranch)\n",
    "            counter += 1\n",
    "        \n",
    "        canvas.Draw()\n",
    "        hist.Draw()\n",
    "\n",
    "        return canvas, hist\n",
    "    \n",
    "    def draw_branch_histograms(self):\n",
    "        canvas = TCanvas('canvas', 'canvas', 800, 600)\n",
    "        canvas.Divide(self.canvas_division[0], self.canvas_division[1])\n",
    "        counter = 1\n",
    "        for branch in self.detector_tbranch_list:\n",
    "            canvas.cd(counter)\n",
    "            self.detector_ttree.Draw(branch)\n",
    "            counter += 1\n",
    "        canvas.Draw()\n",
    "        return canvas\n",
    "    \n",
    "    def set_branches(self, branch_list):\n",
    "        self.detector_tbranch_list = branch_list"
   ]
  },
  {
   "cell_type": "code",
   "execution_count": 7,
   "metadata": {},
   "outputs": [],
   "source": [
    "file = RootFile('/nfs/dust/fhlabs/group/BL4S/data/DESYChain/ConvertedData/1572179299.root', 'READ')"
   ]
  },
  {
   "cell_type": "code",
   "execution_count": 8,
   "metadata": {
    "scrolled": true
   },
   "outputs": [
    {
     "name": "stdout",
     "output_type": "stream",
     "text": [
      "TFile**\t\t/nfs/dust/fhlabs/group/BL4S/data/DESYChain/ConvertedData/1572179299.root\t\n",
      " TFile*\t\t/nfs/dust/fhlabs/group/BL4S/data/DESYChain/ConvertedData/1572179299.root\t\n",
      "  KEY: TTree\tRAWdata;2\tBL4S RAW data tree\n",
      "  KEY: TTree\tRAWdata;1\tBL4S RAW data tree\n",
      "  KEY: TTree\tRECOdata;2\tBL4S RECO data tree\n",
      "  KEY: TTree\tRECOdata;1\tBL4S RECO data tree\n",
      "******************************************************************************\n",
      "*Tree    :RAWdata   : BL4S RAW data tree                                     *\n",
      "*Entries :   200496 : Total =       179947552 bytes  File  Size =   40851327 *\n",
      "*        :          : Tree compression factor =   4.41                       *\n",
      "******************************************************************************\n",
      "*Br    0 :QDC0_ch0  : QDC0_ch0/i                                             *\n",
      "*Entries :   200496 : Total  Size=     804261 bytes  File Size  =     460005 *\n",
      "*Baskets :       20 : Basket Size=     674304 bytes  Compression=   1.75     *\n",
      "*............................................................................*\n",
      "*Br    1 :QDC0_ch1  : QDC0_ch1/i                                             *\n",
      "*Entries :   200496 : Total  Size=     804261 bytes  File Size  =     339693 *\n",
      "*Baskets :       20 : Basket Size=     674304 bytes  Compression=   2.37     *\n",
      "*............................................................................*\n",
      "*Br    2 :QDC0_ch2  : QDC0_ch2/i                                             *\n",
      "*Entries :   200496 : Total  Size=     804261 bytes  File Size  =     453619 *\n",
      "*Baskets :       20 : Basket Size=     674304 bytes  Compression=   1.77     *\n",
      "*............................................................................*\n",
      "*Br    3 :QDC0_ch3  : QDC0_ch3/i                                             *\n",
      "*Entries :   200496 : Total  Size=     804261 bytes  File Size  =     370638 *\n",
      "*Baskets :       20 : Basket Size=     674304 bytes  Compression=   2.17     *\n",
      "*............................................................................*\n",
      "*Br    4 :QDC0_ch4  : QDC0_ch4/i                                             *\n",
      "*Entries :   200496 : Total  Size=     804261 bytes  File Size  =     276275 *\n",
      "*Baskets :       20 : Basket Size=     674304 bytes  Compression=   2.91     *\n",
      "*............................................................................*\n",
      "*Br    5 :QDC0_ch5  : QDC0_ch5/i                                             *\n",
      "*Entries :   200496 : Total  Size=     804261 bytes  File Size  =     271763 *\n",
      "*Baskets :       20 : Basket Size=     674304 bytes  Compression=   2.96     *\n",
      "*............................................................................*\n",
      "*Br    6 :QDC0_ch6  : QDC0_ch6/i                                             *\n",
      "*Entries :   200496 : Total  Size=     804261 bytes  File Size  =      97293 *\n",
      "*Baskets :       20 : Basket Size=     674304 bytes  Compression=   8.26     *\n",
      "*............................................................................*\n",
      "*Br    7 :QDC0_ch7  : QDC0_ch7/i                                             *\n",
      "*Entries :   200496 : Total  Size=     804261 bytes  File Size  =      64133 *\n",
      "*Baskets :       20 : Basket Size=     674304 bytes  Compression=  12.53     *\n",
      "*............................................................................*\n",
      "*Br    8 :QDC0_ch8  : QDC0_ch8/i                                             *\n",
      "*Entries :   200496 : Total  Size=     804261 bytes  File Size  =      87697 *\n",
      "*Baskets :       20 : Basket Size=     674304 bytes  Compression=   9.16     *\n",
      "*............................................................................*\n",
      "*Br    9 :QDC0_ch9  : QDC0_ch9/i                                             *\n",
      "*Entries :   200496 : Total  Size=     804261 bytes  File Size  =      59869 *\n",
      "*Baskets :       20 : Basket Size=     674304 bytes  Compression=  13.42     *\n",
      "*............................................................................*\n",
      "*Br   10 :QDC0_ch10 : QDC0_ch10/i                                            *\n",
      "*Entries :   200496 : Total  Size=     804285 bytes  File Size  =      79556 *\n",
      "*Baskets :       20 : Basket Size=     674304 bytes  Compression=  10.10     *\n",
      "*............................................................................*\n",
      "*Br   11 :QDC0_ch11 : QDC0_ch11/i                                            *\n",
      "*Entries :   200496 : Total  Size=     804285 bytes  File Size  =      63840 *\n",
      "*Baskets :       20 : Basket Size=     674304 bytes  Compression=  12.59     *\n",
      "*............................................................................*\n",
      "*Br   12 :QDC0_ch12 : QDC0_ch12/i                                            *\n",
      "*Entries :   200496 : Total  Size=     804285 bytes  File Size  =      81245 *\n",
      "*Baskets :       20 : Basket Size=     674304 bytes  Compression=   9.89     *\n",
      "*............................................................................*\n",
      "*Br   13 :QDC0_ch13 : QDC0_ch13/i                                            *\n",
      "*Entries :   200496 : Total  Size=     804285 bytes  File Size  =      75587 *\n",
      "*Baskets :       20 : Basket Size=     674304 bytes  Compression=  10.63     *\n",
      "*............................................................................*\n",
      "*Br   14 :QDC0_ch14 : QDC0_ch14/i                                            *\n",
      "*Entries :   200496 : Total  Size=     804285 bytes  File Size  =      75695 *\n",
      "*Baskets :       20 : Basket Size=     674304 bytes  Compression=  10.62     *\n",
      "*............................................................................*\n",
      "*Br   15 :QDC0_ch15 : QDC0_ch15/i                                            *\n",
      "*Entries :   200496 : Total  Size=     804285 bytes  File Size  =      63867 *\n",
      "*Baskets :       20 : Basket Size=     674304 bytes  Compression=  12.58     *\n",
      "*............................................................................*\n",
      "*Br   16 :QDC0_ch16 : QDC0_ch16/i                                            *\n",
      "*Entries :   200496 : Total  Size=     804285 bytes  File Size  =      50423 *\n",
      "*Baskets :       20 : Basket Size=     674304 bytes  Compression=  15.94     *\n",
      "*............................................................................*\n",
      "*Br   17 :QDC0_ch17 : QDC0_ch17/i                                            *\n",
      "*Entries :   200496 : Total  Size=     804285 bytes  File Size  =      83181 *\n",
      "*Baskets :       20 : Basket Size=     674304 bytes  Compression=   9.66     *\n",
      "*............................................................................*\n",
      "*Br   18 :QDC0_ch18 : QDC0_ch18/i                                            *\n",
      "*Entries :   200496 : Total  Size=     804285 bytes  File Size  =      76894 *\n",
      "*Baskets :       20 : Basket Size=     674304 bytes  Compression=  10.45     *\n",
      "*............................................................................*\n",
      "*Br   19 :QDC0_ch19 : QDC0_ch19/i                                            *\n",
      "*Entries :   200496 : Total  Size=     804285 bytes  File Size  =      47283 *\n",
      "*Baskets :       20 : Basket Size=     674304 bytes  Compression=  16.99     *\n",
      "*............................................................................*\n",
      "*Br   20 :QDC0_ch20 : QDC0_ch20/i                                            *\n",
      "*Entries :   200496 : Total  Size=     804285 bytes  File Size  =      57003 *\n",
      "*Baskets :       20 : Basket Size=     674304 bytes  Compression=  14.10     *\n",
      "*............................................................................*\n",
      "*Br   21 :QDC0_ch21 : QDC0_ch21/i                                            *\n",
      "*Entries :   200496 : Total  Size=     804285 bytes  File Size  =      68458 *\n",
      "*Baskets :       20 : Basket Size=     674304 bytes  Compression=  11.74     *\n",
      "*............................................................................*\n",
      "*Br   22 :QDC0_ch22 : QDC0_ch22/i                                            *\n",
      "*Entries :   200496 : Total  Size=     804285 bytes  File Size  =      80871 *\n",
      "*Baskets :       20 : Basket Size=     674304 bytes  Compression=   9.94     *\n",
      "*............................................................................*\n",
      "*Br   23 :QDC0_ch23 : QDC0_ch23/i                                            *\n",
      "*Entries :   200496 : Total  Size=     804285 bytes  File Size  =      47553 *\n",
      "*Baskets :       20 : Basket Size=     674304 bytes  Compression=  16.90     *\n",
      "*............................................................................*\n",
      "*Br   24 :QDC0_ch24 : QDC0_ch24/i                                            *\n",
      "*Entries :   200496 : Total  Size=     804285 bytes  File Size  =      49349 *\n",
      "*Baskets :       20 : Basket Size=     674304 bytes  Compression=  16.28     *\n",
      "*............................................................................*\n",
      "*Br   25 :QDC0_ch25 : QDC0_ch25/i                                            *\n",
      "*Entries :   200496 : Total  Size=     804285 bytes  File Size  =      65210 *\n",
      "*Baskets :       20 : Basket Size=     674304 bytes  Compression=  12.32     *\n",
      "*............................................................................*\n",
      "*Br   26 :QDC0_ch26 : QDC0_ch26/i                                            *\n",
      "*Entries :   200496 : Total  Size=     804285 bytes  File Size  =      50218 *\n",
      "*Baskets :       20 : Basket Size=     674304 bytes  Compression=  16.00     *\n",
      "*............................................................................*\n",
      "*Br   27 :QDC0_ch27 : QDC0_ch27/i                                            *\n",
      "*Entries :   200496 : Total  Size=     804285 bytes  File Size  =      81481 *\n",
      "*Baskets :       20 : Basket Size=     674304 bytes  Compression=   9.86     *\n",
      "*............................................................................*\n",
      "*Br   28 :QDC0_ch28 : QDC0_ch28/i                                            *\n",
      "*Entries :   200496 : Total  Size=     804285 bytes  File Size  =      40279 *\n",
      "*Baskets :       20 : Basket Size=     674304 bytes  Compression=  19.95     *\n",
      "*............................................................................*\n",
      "*Br   29 :QDC0_ch29 : QDC0_ch29/i                                            *\n",
      "*Entries :   200496 : Total  Size=     804285 bytes  File Size  =      40176 *\n",
      "*Baskets :       20 : Basket Size=     674304 bytes  Compression=  20.00     *\n",
      "*............................................................................*\n",
      "*Br   30 :QDC0_ch30 : QDC0_ch30/i                                            *\n",
      "*Entries :   200496 : Total  Size=     804285 bytes  File Size  =      41000 *\n",
      "*Baskets :       20 : Basket Size=     674304 bytes  Compression=  19.60     *\n",
      "*............................................................................*\n",
      "*Br   31 :QDC0_ch31 : QDC0_ch31/i                                            *\n",
      "*Entries :   200496 : Total  Size=     804285 bytes  File Size  =      80603 *\n",
      "*Baskets :       20 : Basket Size=     674304 bytes  Compression=   9.97     *\n",
      "*............................................................................*\n",
      "*Br   32 :NTDC0_ch0 : UInt_t Number of entries in branch TDC0_ch0            *\n",
      "*Entries :   200496 : Total  Size=     804310 bytes  File Size  =      86216 *\n",
      "*Baskets :       20 : Basket Size=     674304 bytes  Compression=   9.32     *\n",
      "*............................................................................*\n",
      "*Br   33 :TDC0_ch0  : TDC0_ch0[NTDC0_ch0]/i                                  *\n",
      "*Entries :   200496 : Total  Size=    1448463 bytes  File Size  =     653492 *\n",
      "*Baskets :       53 : Basket Size=    1123840 bytes  Compression=   2.21     *\n",
      "*............................................................................*\n",
      "*Br   34 :NTDC0_ch1 : UInt_t Number of entries in branch TDC0_ch1            *\n",
      "*Entries :   200496 : Total  Size=     804310 bytes  File Size  =      85235 *\n",
      "*Baskets :       20 : Basket Size=     674304 bytes  Compression=   9.43     *\n",
      "*............................................................................*\n",
      "*Br   35 :TDC0_ch1  : TDC0_ch1[NTDC0_ch1]/i                                  *\n",
      "*Entries :   200496 : Total  Size=    1445583 bytes  File Size  =     651480 *\n",
      "*Baskets :       53 : Basket Size=    1121280 bytes  Compression=   2.22     *\n",
      "*............................................................................*\n",
      "*Br   36 :NTDC0_ch2 : UInt_t Number of entries in branch TDC0_ch2            *\n",
      "*Entries :   200496 : Total  Size=     804310 bytes  File Size  =      85848 *\n",
      "*Baskets :       20 : Basket Size=     674304 bytes  Compression=   9.36     *\n",
      "*............................................................................*\n",
      "*Br   37 :TDC0_ch2  : TDC0_ch2[NTDC0_ch2]/i                                  *\n",
      "*Entries :   200496 : Total  Size=    1451463 bytes  File Size  =     657341 *\n",
      "*Baskets :       53 : Basket Size=    1125376 bytes  Compression=   2.21     *\n",
      "*............................................................................*\n",
      "*Br   38 :NTDC0_ch3 : UInt_t Number of entries in branch TDC0_ch3            *\n",
      "*Entries :   200496 : Total  Size=     804310 bytes  File Size  =      85892 *\n",
      "*Baskets :       20 : Basket Size=     674304 bytes  Compression=   9.36     *\n",
      "*............................................................................*\n",
      "*Br   39 :TDC0_ch3  : TDC0_ch3[NTDC0_ch3]/i                                  *\n",
      "*Entries :   200496 : Total  Size=    1451747 bytes  File Size  =     656585 *\n",
      "*Baskets :       53 : Basket Size=    1125888 bytes  Compression=   2.21     *\n",
      "*............................................................................*\n",
      "*Br   40 :NTDC0_ch4 : UInt_t Number of entries in branch TDC0_ch4            *\n",
      "*Entries :   200496 : Total  Size=     804310 bytes  File Size  =       5732 *\n",
      "*Baskets :       20 : Basket Size=     674304 bytes  Compression= 140.19     *\n",
      "*............................................................................*\n",
      "*Br   41 :TDC0_ch4  : TDC0_ch4[NTDC0_ch4]/i                                  *\n",
      "*Entries :   200496 : Total  Size=     806429 bytes  File Size  =       8393 *\n",
      "*Baskets :       38 : Basket Size=     644608 bytes  Compression=  95.94     *\n",
      "*............................................................................*\n",
      "*Br   42 :NTDC0_ch5 : UInt_t Number of entries in branch TDC0_ch5            *\n",
      "*Entries :   200496 : Total  Size=     804310 bytes  File Size  =       5732 *\n",
      "*Baskets :       20 : Basket Size=     674304 bytes  Compression= 140.19     *\n",
      "*............................................................................*\n",
      "*Br   43 :TDC0_ch5  : TDC0_ch5[NTDC0_ch5]/i                                  *\n",
      "*Entries :   200496 : Total  Size=     806429 bytes  File Size  =       8393 *\n",
      "*Baskets :       38 : Basket Size=     644608 bytes  Compression=  95.94     *\n",
      "*............................................................................*\n",
      "*Br   44 :NTDC0_ch6 : UInt_t Number of entries in branch TDC0_ch6            *\n",
      "*Entries :   200496 : Total  Size=     804310 bytes  File Size  =       5732 *\n",
      "*Baskets :       20 : Basket Size=     674304 bytes  Compression= 140.19     *\n",
      "*............................................................................*\n",
      "*Br   45 :TDC0_ch6  : TDC0_ch6[NTDC0_ch6]/i                                  *\n",
      "*Entries :   200496 : Total  Size=     806429 bytes  File Size  =       8393 *\n",
      "*Baskets :       38 : Basket Size=     644608 bytes  Compression=  95.94     *\n",
      "*............................................................................*\n",
      "*Br   46 :NTDC0_ch7 : UInt_t Number of entries in branch TDC0_ch7            *\n",
      "*Entries :   200496 : Total  Size=     804310 bytes  File Size  =       5732 *\n",
      "*Baskets :       20 : Basket Size=     674304 bytes  Compression= 140.19     *\n",
      "*............................................................................*\n",
      "*Br   47 :TDC0_ch7  : TDC0_ch7[NTDC0_ch7]/i                                  *\n",
      "*Entries :   200496 : Total  Size=     806429 bytes  File Size  =       8393 *\n",
      "*Baskets :       38 : Basket Size=     644608 bytes  Compression=  95.94     *\n",
      "*............................................................................*\n",
      "*Br   48 :NTDC0_ch8 : UInt_t Number of entries in branch TDC0_ch8            *\n",
      "*Entries :   200496 : Total  Size=     804310 bytes  File Size  =       5732 *\n",
      "*Baskets :       20 : Basket Size=     674304 bytes  Compression= 140.19     *\n",
      "*............................................................................*\n",
      "*Br   49 :TDC0_ch8  : TDC0_ch8[NTDC0_ch8]/i                                  *\n",
      "*Entries :   200496 : Total  Size=     806429 bytes  File Size  =       8393 *\n",
      "*Baskets :       38 : Basket Size=     644608 bytes  Compression=  95.94     *\n",
      "*............................................................................*\n",
      "*Br   50 :NTDC0_ch9 : UInt_t Number of entries in branch TDC0_ch9            *\n",
      "*Entries :   200496 : Total  Size=     804310 bytes  File Size  =       5732 *\n",
      "*Baskets :       20 : Basket Size=     674304 bytes  Compression= 140.19     *\n",
      "*............................................................................*\n",
      "*Br   51 :TDC0_ch9  : TDC0_ch9[NTDC0_ch9]/i                                  *\n",
      "*Entries :   200496 : Total  Size=     806429 bytes  File Size  =       8393 *\n",
      "*Baskets :       38 : Basket Size=     644608 bytes  Compression=  95.94     *\n",
      "*............................................................................*\n",
      "*Br   52 :NTDC0_ch10 : UInt_t Number of entries in branch TDC0_ch10          *\n",
      "*Entries :   200496 : Total  Size=     804334 bytes  File Size  =       5751 *\n",
      "*Baskets :       20 : Basket Size=     674304 bytes  Compression= 139.73     *\n",
      "*............................................................................*\n",
      "*Br   53 :TDC0_ch10 : TDC0_ch10[NTDC0_ch10]/i                                *\n",
      "*Entries :   200496 : Total  Size=     806475 bytes  File Size  =       8431 *\n",
      "*Baskets :       38 : Basket Size=     644608 bytes  Compression=  95.52     *\n",
      "*............................................................................*\n",
      "*Br   54 :NTDC0_ch11 : UInt_t Number of entries in branch TDC0_ch11          *\n",
      "*Entries :   200496 : Total  Size=     804334 bytes  File Size  =       5751 *\n",
      "*Baskets :       20 : Basket Size=     674304 bytes  Compression= 139.73     *\n",
      "*............................................................................*\n",
      "*Br   55 :TDC0_ch11 : TDC0_ch11[NTDC0_ch11]/i                                *\n",
      "*Entries :   200496 : Total  Size=     806475 bytes  File Size  =       8431 *\n",
      "*Baskets :       38 : Basket Size=     644608 bytes  Compression=  95.52     *\n",
      "*............................................................................*\n",
      "*Br   56 :NTDC0_ch12 : UInt_t Number of entries in branch TDC0_ch12          *\n",
      "*Entries :   200496 : Total  Size=     804334 bytes  File Size  =       5751 *\n",
      "*Baskets :       20 : Basket Size=     674304 bytes  Compression= 139.73     *\n",
      "*............................................................................*\n",
      "*Br   57 :TDC0_ch12 : TDC0_ch12[NTDC0_ch12]/i                                *\n",
      "*Entries :   200496 : Total  Size=     806475 bytes  File Size  =       8431 *\n",
      "*Baskets :       38 : Basket Size=     644608 bytes  Compression=  95.52     *\n",
      "*............................................................................*\n",
      "*Br   58 :NTDC0_ch13 : UInt_t Number of entries in branch TDC0_ch13          *\n",
      "*Entries :   200496 : Total  Size=     804334 bytes  File Size  =       5751 *\n",
      "*Baskets :       20 : Basket Size=     674304 bytes  Compression= 139.73     *\n",
      "*............................................................................*\n",
      "*Br   59 :TDC0_ch13 : TDC0_ch13[NTDC0_ch13]/i                                *\n",
      "*Entries :   200496 : Total  Size=     806475 bytes  File Size  =       8431 *\n",
      "*Baskets :       38 : Basket Size=     644608 bytes  Compression=  95.52     *\n",
      "*............................................................................*\n",
      "*Br   60 :NTDC0_ch14 : UInt_t Number of entries in branch TDC0_ch14          *\n",
      "*Entries :   200496 : Total  Size=     804334 bytes  File Size  =       5751 *\n",
      "*Baskets :       20 : Basket Size=     674304 bytes  Compression= 139.73     *\n",
      "*............................................................................*\n",
      "*Br   61 :TDC0_ch14 : TDC0_ch14[NTDC0_ch14]/i                                *\n",
      "*Entries :   200496 : Total  Size=     806475 bytes  File Size  =       8431 *\n",
      "*Baskets :       38 : Basket Size=     644608 bytes  Compression=  95.52     *\n",
      "*............................................................................*\n",
      "*Br   62 :NTDC0_ch15 : UInt_t Number of entries in branch TDC0_ch15          *\n",
      "*Entries :   200496 : Total  Size=     804334 bytes  File Size  =       5751 *\n",
      "*Baskets :       20 : Basket Size=     674304 bytes  Compression= 139.73     *\n",
      "*............................................................................*\n",
      "*Br   63 :TDC0_ch15 : TDC0_ch15[NTDC0_ch15]/i                                *\n",
      "*Entries :   200496 : Total  Size=     806475 bytes  File Size  =       8431 *\n",
      "*Baskets :       38 : Basket Size=     644608 bytes  Compression=  95.52     *\n",
      "*............................................................................*\n",
      "*Br   64 :NTDC0_ch16 : UInt_t Number of entries in branch TDC0_ch16          *\n",
      "*Entries :   200496 : Total  Size=     804334 bytes  File Size  =       5751 *\n",
      "*Baskets :       20 : Basket Size=     674304 bytes  Compression= 139.73     *\n",
      "*............................................................................*\n",
      "*Br   65 :TDC0_ch16 : TDC0_ch16[NTDC0_ch16]/i                                *\n",
      "*Entries :   200496 : Total  Size=     806475 bytes  File Size  =       8431 *\n",
      "*Baskets :       38 : Basket Size=     644608 bytes  Compression=  95.52     *\n",
      "*............................................................................*\n",
      "*Br   66 :NTDC0_ch17 : UInt_t Number of entries in branch TDC0_ch17          *\n",
      "*Entries :   200496 : Total  Size=     804334 bytes  File Size  =       5751 *\n",
      "*Baskets :       20 : Basket Size=     674304 bytes  Compression= 139.73     *\n",
      "*............................................................................*\n",
      "*Br   67 :TDC0_ch17 : TDC0_ch17[NTDC0_ch17]/i                                *\n",
      "*Entries :   200496 : Total  Size=     806475 bytes  File Size  =       8431 *\n",
      "*Baskets :       38 : Basket Size=     644608 bytes  Compression=  95.52     *\n",
      "*............................................................................*\n",
      "*Br   68 :NTDC0_ch18 : UInt_t Number of entries in branch TDC0_ch18          *\n",
      "*Entries :   200496 : Total  Size=     804334 bytes  File Size  =       5751 *\n",
      "*Baskets :       20 : Basket Size=     674304 bytes  Compression= 139.73     *\n",
      "*............................................................................*\n",
      "*Br   69 :TDC0_ch18 : TDC0_ch18[NTDC0_ch18]/i                                *\n",
      "*Entries :   200496 : Total  Size=     806475 bytes  File Size  =       8431 *\n",
      "*Baskets :       38 : Basket Size=     644608 bytes  Compression=  95.52     *\n",
      "*............................................................................*\n",
      "*Br   70 :NTDC0_ch19 : UInt_t Number of entries in branch TDC0_ch19          *\n",
      "*Entries :   200496 : Total  Size=     804334 bytes  File Size  =       5751 *\n",
      "*Baskets :       20 : Basket Size=     674304 bytes  Compression= 139.73     *\n",
      "*............................................................................*\n",
      "*Br   71 :TDC0_ch19 : TDC0_ch19[NTDC0_ch19]/i                                *\n",
      "*Entries :   200496 : Total  Size=     806475 bytes  File Size  =       8431 *\n",
      "*Baskets :       38 : Basket Size=     644608 bytes  Compression=  95.52     *\n",
      "*............................................................................*\n",
      "*Br   72 :NTDC0_ch20 : UInt_t Number of entries in branch TDC0_ch20          *\n",
      "*Entries :   200496 : Total  Size=     804334 bytes  File Size  =       5751 *\n",
      "*Baskets :       20 : Basket Size=     674304 bytes  Compression= 139.73     *\n",
      "*............................................................................*\n",
      "*Br   73 :TDC0_ch20 : TDC0_ch20[NTDC0_ch20]/i                                *\n",
      "*Entries :   200496 : Total  Size=     806475 bytes  File Size  =       8431 *\n",
      "*Baskets :       38 : Basket Size=     644608 bytes  Compression=  95.52     *\n",
      "*............................................................................*\n",
      "*Br   74 :NTDC0_ch21 : UInt_t Number of entries in branch TDC0_ch21          *\n",
      "*Entries :   200496 : Total  Size=     804334 bytes  File Size  =       5751 *\n",
      "*Baskets :       20 : Basket Size=     674304 bytes  Compression= 139.73     *\n",
      "*............................................................................*\n",
      "*Br   75 :TDC0_ch21 : TDC0_ch21[NTDC0_ch21]/i                                *\n",
      "*Entries :   200496 : Total  Size=     806475 bytes  File Size  =       8431 *\n",
      "*Baskets :       38 : Basket Size=     644608 bytes  Compression=  95.52     *\n",
      "*............................................................................*\n",
      "*Br   76 :NTDC0_ch22 : UInt_t Number of entries in branch TDC0_ch22          *\n",
      "*Entries :   200496 : Total  Size=     804334 bytes  File Size  =       5751 *\n",
      "*Baskets :       20 : Basket Size=     674304 bytes  Compression= 139.73     *\n",
      "*............................................................................*\n",
      "*Br   77 :TDC0_ch22 : TDC0_ch22[NTDC0_ch22]/i                                *\n",
      "*Entries :   200496 : Total  Size=     806475 bytes  File Size  =       8431 *\n",
      "*Baskets :       38 : Basket Size=     644608 bytes  Compression=  95.52     *\n",
      "*............................................................................*\n",
      "*Br   78 :NTDC0_ch23 : UInt_t Number of entries in branch TDC0_ch23          *\n",
      "*Entries :   200496 : Total  Size=     804334 bytes  File Size  =       5751 *\n",
      "*Baskets :       20 : Basket Size=     674304 bytes  Compression= 139.73     *\n",
      "*............................................................................*\n",
      "*Br   79 :TDC0_ch23 : TDC0_ch23[NTDC0_ch23]/i                                *\n",
      "*Entries :   200496 : Total  Size=     806475 bytes  File Size  =       8431 *\n",
      "*Baskets :       38 : Basket Size=     644608 bytes  Compression=  95.52     *\n",
      "*............................................................................*\n",
      "*Br   80 :NTDC0_ch24 : UInt_t Number of entries in branch TDC0_ch24          *\n",
      "*Entries :   200496 : Total  Size=     804334 bytes  File Size  =       5751 *\n",
      "*Baskets :       20 : Basket Size=     674304 bytes  Compression= 139.73     *\n",
      "*............................................................................*\n",
      "*Br   81 :TDC0_ch24 : TDC0_ch24[NTDC0_ch24]/i                                *\n",
      "*Entries :   200496 : Total  Size=     806475 bytes  File Size  =       8431 *\n",
      "*Baskets :       38 : Basket Size=     644608 bytes  Compression=  95.52     *\n",
      "*............................................................................*\n",
      "*Br   82 :NTDC0_ch25 : UInt_t Number of entries in branch TDC0_ch25          *\n",
      "*Entries :   200496 : Total  Size=     804334 bytes  File Size  =       5751 *\n",
      "*Baskets :       20 : Basket Size=     674304 bytes  Compression= 139.73     *\n",
      "*............................................................................*\n",
      "*Br   83 :TDC0_ch25 : TDC0_ch25[NTDC0_ch25]/i                                *\n",
      "*Entries :   200496 : Total  Size=     806475 bytes  File Size  =       8431 *\n",
      "*Baskets :       38 : Basket Size=     644608 bytes  Compression=  95.52     *\n",
      "*............................................................................*\n",
      "*Br   84 :NTDC0_ch26 : UInt_t Number of entries in branch TDC0_ch26          *\n",
      "*Entries :   200496 : Total  Size=     804334 bytes  File Size  =       5751 *\n",
      "*Baskets :       20 : Basket Size=     674304 bytes  Compression= 139.73     *\n",
      "*............................................................................*\n",
      "*Br   85 :TDC0_ch26 : TDC0_ch26[NTDC0_ch26]/i                                *\n",
      "*Entries :   200496 : Total  Size=     806475 bytes  File Size  =       8431 *\n",
      "*Baskets :       38 : Basket Size=     644608 bytes  Compression=  95.52     *\n",
      "*............................................................................*\n",
      "*Br   86 :NTDC0_ch27 : UInt_t Number of entries in branch TDC0_ch27          *\n",
      "*Entries :   200496 : Total  Size=     804334 bytes  File Size  =       5751 *\n",
      "*Baskets :       20 : Basket Size=     674304 bytes  Compression= 139.73     *\n",
      "*............................................................................*\n",
      "*Br   87 :TDC0_ch27 : TDC0_ch27[NTDC0_ch27]/i                                *\n",
      "*Entries :   200496 : Total  Size=     806475 bytes  File Size  =       8431 *\n",
      "*Baskets :       38 : Basket Size=     644608 bytes  Compression=  95.52     *\n",
      "*............................................................................*\n",
      "*Br   88 :NTDC0_ch28 : UInt_t Number of entries in branch TDC0_ch28          *\n",
      "*Entries :   200496 : Total  Size=     804334 bytes  File Size  =       5751 *\n",
      "*Baskets :       20 : Basket Size=     674304 bytes  Compression= 139.73     *\n",
      "*............................................................................*\n",
      "*Br   89 :TDC0_ch28 : TDC0_ch28[NTDC0_ch28]/i                                *\n",
      "*Entries :   200496 : Total  Size=     806475 bytes  File Size  =       8431 *\n",
      "*Baskets :       38 : Basket Size=     644608 bytes  Compression=  95.52     *\n",
      "*............................................................................*\n",
      "*Br   90 :NTDC0_ch29 : UInt_t Number of entries in branch TDC0_ch29          *\n",
      "*Entries :   200496 : Total  Size=     804334 bytes  File Size  =       5751 *\n",
      "*Baskets :       20 : Basket Size=     674304 bytes  Compression= 139.73     *\n",
      "*............................................................................*\n",
      "*Br   91 :TDC0_ch29 : TDC0_ch29[NTDC0_ch29]/i                                *\n",
      "*Entries :   200496 : Total  Size=     806475 bytes  File Size  =       8431 *\n",
      "*Baskets :       38 : Basket Size=     644608 bytes  Compression=  95.52     *\n",
      "*............................................................................*\n",
      "*Br   92 :NTDC0_ch30 : UInt_t Number of entries in branch TDC0_ch30          *\n",
      "*Entries :   200496 : Total  Size=     804334 bytes  File Size  =       5751 *\n",
      "*Baskets :       20 : Basket Size=     674304 bytes  Compression= 139.73     *\n",
      "*............................................................................*\n",
      "*Br   93 :TDC0_ch30 : TDC0_ch30[NTDC0_ch30]/i                                *\n",
      "*Entries :   200496 : Total  Size=     806475 bytes  File Size  =       8431 *\n",
      "*Baskets :       38 : Basket Size=     644608 bytes  Compression=  95.52     *\n",
      "*............................................................................*\n",
      "*Br   94 :NTDC0_ch31 : UInt_t Number of entries in branch TDC0_ch31          *\n",
      "*Entries :   200496 : Total  Size=     804334 bytes  File Size  =       5751 *\n",
      "*Baskets :       20 : Basket Size=     674304 bytes  Compression= 139.73     *\n",
      "*............................................................................*\n",
      "*Br   95 :TDC0_ch31 : TDC0_ch31[NTDC0_ch31]/i                                *\n",
      "*Entries :   200496 : Total  Size=     806475 bytes  File Size  =       8431 *\n",
      "*Baskets :       38 : Basket Size=     644608 bytes  Compression=  95.52     *\n",
      "*............................................................................*\n",
      "*Br   96 :NMMFE8_04_hitChannel :                                             *\n",
      "*         | UInt_t Number of entries in branch MMFE8_04_hitChannel           *\n",
      "*Entries :   200496 : Total  Size=     804574 bytes  File Size  =     109922 *\n",
      "*Baskets :       20 : Basket Size=     674816 bytes  Compression=   7.31     *\n",
      "*............................................................................*\n",
      "*Br   97 :MMFE8_04_hitChannel : MMFE8_04_hitChannel[NMMFE8_04_hitChannel]/i  *\n",
      "*Entries :   200496 : Total  Size=    1282474 bytes  File Size  =     337584 *\n",
      "*Baskets :       49 : Basket Size=     999424 bytes  Compression=   3.79     *\n",
      "*............................................................................*\n",
      "*Br   98 :NMMFE8_04_hitTDO :                                                 *\n",
      "*         | UInt_t Number of entries in branch MMFE8_04_hitTDO               *\n",
      "*Entries :   200496 : Total  Size=     804478 bytes  File Size  =     109822 *\n",
      "*Baskets :       20 : Basket Size=     674816 bytes  Compression=   7.32     *\n",
      "*............................................................................*\n",
      "*Br   99 :MMFE8_04_hitTDO : MMFE8_04_hitTDO[NMMFE8_04_hitTDO]/i              *\n",
      "*Entries :   200496 : Total  Size=    1282246 bytes  File Size  =     351106 *\n",
      "*Baskets :       49 : Basket Size=     999424 bytes  Compression=   3.65     *\n",
      "*............................................................................*\n",
      "*Br  100 :NMMFE8_04_hitPDO :                                                 *\n",
      "*         | UInt_t Number of entries in branch MMFE8_04_hitPDO               *\n",
      "*Entries :   200496 : Total  Size=     804478 bytes  File Size  =     109822 *\n",
      "*Baskets :       20 : Basket Size=     674816 bytes  Compression=   7.32     *\n",
      "*............................................................................*\n",
      "*Br  101 :MMFE8_04_hitPDO : MMFE8_04_hitPDO[NMMFE8_04_hitPDO]/i              *\n",
      "*Entries :   200496 : Total  Size=    1282246 bytes  File Size  =     401845 *\n",
      "*Baskets :       49 : Basket Size=     999424 bytes  Compression=   3.19     *\n",
      "*............................................................................*\n",
      "*Br  102 :NMMFE8_02_hitChannel :                                             *\n",
      "*         | UInt_t Number of entries in branch MMFE8_02_hitChannel           *\n",
      "*Entries :   200496 : Total  Size=     804574 bytes  File Size  =      99170 *\n",
      "*Baskets :       20 : Basket Size=     674816 bytes  Compression=   8.11     *\n",
      "*............................................................................*\n",
      "*Br  103 :MMFE8_02_hitChannel : MMFE8_02_hitChannel[NMMFE8_02_hitChannel]/i  *\n",
      "*Entries :   200496 : Total  Size=    1174028 bytes  File Size  =     278329 *\n",
      "*Baskets :       47 : Basket Size=     917504 bytes  Compression=   4.21     *\n",
      "*............................................................................*\n",
      "*Br  104 :NMMFE8_02_hitTDO :                                                 *\n",
      "*         | UInt_t Number of entries in branch MMFE8_02_hitTDO               *\n",
      "*Entries :   200496 : Total  Size=     804478 bytes  File Size  =      99041 *\n",
      "*Baskets :       20 : Basket Size=     674816 bytes  Compression=   8.11     *\n",
      "*............................................................................*\n",
      "*Br  105 :MMFE8_02_hitTDO : MMFE8_02_hitTDO[NMMFE8_02_hitTDO]/i              *\n",
      "*Entries :   200496 : Total  Size=    1173808 bytes  File Size  =     289054 *\n",
      "*Baskets :       47 : Basket Size=     917504 bytes  Compression=   4.06     *\n",
      "*............................................................................*\n",
      "*Br  106 :NMMFE8_02_hitPDO :                                                 *\n",
      "*         | UInt_t Number of entries in branch MMFE8_02_hitPDO               *\n",
      "*Entries :   200496 : Total  Size=     804478 bytes  File Size  =      99041 *\n",
      "*Baskets :       20 : Basket Size=     674816 bytes  Compression=   8.11     *\n",
      "*............................................................................*\n",
      "*Br  107 :MMFE8_02_hitPDO : MMFE8_02_hitPDO[NMMFE8_02_hitPDO]/i              *\n",
      "*Entries :   200496 : Total  Size=    1173808 bytes  File Size  =     317525 *\n",
      "*Baskets :       47 : Basket Size=     917504 bytes  Compression=   3.69     *\n",
      "*............................................................................*\n",
      "*Br  108 :NMMFE8_03_hitChannel :                                             *\n",
      "*         | UInt_t Number of entries in branch MMFE8_03_hitChannel           *\n",
      "*Entries :   200496 : Total  Size=     804574 bytes  File Size  =     114043 *\n",
      "*Baskets :       20 : Basket Size=     674816 bytes  Compression=   7.05     *\n",
      "*............................................................................*\n",
      "*Br  109 :MMFE8_03_hitChannel : MMFE8_03_hitChannel[NMMFE8_03_hitChannel]/i  *\n",
      "*Entries :   200496 : Total  Size=    1332068 bytes  File Size  =     360334 *\n",
      "*Baskets :       51 : Basket Size=    1037824 bytes  Compression=   3.69     *\n",
      "*............................................................................*\n",
      "*Br  110 :NMMFE8_03_hitTDO :                                                 *\n",
      "*         | UInt_t Number of entries in branch MMFE8_03_hitTDO               *\n",
      "*Entries :   200496 : Total  Size=     804478 bytes  File Size  =     113984 *\n",
      "*Baskets :       20 : Basket Size=     674816 bytes  Compression=   7.05     *\n",
      "*............................................................................*\n",
      "*Br  111 :MMFE8_03_hitTDO : MMFE8_03_hitTDO[NMMFE8_03_hitTDO]/i              *\n",
      "*Entries :   200496 : Total  Size=    1331832 bytes  File Size  =     377068 *\n",
      "*Baskets :       51 : Basket Size=    1037312 bytes  Compression=   3.53     *\n",
      "*............................................................................*\n",
      "*Br  112 :NMMFE8_03_hitPDO :                                                 *\n",
      "*         | UInt_t Number of entries in branch MMFE8_03_hitPDO               *\n",
      "*Entries :   200496 : Total  Size=     804478 bytes  File Size  =     113984 *\n",
      "*Baskets :       20 : Basket Size=     674816 bytes  Compression=   7.05     *\n",
      "*............................................................................*\n",
      "*Br  113 :MMFE8_03_hitPDO : MMFE8_03_hitPDO[NMMFE8_03_hitPDO]/i              *\n",
      "*Entries :   200496 : Total  Size=    1331832 bytes  File Size  =     415520 *\n",
      "*Baskets :       51 : Basket Size=    1037312 bytes  Compression=   3.20     *\n",
      "*............................................................................*\n",
      "*Br  114 :NMMFE8_05_hitChannel :                                             *\n",
      "*         | UInt_t Number of entries in branch MMFE8_05_hitChannel           *\n",
      "*Entries :   200496 : Total  Size=     804574 bytes  File Size  =      83857 *\n",
      "*Baskets :       20 : Basket Size=     674816 bytes  Compression=   9.59     *\n",
      "*............................................................................*\n",
      "*Br  115 :MMFE8_05_hitChannel : MMFE8_05_hitChannel[NMMFE8_05_hitChannel]/i  *\n",
      "*Entries :   200496 : Total  Size=    1596070 bytes  File Size  =     300559 *\n",
      "*Baskets :       57 : Basket Size=    1247744 bytes  Compression=   5.30     *\n",
      "*............................................................................*\n",
      "*Br  116 :NMMFE8_05_hitTDO :                                                 *\n",
      "*         | UInt_t Number of entries in branch MMFE8_05_hitTDO               *\n",
      "*Entries :   200496 : Total  Size=     804478 bytes  File Size  =      83790 *\n",
      "*Baskets :       20 : Basket Size=     674816 bytes  Compression=   9.59     *\n",
      "*............................................................................*\n",
      "*Br  117 :MMFE8_05_hitTDO : MMFE8_05_hitTDO[NMMFE8_05_hitTDO]/i              *\n",
      "*Entries :   200496 : Total  Size=    1595810 bytes  File Size  =     402906 *\n",
      "*Baskets :       57 : Basket Size=    1247744 bytes  Compression=   3.96     *\n",
      "*............................................................................*\n",
      "*Br  118 :NMMFE8_05_hitPDO :                                                 *\n",
      "*         | UInt_t Number of entries in branch MMFE8_05_hitPDO               *\n",
      "*Entries :   200496 : Total  Size=     804478 bytes  File Size  =      83790 *\n",
      "*Baskets :       20 : Basket Size=     674816 bytes  Compression=   9.59     *\n",
      "*............................................................................*\n",
      "*Br  119 :MMFE8_05_hitPDO : MMFE8_05_hitPDO[NMMFE8_05_hitPDO]/i              *\n",
      "*Entries :   200496 : Total  Size=    1595810 bytes  File Size  =     450540 *\n",
      "*Baskets :       57 : Basket Size=    1247744 bytes  Compression=   3.54     *\n",
      "*............................................................................*\n",
      "*Br  120 :NMimosa0_hitX : UInt_t Number of entries in branch Mimosa0_hitX    *\n",
      "*Entries :   200496 : Total  Size=     804406 bytes  File Size  =     242294 *\n",
      "*Baskets :       20 : Basket Size=     674816 bytes  Compression=   3.32     *\n",
      "*............................................................................*\n",
      "*Br  121 :Mimosa0_hitX : Mimosa0_hitX[NMimosa0_hitX]/i                       *\n",
      "*Entries :   200496 : Total  Size=   13751911 bytes  File Size  =    5505918 *\n",
      "*Baskets :      335 : Basket Size=    8272896 bytes  Compression=   2.50     *\n",
      "*............................................................................*\n",
      "*Br  122 :NMimosa0_hitY : UInt_t Number of entries in branch Mimosa0_hitY    *\n",
      "*Entries :   200496 : Total  Size=     804406 bytes  File Size  =     242294 *\n",
      "*Baskets :       20 : Basket Size=     674816 bytes  Compression=   3.32     *\n",
      "*............................................................................*\n",
      "*Br  123 :Mimosa0_hitY : Mimosa0_hitY[NMimosa0_hitY]/i                       *\n",
      "*Entries :   200496 : Total  Size=   13751911 bytes  File Size  =    5150649 *\n",
      "*Baskets :      335 : Basket Size=    8272896 bytes  Compression=   2.67     *\n",
      "*............................................................................*\n",
      "*Br  124 :NMimosa1_hitX : UInt_t Number of entries in branch Mimosa1_hitX    *\n",
      "*Entries :   200496 : Total  Size=     804406 bytes  File Size  =     229820 *\n",
      "*Baskets :       20 : Basket Size=     674816 bytes  Compression=   3.50     *\n",
      "*............................................................................*\n",
      "*Br  125 :Mimosa1_hitX : Mimosa1_hitX[NMimosa1_hitX]/i                       *\n",
      "*Entries :   200496 : Total  Size=   10429371 bytes  File Size  =    4136744 *\n",
      "*Baskets :      259 : Basket Size=    7897600 bytes  Compression=   2.52     *\n",
      "*............................................................................*\n",
      "*Br  126 :NMimosa1_hitY : UInt_t Number of entries in branch Mimosa1_hitY    *\n",
      "*Entries :   200496 : Total  Size=     804406 bytes  File Size  =     229820 *\n",
      "*Baskets :       20 : Basket Size=     674816 bytes  Compression=   3.50     *\n",
      "*............................................................................*\n",
      "*Br  127 :Mimosa1_hitY : Mimosa1_hitY[NMimosa1_hitY]/i                       *\n",
      "*Entries :   200496 : Total  Size=   10429371 bytes  File Size  =    3887210 *\n",
      "*Baskets :      259 : Basket Size=    7897600 bytes  Compression=   2.68     *\n",
      "*............................................................................*\n",
      "*Br  128 :NMimosa2_hitX : UInt_t Number of entries in branch Mimosa2_hitX    *\n",
      "*Entries :   200496 : Total  Size=     804406 bytes  File Size  =     222011 *\n",
      "*Baskets :       20 : Basket Size=     674816 bytes  Compression=   3.62     *\n",
      "*............................................................................*\n",
      "*Br  129 :Mimosa2_hitX : Mimosa2_hitX[NMimosa2_hitX]/i                       *\n",
      "*Entries :   200496 : Total  Size=   10550979 bytes  File Size  =    4112969 *\n",
      "*Baskets :      261 : Basket Size=    7979520 bytes  Compression=   2.56     *\n",
      "*............................................................................*\n",
      "*Br  130 :NMimosa2_hitY : UInt_t Number of entries in branch Mimosa2_hitY    *\n",
      "*Entries :   200496 : Total  Size=     804406 bytes  File Size  =     222011 *\n",
      "*Baskets :       20 : Basket Size=     674816 bytes  Compression=   3.62     *\n",
      "*............................................................................*\n",
      "*Br  131 :Mimosa2_hitY : Mimosa2_hitY[NMimosa2_hitY]/i                       *\n",
      "*Entries :   200496 : Total  Size=   10550979 bytes  File Size  =    3882024 *\n",
      "*Baskets :      261 : Basket Size=    7979520 bytes  Compression=   2.72     *\n",
      "*............................................................................*\n"
     ]
    }
   ],
   "source": [
    "file.print_trees()\n",
    "file.print_branches_in_tree('RAWdata')"
   ]
  },
  {
   "cell_type": "code",
   "execution_count": 9,
   "metadata": {},
   "outputs": [
    {
     "name": "stdout",
     "output_type": "stream",
     "text": [
      "******************************************************************************\n",
      "*Tree    :RECOdata  : BL4S RECO data tree                                    *\n",
      "*Entries :   200496 : Total =        81752831 bytes  File  Size =   34682184 *\n",
      "*        :          : Tree compression factor =   2.36                       *\n",
      "******************************************************************************\n",
      "*Br    0 :NChamber1_position :                                               *\n",
      "*         | UInt_t Number of entries in branch Chamber1_position             *\n",
      "*Entries :   200496 : Total  Size=     804873 bytes  File Size  =     101180 *\n",
      "*Baskets :       23 : Basket Size=     747008 bytes  Compression=   7.95     *\n",
      "*............................................................................*\n",
      "*Br    1 :Chamber1_position :                                                *\n",
      "*         | Double_t Local position of Chamber1 clusters in cm               *\n",
      "*Entries :   200496 : Total  Size=    1525846 bytes  File Size  =     520186 *\n",
      "*Baskets :       63 : Basket Size=    1317376 bytes  Compression=   2.93     *\n",
      "*............................................................................*\n",
      "*Br    2 :NChamber2_position :                                               *\n",
      "*         | UInt_t Number of entries in branch Chamber2_position             *\n",
      "*Entries :   200496 : Total  Size=     804873 bytes  File Size  =     121094 *\n",
      "*Baskets :       23 : Basket Size=     747008 bytes  Compression=   6.64     *\n",
      "*............................................................................*\n",
      "*Br    3 :Chamber2_position :                                                *\n",
      "*         | Double_t Local position of Chamber2 clusters in cm               *\n",
      "*Entries :   200496 : Total  Size=    2092570 bytes  File Size  =     897220 *\n",
      "*Baskets :       78 : Basket Size=    1795584 bytes  Compression=   2.33     *\n",
      "*............................................................................*\n",
      "*Br    4 :NChamber3_position :                                               *\n",
      "*         | UInt_t Number of entries in branch Chamber3_position             *\n",
      "*Entries :   200496 : Total  Size=     804873 bytes  File Size  =      78224 *\n",
      "*Baskets :       23 : Basket Size=     747008 bytes  Compression=  10.28     *\n",
      "*............................................................................*\n",
      "*Br    5 :Chamber3_position :                                                *\n",
      "*         | Double_t Local position of Chamber3 clusters in cm               *\n",
      "*Entries :   200496 : Total  Size=    1354734 bytes  File Size  =     381180 *\n",
      "*Baskets :       59 : Basket Size=    1176064 bytes  Compression=   3.55     *\n",
      "*............................................................................*\n",
      "*Br    6 :NMimosa0_xPosition :                                               *\n",
      "*         | UInt_t Number of entries in branch Mimosa0_xPosition             *\n",
      "*Entries :   200496 : Total  Size=     804873 bytes  File Size  =     187821 *\n",
      "*Baskets :       23 : Basket Size=     747008 bytes  Compression=   4.28     *\n",
      "*............................................................................*\n",
      "*Br    7 :Mimosa0_xPosition :                                                *\n",
      "*         | Double_t Local position in x-axis of Mimosa0 clusters in cm      *\n",
      "*Entries :   200496 : Total  Size=   11510687 bytes  File Size  =    5427921 *\n",
      "*Baskets :      327 : Basket Size=    9748992 bytes  Compression=   2.12     *\n",
      "*............................................................................*\n",
      "*Br    8 :NMimosa0_yPosition :                                               *\n",
      "*         | UInt_t Number of entries in branch Mimosa0_yPosition             *\n",
      "*Entries :   200496 : Total  Size=     804873 bytes  File Size  =     187821 *\n",
      "*Baskets :       23 : Basket Size=     747008 bytes  Compression=   4.28     *\n",
      "*............................................................................*\n",
      "*Br    9 :Mimosa0_yPosition :                                                *\n",
      "*         | Double_t Local position in y-axis of Mimosa0 clusters in cm      *\n",
      "*Entries :   200496 : Total  Size=   11510687 bytes  File Size  =    5044505 *\n",
      "*Baskets :      327 : Basket Size=    9748992 bytes  Compression=   2.28     *\n",
      "*............................................................................*\n",
      "*Br   10 :NMimosa1_xPosition :                                               *\n",
      "*         | UInt_t Number of entries in branch Mimosa1_xPosition             *\n",
      "*Entries :   200496 : Total  Size=     804873 bytes  File Size  =     177571 *\n",
      "*Baskets :       23 : Basket Size=     747008 bytes  Compression=   4.53     *\n",
      "*............................................................................*\n",
      "*Br   11 :Mimosa1_xPosition :                                                *\n",
      "*         | Double_t Local position in x-axis of Mimosa1 clusters in cm      *\n",
      "*Entries :   200496 : Total  Size=    8364267 bytes  File Size  =    4069297 *\n",
      "*Baskets :      244 : Basket Size=    7093760 bytes  Compression=   2.05     *\n",
      "*............................................................................*\n",
      "*Br   12 :NMimosa1_yPosition :                                               *\n",
      "*         | UInt_t Number of entries in branch Mimosa1_yPosition             *\n",
      "*Entries :   200496 : Total  Size=     804873 bytes  File Size  =     177571 *\n",
      "*Baskets :       23 : Basket Size=     747008 bytes  Compression=   4.53     *\n",
      "*............................................................................*\n",
      "*Br   13 :Mimosa1_yPosition :                                                *\n",
      "*         | Double_t Local position in y-axis of Mimosa1 clusters in cm      *\n",
      "*Entries :   200496 : Total  Size=    8364267 bytes  File Size  =    3775372 *\n",
      "*Baskets :      244 : Basket Size=    7093760 bytes  Compression=   2.21     *\n",
      "*............................................................................*\n",
      "*Br   14 :NMimosa2_xPosition :                                               *\n",
      "*         | UInt_t Number of entries in branch Mimosa2_xPosition             *\n",
      "*Entries :   200496 : Total  Size=     804873 bytes  File Size  =     170689 *\n",
      "*Baskets :       23 : Basket Size=     747008 bytes  Compression=   4.71     *\n",
      "*............................................................................*\n",
      "*Br   15 :Mimosa2_xPosition :                                                *\n",
      "*         | Double_t Local position in x-axis of Mimosa2 clusters in cm      *\n",
      "*Entries :   200496 : Total  Size=    8964179 bytes  File Size  =    4033480 *\n",
      "*Baskets :      260 : Basket Size=    7600640 bytes  Compression=   2.22     *\n",
      "*............................................................................*\n",
      "*Br   16 :NMimosa2_yPosition :                                               *\n",
      "*         | UInt_t Number of entries in branch Mimosa2_yPosition             *\n",
      "*Entries :   200496 : Total  Size=     804873 bytes  File Size  =     170689 *\n",
      "*Baskets :       23 : Basket Size=     747008 bytes  Compression=   4.71     *\n",
      "*............................................................................*\n",
      "*Br   17 :Mimosa2_yPosition :                                                *\n",
      "*         | Double_t Local position in y-axis of Mimosa2 clusters in cm      *\n",
      "*Entries :   200496 : Total  Size=    8964179 bytes  File Size  =    3739998 *\n",
      "*Baskets :      260 : Basket Size=    7600640 bytes  Compression=   2.40     *\n",
      "*............................................................................*\n",
      "*Br   18 :NDWC0_xTime : UInt_t Number of entries in branch DWC0_xTime        *\n",
      "*Entries :   200496 : Total  Size=     804684 bytes  File Size  =      90346 *\n",
      "*Baskets :       23 : Basket Size=     747008 bytes  Compression=   8.90     *\n",
      "*............................................................................*\n",
      "*Br   19 :DWC0_xTime :                                                       *\n",
      "*         | Double_t Time difference of hits along x-axis of DWC0 in ns      *\n",
      "*Entries :   200496 : Total  Size=    2113052 bytes  File Size  =     987900 *\n",
      "*Baskets :       79 : Basket Size=    1813504 bytes  Compression=   2.14     *\n",
      "*............................................................................*\n",
      "*Br   20 :NDWC0_yTime : UInt_t Number of entries in branch DWC0_yTime        *\n",
      "*Entries :   200496 : Total  Size=     804684 bytes  File Size  =      90947 *\n",
      "*Baskets :       23 : Basket Size=     747008 bytes  Compression=   8.84     *\n",
      "*............................................................................*\n",
      "*Br   21 :DWC0_yTime :                                                       *\n",
      "*         | Double_t Time difference of hits along y-axis of DWC0 in ns      *\n",
      "*Entries :   200496 : Total  Size=    2116836 bytes  File Size  =     991480 *\n",
      "*Baskets :       79 : Basket Size=    1815552 bytes  Compression=   2.13     *\n",
      "*............................................................................*\n",
      "*Br   22 :NDWC0_xPosition : UInt_t Number of entries in branch DWC0_xPosition*\n",
      "*Entries :   200496 : Total  Size=     804792 bytes  File Size  =      98455 *\n",
      "*Baskets :       23 : Basket Size=     747008 bytes  Compression=   8.17     *\n",
      "*............................................................................*\n",
      "*Br   23 :DWC0_xPosition :                                                   *\n",
      "*         | Double_t Local position in x-axis of DWC0 hits in cm             *\n",
      "*Entries :   200496 : Total  Size=    2204755 bytes  File Size  =    1517952 *\n",
      "*Baskets :       81 : Basket Size=    1890816 bytes  Compression=   1.45     *\n",
      "*............................................................................*\n",
      "*Br   24 :NDWC0_yPosition : UInt_t Number of entries in branch DWC0_yPosition*\n",
      "*Entries :   200496 : Total  Size=     804792 bytes  File Size  =      98455 *\n",
      "*Baskets :       23 : Basket Size=     747008 bytes  Compression=   8.17     *\n",
      "*............................................................................*\n",
      "*Br   25 :DWC0_yPosition :                                                   *\n",
      "*         | Double_t Local position in y-axis of DWC0 hits in cm             *\n",
      "*Entries :   200496 : Total  Size=    2204755 bytes  File Size  =    1520342 *\n",
      "*Baskets :       81 : Basket Size=    1890816 bytes  Compression=   1.45     *\n",
      "*............................................................................*\n"
     ]
    }
   ],
   "source": [
    "file.print_branches_in_tree('RECOdata')"
   ]
  },
  {
   "cell_type": "code",
   "execution_count": 10,
   "metadata": {},
   "outputs": [],
   "source": [
    "scint = file.load_to_dataframe('RAWdata', ['QDC0_ch0'])"
   ]
  },
  {
   "cell_type": "code",
   "execution_count": 33,
   "metadata": {},
   "outputs": [],
   "source": [
    "chamber2 = file.load_to_dataframe('RECOdata', ['Chamber2_position'])\n",
    "chamber3 = file.load_to_dataframe('RECOdata', ['Chamber3_position'])"
   ]
  },
  {
   "cell_type": "code",
   "execution_count": 32,
   "metadata": {},
   "outputs": [
    {
     "data": {
      "text/html": [
       "<div>\n",
       "<style scoped>\n",
       "    .dataframe tbody tr th:only-of-type {\n",
       "        vertical-align: middle;\n",
       "    }\n",
       "\n",
       "    .dataframe tbody tr th {\n",
       "        vertical-align: top;\n",
       "    }\n",
       "\n",
       "    .dataframe thead th {\n",
       "        text-align: right;\n",
       "    }\n",
       "</style>\n",
       "<table border=\"1\" class=\"dataframe\">\n",
       "  <thead>\n",
       "    <tr style=\"text-align: right;\">\n",
       "      <th></th>\n",
       "      <th>Chamber2_position</th>\n",
       "    </tr>\n",
       "  </thead>\n",
       "  <tbody>\n",
       "    <tr>\n",
       "      <th>0</th>\n",
       "      <td>[]</td>\n",
       "    </tr>\n",
       "    <tr>\n",
       "      <th>1</th>\n",
       "      <td>[6.592499999999999, 1.6875, 9.675541117145075]</td>\n",
       "    </tr>\n",
       "    <tr>\n",
       "      <th>2</th>\n",
       "      <td>[6.592499999999999, 1.6875, 9.675541117145075,...</td>\n",
       "    </tr>\n",
       "    <tr>\n",
       "      <th>3</th>\n",
       "      <td>[6.592499999999999]</td>\n",
       "    </tr>\n",
       "    <tr>\n",
       "      <th>4</th>\n",
       "      <td>[6.592499999999999]</td>\n",
       "    </tr>\n",
       "    <tr>\n",
       "      <th>...</th>\n",
       "      <td>...</td>\n",
       "    </tr>\n",
       "    <tr>\n",
       "      <th>110662</th>\n",
       "      <td>[6.592499999999999]</td>\n",
       "    </tr>\n",
       "    <tr>\n",
       "      <th>110663</th>\n",
       "      <td>[]</td>\n",
       "    </tr>\n",
       "    <tr>\n",
       "      <th>110664</th>\n",
       "      <td>[6.592499999999999]</td>\n",
       "    </tr>\n",
       "    <tr>\n",
       "      <th>110665</th>\n",
       "      <td>[6.592499999999999]</td>\n",
       "    </tr>\n",
       "    <tr>\n",
       "      <th>110666</th>\n",
       "      <td>[]</td>\n",
       "    </tr>\n",
       "  </tbody>\n",
       "</table>\n",
       "<p>110667 rows × 1 columns</p>\n",
       "</div>"
      ],
      "text/plain": [
       "                                        Chamber2_position\n",
       "0                                                      []\n",
       "1          [6.592499999999999, 1.6875, 9.675541117145075]\n",
       "2       [6.592499999999999, 1.6875, 9.675541117145075,...\n",
       "3                                     [6.592499999999999]\n",
       "4                                     [6.592499999999999]\n",
       "...                                                   ...\n",
       "110662                                [6.592499999999999]\n",
       "110663                                                 []\n",
       "110664                                [6.592499999999999]\n",
       "110665                                [6.592499999999999]\n",
       "110666                                                 []\n",
       "\n",
       "[110667 rows x 1 columns]"
      ]
     },
     "execution_count": 32,
     "metadata": {},
     "output_type": "execute_result"
    }
   ],
   "source": [
    "chamber2"
   ]
  },
  {
   "cell_type": "code",
   "execution_count": 37,
   "metadata": {},
   "outputs": [
    {
     "ename": "IndexError",
     "evalue": "buffer index out of range",
     "output_type": "error",
     "traceback": [
      "\u001b[0;31m---------------------------------------------------------------------------\u001b[0m",
      "\u001b[0;31mIndexError\u001b[0m                                Traceback (most recent call last)",
      "\u001b[0;32m<ipython-input-37-27e35da62d85>\u001b[0m in \u001b[0;36m<module>\u001b[0;34m\u001b[0m\n\u001b[0;32m----> 1\u001b[0;31m \u001b[0mchamber3\u001b[0m\u001b[0;34m[\u001b[0m\u001b[0;34m'Chamber3_position'\u001b[0m\u001b[0;34m]\u001b[0m\u001b[0;34m[\u001b[0m\u001b[0;36m0\u001b[0m\u001b[0;34m]\u001b[0m\u001b[0;34m[\u001b[0m\u001b[0;36m0\u001b[0m\u001b[0;34m]\u001b[0m\u001b[0;34m\u001b[0m\u001b[0;34m\u001b[0m\u001b[0m\n\u001b[0m",
      "\u001b[0;31mIndexError\u001b[0m: buffer index out of range"
     ]
    }
   ],
   "source": [
    "chamber3['Chamber3_position'][0]"
   ]
  },
  {
   "cell_type": "code",
   "execution_count": 22,
   "metadata": {},
   "outputs": [
    {
     "data": {
      "text/plain": [
       "-0.03496"
      ]
     },
     "execution_count": 22,
     "metadata": {},
     "output_type": "execute_result"
    }
   ],
   "source": [
    "mimX.tolist()[0][0]"
   ]
  },
  {
   "cell_type": "code",
   "execution_count": 22,
   "metadata": {},
   "outputs": [
    {
     "name": "stdout",
     "output_type": "stream",
     "text": [
      "<Double_t buffer, size 5>\n"
     ]
    }
   ],
   "source": [
    "print(mimosaY['Mimosa1_yPosition'][0])"
   ]
  },
  {
   "cell_type": "code",
   "execution_count": 17,
   "metadata": {},
   "outputs": [],
   "source": [
    "x = scint['QDC0_ch0']"
   ]
  },
  {
   "cell_type": "code",
   "execution_count": 40,
   "metadata": {},
   "outputs": [],
   "source": [
    "x_cleaned_moyal = x[x.between(x.quantile(.05), x.quantile(.90))]"
   ]
  },
  {
   "cell_type": "code",
   "execution_count": 41,
   "metadata": {},
   "outputs": [
    {
     "data": {
      "text/plain": [
       "<matplotlib.axes._subplots.AxesSubplot at 0x2b71df370208>"
      ]
     },
     "execution_count": 41,
     "metadata": {},
     "output_type": "execute_result"
    },
    {
     "data": {
      "image/png": "[encoded data removed]",
      "text/plain": [
       "<Figure size 432x288 with 1 Axes>"
      ]
     },
     "metadata": {},
     "output_type": "display_data"
    }
   ],
   "source": [
    "x_cleaned_moyal.hist(bins=200)"
   ]
  },
  {
   "cell_type": "code",
   "execution_count": 42,
   "metadata": {},
   "outputs": [
    {
     "data": {
      "image/png": "[encoded data removed]",
      "text/plain": [
       "<Figure size 432x288 with 1 Axes>"
      ]
     },
     "metadata": {},
     "output_type": "display_data"
    }
   ],
   "source": [
    "_, bins, _ = plt.hist(x_cleaned_moyal, 200, density=1, alpha=.5)\n",
    "mu_moyal, sigma_moyal = scipy.stats.moyal.fit(x_cleaned_moyal)\n",
    "best_fit_line = scipy.stats.moyal.pdf(bins, mu_moyal, sigma_moyal)\n",
    "plt.plot(bins, best_fit_line)\n",
    "plt.show()"
   ]
  },
  {
   "cell_type": "code",
   "execution_count": 47,
   "metadata": {
    "scrolled": true
   },
   "outputs": [
    {
     "data": {
      "text/plain": [
       "1         1966\n",
       "2         1861\n",
       "4         1947\n",
       "5         1529\n",
       "6         2255\n",
       "          ... \n",
       "110662    1805\n",
       "110663    1848\n",
       "110664    1791\n",
       "110665    2214\n",
       "110666    1709\n",
       "Name: QDC0_ch0, Length: 94119, dtype: int64"
      ]
     },
     "execution_count": 47,
     "metadata": {},
     "output_type": "execute_result"
    }
   ],
   "source": [
    "x_cleaned_moyal"
   ]
  },
  {
   "cell_type": "code",
   "execution_count": 18,
   "metadata": {},
   "outputs": [
    {
     "data": {
      "text/plain": [
       "105"
      ]
     },
     "execution_count": 18,
     "metadata": {},
     "output_type": "execute_result"
    }
   ],
   "source": [
    "x[0]"
   ]
  },
  {
   "cell_type": "code",
   "execution_count": 34,
   "metadata": {},
   "outputs": [
    {
     "data": {
      "text/plain": [
       "<matplotlib.axes._subplots.AxesSubplot at 0x2b71df9764e0>"
      ]
     },
     "execution_count": 34,
     "metadata": {},
     "output_type": "execute_result"
    },
    {
     "data": {
      "image/png": "[encoded data removed]",
      "text/plain": [
       "<Figure size 432x288 with 1 Axes>"
      ]
     },
     "metadata": {},
     "output_type": "display_data"
    }
   ],
   "source": [
    "x_cleaned_norm = x[x.between(x.quantile(.20), x.quantile(.50))]\n",
    "x_cleaned_norm.hist(bins=200)"
   ]
  },
  {
   "cell_type": "code",
   "execution_count": 135,
   "metadata": {
    "scrolled": true
   },
   "outputs": [
    {
     "data": {
      "image/png": "[encoded data removed]",
      "text/plain": [
       "<Figure size 432x288 with 1 Axes>"
      ]
     },
     "metadata": {},
     "output_type": "display_data"
    }
   ],
   "source": [
    "_, bins, _ = plt.hist(x_cleaned_norm, 300, density=1, alpha=0.5)\n",
    "mu_norm, sigma_norm = scipy.stats.norm.fit(x_cleaned_norm)\n",
    "best_fit_line = scipy.stats.norm.pdf(bins, mu_norm, sigma_norm)\n",
    "plt.plot(bins, best_fit_line)\n",
    "plt.show()"
   ]
  },
  {
   "cell_type": "code",
   "execution_count": 136,
   "metadata": {},
   "outputs": [
    {
     "data": {
      "text/plain": [
       "(1717.1111644513787, 52.072387437398866)"
      ]
     },
     "execution_count": 136,
     "metadata": {},
     "output_type": "execute_result"
    }
   ],
   "source": [
    "mu_norm, sigma_norm"
   ]
  },
  {
   "cell_type": "code",
   "execution_count": 43,
   "metadata": {},
   "outputs": [
    {
     "data": {
      "text/plain": [
       "(1708.6278207591558, 123.37252756687286)"
      ]
     },
     "execution_count": 43,
     "metadata": {},
     "output_type": "execute_result"
    }
   ],
   "source": [
    "mu_moyal, sigma_moyal"
   ]
  },
  {
   "cell_type": "code",
   "execution_count": 25,
   "metadata": {},
   "outputs": [
    {
     "name": "stdout",
     "output_type": "stream",
     "text": [
      "2     -0.156993\n",
      "3      0.512809\n",
      "4     -0.824491\n",
      "5     -0.783255\n",
      "6      0.297251\n",
      "         ...   \n",
      "194   -0.779661\n",
      "195   -0.227735\n",
      "197    0.874781\n",
      "198   -0.083158\n",
      "199    1.024067\n",
      "Length: 140, dtype: float64\n"
     ]
    }
   ],
   "source": [
    "size=200\n",
    "\n",
    "x = pd.Series(np.random.normal(size=size)) # 200 values\n",
    "x = x[x.between(x.quantile(.15), x.quantile(.85))] # without outliers\n",
    "\n",
    "print(x) # Now only 140 values"
   ]
  },
  {
   "cell_type": "code",
   "execution_count": 16,
   "metadata": {},
   "outputs": [],
   "source": [
    "mimosa0_reco = file.load_to_dataframe('RECOdata', ['Mimosa0_xPosition', 'Mimosa0_yPosition'])"
   ]
  },
  {
   "cell_type": "code",
   "execution_count": 51,
   "metadata": {},
   "outputs": [],
   "source": [
    "test_df = mimosa0_reco.apply(lambda x: [i for i in x[0]], axis=1)"
   ]
  },
  {
   "cell_type": "code",
   "execution_count": 52,
   "metadata": {},
   "outputs": [
    {
     "data": {
      "text/plain": [
       "0         [-0.2852, -0.29072000000000003, -0.7452, -0.18...\n",
       "1         [-0.2852, -0.29072000000000003, -0.7452, -0.18...\n",
       "2         [-0.2852, -0.29072000000000003, -0.7452, -0.18...\n",
       "3         [-0.2852, -0.29072000000000003, -0.7452, -0.18...\n",
       "4                  [-0.2852, -0.29072000000000003, -0.7452]\n",
       "                                ...                        \n",
       "100892    [-0.2852, -0.29072000000000003, -0.7452, -0.18...\n",
       "100893    [-0.2852, -0.29072000000000003, -0.7452, -0.18...\n",
       "100894    [-0.2852, -0.29072000000000003, -0.7452, -0.18...\n",
       "100895                      [-0.2852, -0.29072000000000003]\n",
       "100896    [-0.2852, -0.29072000000000003, -0.7452, -0.18...\n",
       "Length: 100897, dtype: object"
      ]
     },
     "execution_count": 52,
     "metadata": {},
     "output_type": "execute_result"
    }
   ],
   "source": [
    "test_df"
   ]
  },
  {
   "cell_type": "code",
   "execution_count": 42,
   "metadata": {},
   "outputs": [],
   "source": [
    "clusterAlgo = ClusterAlgorithm()\n",
    "mimosa0_reco_test = pd.DataFrame()\n",
    "mimosa0_reco_test['xyPosition'] = mimosa0.apply(lambda x: clusterAlgo.calc_clusters(x['Mimosa0_hitX'], x['Mimosa0_hitY']), axis=1)"
   ]
  },
  {
   "cell_type": "code",
   "execution_count": 43,
   "metadata": {
    "scrolled": true
   },
   "outputs": [
    {
     "name": "stdout",
     "output_type": "stream",
     "text": [
      "0 : [(0.64952, -0.49312), (-0.16192, -0.25208), (1.00096, -0.46552)]\n",
      "1 : [(0.64952, -0.49312), (-0.16192, -0.25208), (1.00096, -0.46552), (0.07452, -0.05336)]\n",
      "2 : [(0.64952, -0.49312), (-0.16192, -0.25208), (1.00096, -0.46552), (0.07452, -0.05336), (0.39376, 0.28152), (-0.56488, -0.1656), (-0.76912, -0.27048), (-0.317707, 0.006747), (0.28336, 0.02392), (0.35696, -0.2392)]\n",
      "3 : [(0.64952, -0.49312), (-0.16192, -0.25208), (1.00096, -0.46552), (0.07452, -0.05336), (0.39376, 0.28152), (-0.56488, -0.1656), (-0.76912, -0.27048), (-0.317707, 0.006747), (0.28336, 0.02392), (0.35696, -0.2392)]\n",
      "4 : [(0.64952, -0.49312), (-0.16192, -0.25208)]\n",
      "5 : [(0.64952, -0.49312), (-0.16192, -0.25208), (1.00096, -0.46552), (0.07452, -0.05336), (0.39376, 0.28152), (-0.56488, -0.1656), (-0.76912, -0.27048), (-0.317707, 0.006747), (0.28336, 0.02392), (0.35696, -0.2392), (0.64584, 0.06808), (-0.36984, 0.09936), (-0.19136, 0.07912), (0.0184, 0.071147)]\n",
      "6 : [(0.64952, -0.49312), (-0.16192, -0.25208), (1.00096, -0.46552), (0.07452, -0.05336), (0.39376, 0.28152), (-0.56488, -0.1656), (-0.76912, -0.27048), (-0.317707, 0.006747), (0.28336, 0.02392), (0.35696, -0.2392), (0.64584, 0.06808), (-0.36984, 0.09936)]\n",
      "7 : [(0.64952, -0.49312), (-0.16192, -0.25208), (1.00096, -0.46552), (0.0736, -0.05336)]\n",
      "8 : [(0.64952, -0.49312), (-0.16192, -0.25208), (1.00096, -0.46552), (0.07452, -0.05336), (0.39376, 0.28152), (-0.56488, -0.1656), (-0.76912, -0.27048), (-0.3174, 0.00736)]\n",
      "9 : [(0.64952, -0.49312), (-0.16192, -0.25208), (1.00096, -0.46552), (0.07452, -0.05336), (0.39376, 0.28152), (-0.56488, -0.1656), (-0.76912, -0.27048)]\n",
      "10 : [(0.64952, -0.49312), (-0.16192, -0.25208), (1.00096, -0.46552), (0.07452, -0.05336), (0.39376, 0.28152), (-0.56488, -0.1656), (-0.76912, -0.27048), (-0.317707, 0.006747), (0.28336, 0.02392), (0.35696, -0.2392)]\n",
      "11 : [(0.64952, -0.49312), (-0.16192, -0.25208), (1.00096, -0.46552), (0.07452, -0.05336), (0.39376, 0.28152), (-0.56488, -0.1656)]\n",
      "12 : [(0.64952, -0.49312), (-0.16192, -0.25208), (1.00096, -0.46552), (0.07452, -0.05336), (0.39376, 0.28152)]\n",
      "13 : [(0.64952, -0.49312), (-0.16192, -0.25208), (1.00096, -0.46552), (0.07452, -0.05336), (0.39376, 0.28152), (-0.56488, -0.1656), (-0.76912, -0.27048), (-0.3174, 0.00736)]\n",
      "14 : [(0.64952, -0.49312), (-0.16192, -0.25208), (1.00096, -0.46552), (0.07452, -0.05336), (0.39376, 0.28152), (-0.56488, -0.1656), (-0.76912, -0.27048), (-0.31832, 0.00736)]\n",
      "15 : [(0.64952, -0.49312), (-0.16192, -0.25208), (1.00096, -0.46552), (0.07452, -0.05336), (0.39376, 0.28152), (-0.56488, -0.1656)]\n",
      "16 : [(0.64952, -0.49312), (-0.16192, -0.25208), (1.00096, -0.46552), (0.07452, -0.05336), (0.39376, 0.28152), (-0.56488, -0.1656), (-0.76912, -0.27048), (-0.3174, 0.00736)]\n",
      "17 : [(0.64952, -0.49312), (-0.16192, -0.25208), (1.00096, -0.46552), (0.07452, -0.05336), (0.39376, 0.28152), (-0.56488, -0.1656), (-0.76912, -0.27048)]\n",
      "18 : [(0.64952, -0.49312), (-0.16192, -0.25208), (1.00096, -0.46552)]\n",
      "19 : [(0.64952, -0.49312)]\n"
     ]
    }
   ],
   "source": [
    "for i in range(20):\n",
    "    print(i, ':', [(round(x, 6), round(y, 6)) for (x,y) in mimosa0_reco_test['xyPosition'][i]])"
   ]
  },
  {
   "cell_type": "code",
   "execution_count": 27,
   "metadata": {},
   "outputs": [],
   "source": [
    "qdc1 = file.load_to_dataframe('RAWdata', ['QDC0_ch1'])\n",
    "qdc2 = file.load_to_dataframe('RAWdata', ['QDC0_ch2'])\n",
    "qdc3 = file.load_to_dataframe('RAWdata', ['QDC0_ch3'])\n",
    "qdc4 = file.load_to_dataframe('RAWdata', ['QDC0_ch4'])\n",
    "qdc5 = file.load_to_dataframe('RAWdata', ['QDC0_ch5'])"
   ]
  },
  {
   "cell_type": "code",
   "execution_count": 51,
   "metadata": {
    "scrolled": true
   },
   "outputs": [],
   "source": [
    "dwc0 = file.load_to_dataframe('RECOdata', ['DWC0_xPosition', 'DWC0_yPosition'])"
   ]
  },
  {
   "cell_type": "code",
   "execution_count": 52,
   "metadata": {},
   "outputs": [
    {
     "data": {
      "text/html": [
       "<div>\n",
       "<style scoped>\n",
       "    .dataframe tbody tr th:only-of-type {\n",
       "        vertical-align: middle;\n",
       "    }\n",
       "\n",
       "    .dataframe tbody tr th {\n",
       "        vertical-align: top;\n",
       "    }\n",
       "\n",
       "    .dataframe thead th {\n",
       "        text-align: right;\n",
       "    }\n",
       "</style>\n",
       "<table border=\"1\" class=\"dataframe\">\n",
       "  <thead>\n",
       "    <tr style=\"text-align: right;\">\n",
       "      <th></th>\n",
       "      <th>DWC0_xPosition</th>\n",
       "      <th>DWC0_yPosition</th>\n",
       "    </tr>\n",
       "  </thead>\n",
       "  <tbody>\n",
       "    <tr>\n",
       "      <th>0</th>\n",
       "      <td>[-0.443183798206291]</td>\n",
       "      <td>[3.2130824092707297]</td>\n",
       "    </tr>\n",
       "    <tr>\n",
       "      <th>1</th>\n",
       "      <td>[-0.443183798206291]</td>\n",
       "      <td>[3.2130824092707297]</td>\n",
       "    </tr>\n",
       "    <tr>\n",
       "      <th>2</th>\n",
       "      <td>[-0.443183798206291]</td>\n",
       "      <td>[3.2130824092707297]</td>\n",
       "    </tr>\n",
       "    <tr>\n",
       "      <th>3</th>\n",
       "      <td>[-0.443183798206291]</td>\n",
       "      <td>[3.2130824092707297]</td>\n",
       "    </tr>\n",
       "    <tr>\n",
       "      <th>4</th>\n",
       "      <td>[]</td>\n",
       "      <td>[]</td>\n",
       "    </tr>\n",
       "    <tr>\n",
       "      <th>...</th>\n",
       "      <td>...</td>\n",
       "      <td>...</td>\n",
       "    </tr>\n",
       "    <tr>\n",
       "      <th>101376</th>\n",
       "      <td>[-0.443183798206291, -3.4654772793793986, 4.20...</td>\n",
       "      <td>[3.2130824092707297, 4.138941479211751, 4.1389...</td>\n",
       "    </tr>\n",
       "    <tr>\n",
       "      <th>101377</th>\n",
       "      <td>[-0.443183798206291]</td>\n",
       "      <td>[3.2130824092707297]</td>\n",
       "    </tr>\n",
       "    <tr>\n",
       "      <th>101378</th>\n",
       "      <td>[-0.443183798206291]</td>\n",
       "      <td>[3.2130824092707297]</td>\n",
       "    </tr>\n",
       "    <tr>\n",
       "      <th>101379</th>\n",
       "      <td>[-0.443183798206291]</td>\n",
       "      <td>[3.2130824092707297]</td>\n",
       "    </tr>\n",
       "    <tr>\n",
       "      <th>101380</th>\n",
       "      <td>[]</td>\n",
       "      <td>[]</td>\n",
       "    </tr>\n",
       "  </tbody>\n",
       "</table>\n",
       "<p>101381 rows × 2 columns</p>\n",
       "</div>"
      ],
      "text/plain": [
       "                                           DWC0_xPosition  \\\n",
       "0                                    [-0.443183798206291]   \n",
       "1                                    [-0.443183798206291]   \n",
       "2                                    [-0.443183798206291]   \n",
       "3                                    [-0.443183798206291]   \n",
       "4                                                      []   \n",
       "...                                                   ...   \n",
       "101376  [-0.443183798206291, -3.4654772793793986, 4.20...   \n",
       "101377                               [-0.443183798206291]   \n",
       "101378                               [-0.443183798206291]   \n",
       "101379                               [-0.443183798206291]   \n",
       "101380                                                 []   \n",
       "\n",
       "                                           DWC0_yPosition  \n",
       "0                                    [3.2130824092707297]  \n",
       "1                                    [3.2130824092707297]  \n",
       "2                                    [3.2130824092707297]  \n",
       "3                                    [3.2130824092707297]  \n",
       "4                                                      []  \n",
       "...                                                   ...  \n",
       "101376  [3.2130824092707297, 4.138941479211751, 4.1389...  \n",
       "101377                               [3.2130824092707297]  \n",
       "101378                               [3.2130824092707297]  \n",
       "101379                               [3.2130824092707297]  \n",
       "101380                                                 []  \n",
       "\n",
       "[101381 rows x 2 columns]"
      ]
     },
     "execution_count": 52,
     "metadata": {},
     "output_type": "execute_result"
    }
   ],
   "source": [
    "dwc0"
   ]
  },
  {
   "cell_type": "code",
   "execution_count": 30,
   "metadata": {
    "scrolled": false
   },
   "outputs": [
    {
     "ename": "ValueError",
     "evalue": "hist method requires numerical columns, nothing to plot.",
     "output_type": "error",
     "traceback": [
      "\u001b[0;31m---------------------------------------------------------------------------\u001b[0m",
      "\u001b[0;31mValueError\u001b[0m                                Traceback (most recent call last)",
      "\u001b[0;32m<ipython-input-30-2a290c05e31c>\u001b[0m in \u001b[0;36m<module>\u001b[0;34m\u001b[0m\n\u001b[0;32m----> 1\u001b[0;31m \u001b[0mdwc0\u001b[0m\u001b[0;34m.\u001b[0m\u001b[0mhist\u001b[0m\u001b[0;34m(\u001b[0m\u001b[0mbins\u001b[0m\u001b[0;34m=\u001b[0m\u001b[0;36m100\u001b[0m\u001b[0;34m)\u001b[0m\u001b[0;34m\u001b[0m\u001b[0;34m\u001b[0m\u001b[0m\n\u001b[0m\u001b[1;32m      2\u001b[0m \u001b[0mqdc1\u001b[0m\u001b[0;34m.\u001b[0m\u001b[0mhist\u001b[0m\u001b[0;34m(\u001b[0m\u001b[0mbins\u001b[0m\u001b[0;34m=\u001b[0m\u001b[0;36m100\u001b[0m\u001b[0;34m)\u001b[0m\u001b[0;34m\u001b[0m\u001b[0;34m\u001b[0m\u001b[0m\n\u001b[1;32m      3\u001b[0m \u001b[0mqdc2\u001b[0m\u001b[0;34m.\u001b[0m\u001b[0mhist\u001b[0m\u001b[0;34m(\u001b[0m\u001b[0mbins\u001b[0m\u001b[0;34m=\u001b[0m\u001b[0;36m100\u001b[0m\u001b[0;34m)\u001b[0m\u001b[0;34m\u001b[0m\u001b[0;34m\u001b[0m\u001b[0m\n\u001b[1;32m      4\u001b[0m \u001b[0mqdc3\u001b[0m\u001b[0;34m.\u001b[0m\u001b[0mhist\u001b[0m\u001b[0;34m(\u001b[0m\u001b[0mbins\u001b[0m\u001b[0;34m=\u001b[0m\u001b[0;36m100\u001b[0m\u001b[0;34m)\u001b[0m\u001b[0;34m\u001b[0m\u001b[0;34m\u001b[0m\u001b[0m\n\u001b[1;32m      5\u001b[0m \u001b[0mqdc4\u001b[0m\u001b[0;34m.\u001b[0m\u001b[0mhist\u001b[0m\u001b[0;34m(\u001b[0m\u001b[0mbins\u001b[0m\u001b[0;34m=\u001b[0m\u001b[0;36m100\u001b[0m\u001b[0;34m)\u001b[0m\u001b[0;34m\u001b[0m\u001b[0;34m\u001b[0m\u001b[0m\n",
      "\u001b[0;32m/usr/local/lib64/python3.6/site-packages/pandas/plotting/_core.py\u001b[0m in \u001b[0;36mhist_frame\u001b[0;34m(data, column, by, grid, xlabelsize, xrot, ylabelsize, yrot, ax, sharex, sharey, figsize, layout, bins, **kwds)\u001b[0m\n\u001b[1;32m    197\u001b[0m         \u001b[0mlayout\u001b[0m\u001b[0;34m=\u001b[0m\u001b[0mlayout\u001b[0m\u001b[0;34m,\u001b[0m\u001b[0;34m\u001b[0m\u001b[0;34m\u001b[0m\u001b[0m\n\u001b[1;32m    198\u001b[0m         \u001b[0mbins\u001b[0m\u001b[0;34m=\u001b[0m\u001b[0mbins\u001b[0m\u001b[0;34m,\u001b[0m\u001b[0;34m\u001b[0m\u001b[0;34m\u001b[0m\u001b[0m\n\u001b[0;32m--> 199\u001b[0;31m         \u001b[0;34m**\u001b[0m\u001b[0mkwds\u001b[0m\u001b[0;34m\u001b[0m\u001b[0;34m\u001b[0m\u001b[0m\n\u001b[0m\u001b[1;32m    200\u001b[0m     )\n\u001b[1;32m    201\u001b[0m \u001b[0;34m\u001b[0m\u001b[0m\n",
      "\u001b[0;32m/usr/local/lib64/python3.6/site-packages/pandas/plotting/_matplotlib/hist.py\u001b[0m in \u001b[0;36mhist_frame\u001b[0;34m(data, column, by, grid, xlabelsize, xrot, ylabelsize, yrot, ax, sharex, sharey, figsize, layout, bins, **kwds)\u001b[0m\n\u001b[1;32m    395\u001b[0m \u001b[0;34m\u001b[0m\u001b[0m\n\u001b[1;32m    396\u001b[0m     \u001b[0;32mif\u001b[0m \u001b[0mnaxes\u001b[0m \u001b[0;34m==\u001b[0m \u001b[0;36m0\u001b[0m\u001b[0;34m:\u001b[0m\u001b[0;34m\u001b[0m\u001b[0;34m\u001b[0m\u001b[0m\n\u001b[0;32m--> 397\u001b[0;31m         \u001b[0;32mraise\u001b[0m \u001b[0mValueError\u001b[0m\u001b[0;34m(\u001b[0m\u001b[0;34m\"hist method requires numerical columns, \"\u001b[0m \u001b[0;34m\"nothing to plot.\"\u001b[0m\u001b[0;34m)\u001b[0m\u001b[0;34m\u001b[0m\u001b[0;34m\u001b[0m\u001b[0m\n\u001b[0m\u001b[1;32m    398\u001b[0m \u001b[0;34m\u001b[0m\u001b[0m\n\u001b[1;32m    399\u001b[0m     fig, axes = _subplots(\n",
      "\u001b[0;31mValueError\u001b[0m: hist method requires numerical columns, nothing to plot."
     ]
    }
   ],
   "source": [
    "dwc0.hist(bins=100)\n",
    "qdc1.hist(bins=100)\n",
    "qdc2.hist(bins=100)\n",
    "qdc3.hist(bins=100)\n",
    "qdc4.hist(bins=100)"
   ]
  },
  {
   "cell_type": "code",
   "execution_count": null,
   "metadata": {
    "scrolled": true
   },
   "outputs": [],
   "source": [
    "file.print_branches_in_tree('RAWdata')"
   ]
  },
  {
   "cell_type": "code",
   "execution_count": null,
   "metadata": {},
   "outputs": [],
   "source": [
    "import matplotlib.pyplot as plt\n",
    "import seaborn as sns\n",
    "sns.set()\n",
    "p['MMFE8_02_hitChannel'].hist(bins = 100, figsize=(12, 8))\n",
    "plt.ylabel('Frequency')\n",
    "plt.title('MMFE8_02_hitChannel')"
   ]
  },
  {
   "cell_type": "code",
   "execution_count": null,
   "metadata": {
    "scrolled": false
   },
   "outputs": [],
   "source": [
    "mmfe8_hist = Histogram(detector_ttree=file.get_tree('RAWdata'), detector_tbranch_list=['MMFE8_02_hitPDO', 'MMFE8_02_hitTDO'], \n",
    "                       canvas_division=(2,1), bins=100, x_min=-1000, x_max=1000)\n",
    "mmfe8_hist.draw_branch_histograms()"
   ]
  },
  {
   "cell_type": "code",
   "execution_count": 8,
   "metadata": {
    "scrolled": false
   },
   "outputs": [],
   "source": [
    "file = RootFile('/nfs/dust/fhlabs/group/BL4S/data/DESYChain/ConvertedData/1571922014.root', 'READ')"
   ]
  },
  {
   "cell_type": "code",
   "execution_count": 9,
   "metadata": {
    "scrolled": false
   },
   "outputs": [
    {
     "name": "stdout",
     "output_type": "stream",
     "text": [
      "TFile**\t\t/nfs/dust/fhlabs/group/BL4S/data/DESYChain/ConvertedData/1571922014.root\t\n",
      " TFile*\t\t/nfs/dust/fhlabs/group/BL4S/data/DESYChain/ConvertedData/1571922014.root\t\n",
      "  KEY: TTree\tRAWdata;1\tBL4S RAW data tree\n",
      "  KEY: TTree\tRECOdata;1\tBL4S RECO data tree\n"
     ]
    }
   ],
   "source": [
    "file.print_trees()"
   ]
  },
  {
   "cell_type": "code",
   "execution_count": 10,
   "metadata": {},
   "outputs": [
    {
     "name": "stdout",
     "output_type": "stream",
     "text": [
      "******************************************************************************\n",
      "*Tree    :RECOdata  : BL4S RECO data tree                                    *\n",
      "*Entries :   100897 : Total =        44226161 bytes  File  Size =   18598090 *\n",
      "*        :          : Tree compression factor =   2.38                       *\n",
      "******************************************************************************\n",
      "*Br    0 :NChamber2_position :                                               *\n",
      "*         | UInt_t Number of entries in branch Chamber2_position             *\n",
      "*Entries :   100897 : Total  Size=     405387 bytes  File Size  =      70697 *\n",
      "*Baskets :       13 : Basket Size=      32000 bytes  Compression=   5.73     *\n",
      "*............................................................................*\n",
      "*Br    1 :Chamber2_position :                                                *\n",
      "*         | Double_t Local position of Chamber2 clusters in cm               *\n",
      "*Entries :   100897 : Total  Size=    1540090 bytes  File Size  =     704380 *\n",
      "*Baskets :       61 : Basket Size=      32000 bytes  Compression=   2.18     *\n",
      "*............................................................................*\n",
      "*Br    2 :NChamber3_position :                                               *\n",
      "*         | UInt_t Number of entries in branch Chamber3_position             *\n",
      "*Entries :   100897 : Total  Size=     405387 bytes  File Size  =      35244 *\n",
      "*Baskets :       13 : Basket Size=      32000 bytes  Compression=  11.48     *\n",
      "*............................................................................*\n",
      "*Br    3 :Chamber3_position :                                                *\n",
      "*         | Double_t Local position of Chamber3 clusters in cm               *\n",
      "*Entries :   100897 : Total  Size=     583946 bytes  File Size  =     138651 *\n",
      "*Baskets :       31 : Basket Size=      32000 bytes  Compression=   4.20     *\n",
      "*............................................................................*\n",
      "*Br    4 :NMimosa0_xPosition :                                               *\n",
      "*         | UInt_t Number of entries in branch Mimosa0_xPosition             *\n",
      "*Entries :   100897 : Total  Size=     405387 bytes  File Size  =      85312 *\n",
      "*Baskets :       13 : Basket Size=      32000 bytes  Compression=   4.74     *\n",
      "*............................................................................*\n",
      "*Br    5 :Mimosa0_xPosition :                                                *\n",
      "*         | Double_t Local position in x-axis of Mimosa0 clusters in cm      *\n",
      "*Entries :   100897 : Total  Size=    4928027 bytes  File Size  =    2219097 *\n",
      "*Baskets :      167 : Basket Size=      32000 bytes  Compression=   2.22     *\n",
      "*............................................................................*\n",
      "*Br    6 :NMimosa0_yPosition :                                               *\n",
      "*         | UInt_t Number of entries in branch Mimosa0_yPosition             *\n",
      "*Entries :   100897 : Total  Size=     405387 bytes  File Size  =      85312 *\n",
      "*Baskets :       13 : Basket Size=      32000 bytes  Compression=   4.74     *\n",
      "*............................................................................*\n",
      "*Br    7 :Mimosa0_yPosition :                                                *\n",
      "*         | Double_t Local position in y-axis of Mimosa0 clusters in cm      *\n",
      "*Entries :   100897 : Total  Size=    4928027 bytes  File Size  =    2116550 *\n",
      "*Baskets :      167 : Basket Size=      32000 bytes  Compression=   2.33     *\n",
      "*............................................................................*\n",
      "*Br    8 :NMimosa1_xPosition :                                               *\n",
      "*         | UInt_t Number of entries in branch Mimosa1_xPosition             *\n",
      "*Entries :   100897 : Total  Size=     405387 bytes  File Size  =      81667 *\n",
      "*Baskets :       13 : Basket Size=      32000 bytes  Compression=   4.96     *\n",
      "*............................................................................*\n",
      "*Br    9 :Mimosa1_xPosition :                                                *\n",
      "*         | Double_t Local position in x-axis of Mimosa1 clusters in cm      *\n",
      "*Entries :   100897 : Total  Size=    3873199 bytes  File Size  =    1813599 *\n",
      "*Baskets :      134 : Basket Size=      32000 bytes  Compression=   2.13     *\n",
      "*............................................................................*\n",
      "*Br   10 :NMimosa1_yPosition :                                               *\n",
      "*         | UInt_t Number of entries in branch Mimosa1_yPosition             *\n",
      "*Entries :   100897 : Total  Size=     405387 bytes  File Size  =      81667 *\n",
      "*Baskets :       13 : Basket Size=      32000 bytes  Compression=   4.96     *\n",
      "*............................................................................*\n",
      "*Br   11 :Mimosa1_yPosition :                                                *\n",
      "*         | Double_t Local position in y-axis of Mimosa1 clusters in cm      *\n",
      "*Entries :   100897 : Total  Size=    3873199 bytes  File Size  =    1763873 *\n",
      "*Baskets :      134 : Basket Size=      32000 bytes  Compression=   2.19     *\n",
      "*............................................................................*\n",
      "*Br   12 :NMimosa2_xPosition :                                               *\n",
      "*         | UInt_t Number of entries in branch Mimosa2_xPosition             *\n",
      "*Entries :   100897 : Total  Size=     405387 bytes  File Size  =      80577 *\n",
      "*Baskets :       13 : Basket Size=      32000 bytes  Compression=   5.02     *\n",
      "*............................................................................*\n",
      "*Br   13 :Mimosa2_xPosition :                                                *\n",
      "*         | Double_t Local position in x-axis of Mimosa2 clusters in cm      *\n",
      "*Entries :   100897 : Total  Size=    4467011 bytes  File Size  =    1933698 *\n",
      "*Baskets :      153 : Basket Size=      32000 bytes  Compression=   2.31     *\n",
      "*............................................................................*\n",
      "*Br   14 :NMimosa2_yPosition :                                               *\n",
      "*         | UInt_t Number of entries in branch Mimosa2_yPosition             *\n",
      "*Entries :   100897 : Total  Size=     405387 bytes  File Size  =      80577 *\n",
      "*Baskets :       13 : Basket Size=      32000 bytes  Compression=   5.02     *\n",
      "*............................................................................*\n",
      "*Br   15 :Mimosa2_yPosition :                                                *\n",
      "*         | Double_t Local position in y-axis of Mimosa2 clusters in cm      *\n",
      "*Entries :   100897 : Total  Size=    4467011 bytes  File Size  =    1873277 *\n",
      "*Baskets :      153 : Basket Size=      32000 bytes  Compression=   2.38     *\n",
      "*............................................................................*\n",
      "*Br   16 :NDWC0_xTime : UInt_t Number of entries in branch DWC0_xTime        *\n",
      "*Entries :   100897 : Total  Size=     405268 bytes  File Size  =      25061 *\n",
      "*Baskets :       13 : Basket Size=      32000 bytes  Compression=  16.15     *\n",
      "*............................................................................*\n",
      "*Br   17 :DWC0_xTime :                                                       *\n",
      "*         | Double_t Time difference of hits along x-axis of DWC0 in ns      *\n",
      "*Entries :   100897 : Total  Size=    1180799 bytes  File Size  =     547438 *\n",
      "*Baskets :       50 : Basket Size=      32000 bytes  Compression=   2.15     *\n",
      "*............................................................................*\n",
      "*Br   18 :NDWC0_yTime : UInt_t Number of entries in branch DWC0_yTime        *\n",
      "*Entries :   100897 : Total  Size=     405268 bytes  File Size  =      26473 *\n",
      "*Baskets :       13 : Basket Size=      32000 bytes  Compression=  15.29     *\n",
      "*............................................................................*\n",
      "*Br   19 :DWC0_yTime :                                                       *\n",
      "*         | Double_t Time difference of hits along y-axis of DWC0 in ns      *\n",
      "*Entries :   100897 : Total  Size=    1186823 bytes  File Size  =     546865 *\n",
      "*Baskets :       50 : Basket Size=      32000 bytes  Compression=   2.17     *\n",
      "*............................................................................*\n",
      "*Br   20 :NDWC0_xPosition : UInt_t Number of entries in branch DWC0_xPosition*\n",
      "*Entries :   100897 : Total  Size=     405336 bytes  File Size  =      29157 *\n",
      "*Baskets :       13 : Basket Size=      32000 bytes  Compression=  13.88     *\n",
      "*............................................................................*\n",
      "*Br   21 :DWC0_xPosition :                                                   *\n",
      "*         | Double_t Local position in x-axis of DWC0 hits in cm             *\n",
      "*Entries :   100897 : Total  Size=    1207897 bytes  File Size  =     821071 *\n",
      "*Baskets :       51 : Basket Size=      32000 bytes  Compression=   1.47     *\n",
      "*............................................................................*\n",
      "*Br   22 :NDWC0_yPosition : UInt_t Number of entries in branch DWC0_yPosition*\n",
      "*Entries :   100897 : Total  Size=     405336 bytes  File Size  =      29157 *\n",
      "*Baskets :       13 : Basket Size=      32000 bytes  Compression=  13.88     *\n",
      "*............................................................................*\n",
      "*Br   23 :DWC0_yPosition :                                                   *\n",
      "*         | Double_t Local position in y-axis of DWC0 hits in cm             *\n",
      "*Entries :   100897 : Total  Size=    1207897 bytes  File Size  =     826314 *\n",
      "*Baskets :       51 : Basket Size=      32000 bytes  Compression=   1.46     *\n",
      "*............................................................................*\n",
      "*Br   24 :NDWC1_xTime : UInt_t Number of entries in branch DWC1_xTime        *\n",
      "*Entries :   100897 : Total  Size=     405268 bytes  File Size  =      36720 *\n",
      "*Baskets :       13 : Basket Size=      32000 bytes  Compression=  11.02     *\n",
      "*............................................................................*\n",
      "*Br   25 :DWC1_xTime :                                                       *\n",
      "*         | Double_t Time difference of hits along x-axis of DWC1 in ns      *\n",
      "*Entries :   100897 : Total  Size=    1073784 bytes  File Size  =     486611 *\n",
      "*Baskets :       47 : Basket Size=      32000 bytes  Compression=   2.20     *\n",
      "*............................................................................*\n",
      "*Br   26 :NDWC1_yTime : UInt_t Number of entries in branch DWC1_yTime        *\n",
      "*Entries :   100897 : Total  Size=     405268 bytes  File Size  =      36599 *\n",
      "*Baskets :       13 : Basket Size=      32000 bytes  Compression=  11.06     *\n",
      "*............................................................................*\n",
      "*Br   27 :DWC1_yTime :                                                       *\n",
      "*         | Double_t Time difference of hits along y-axis of DWC1 in ns      *\n",
      "*Entries :   100897 : Total  Size=    1073032 bytes  File Size  =     476394 *\n",
      "*Baskets :       47 : Basket Size=      32000 bytes  Compression=   2.25     *\n",
      "*............................................................................*\n",
      "*Br   28 :NDWC1_xPosition : UInt_t Number of entries in branch DWC1_xPosition*\n",
      "*Entries :   100897 : Total  Size=     405336 bytes  File Size  =      37156 *\n",
      "*Baskets :       13 : Basket Size=      32000 bytes  Compression=  10.89     *\n",
      "*............................................................................*\n",
      "*Br   29 :DWC1_xPosition :                                                   *\n",
      "*         | Double_t Local position in x-axis of DWC1 hits in cm             *\n",
      "*Entries :   100897 : Total  Size=    1075469 bytes  File Size  =     723733 *\n",
      "*Baskets :       47 : Basket Size=      32000 bytes  Compression=   1.48     *\n",
      "*............................................................................*\n",
      "*Br   30 :NDWC1_yPosition : UInt_t Number of entries in branch DWC1_yPosition*\n",
      "*Entries :   100897 : Total  Size=     405336 bytes  File Size  =      37156 *\n",
      "*Baskets :       13 : Basket Size=      32000 bytes  Compression=  10.89     *\n",
      "*............................................................................*\n",
      "*Br   31 :DWC1_yPosition :                                                   *\n",
      "*         | Double_t Local position in y-axis of DWC1 hits in cm             *\n",
      "*Entries :   100897 : Total  Size=    1075469 bytes  File Size  =     730917 *\n",
      "*Baskets :       47 : Basket Size=      32000 bytes  Compression=   1.47     *\n",
      "*............................................................................*\n"
     ]
    }
   ],
   "source": [
    "file.print_branches_in_tree('RECOdata')"
   ]
  },
  {
   "cell_type": "code",
   "execution_count": 3,
   "metadata": {},
   "outputs": [],
   "source": [
    "tfile = TFile('/nfs/dust/fhlabs/group/BL4S/data/DESYChain/ConvertedData/1572179299.root', 'READ')"
   ]
  },
  {
   "cell_type": "code",
   "execution_count": 4,
   "metadata": {
    "scrolled": true
   },
   "outputs": [
    {
     "data": {
      "image/png": "[encoded data removed]",
      "text/plain": [
       "<IPython.core.display.Image object>"
      ]
     },
     "metadata": {},
     "output_type": "display_data"
    }
   ],
   "source": [
    "c = TCanvas('c', 'c', 800, 600)\n",
    "c.Divide(3,2)\n",
    "c.cd(1)\n",
    "qdc1 = tfile.Get('RAWdata')\n",
    "qdc1.Draw('QDC0_ch1')\n",
    "c.cd(2)\n",
    "qdc2 = tfile.Get('RAWdata')\n",
    "qdc2.Draw('QDC0_ch2')\n",
    "c.cd(3)\n",
    "qdc3 = tfile.Get('RAWdata')\n",
    "qdc3.Draw('QDC0_ch3')\n",
    "c.cd(4)\n",
    "qdc4 = tfile.Get('RAWdata')\n",
    "qdc4.Draw('QDC0_ch4')\n",
    "c.cd(5)\n",
    "qdc5 = tfile.Get('RAWdata')\n",
    "qdc5.Draw('QDC0_ch5')\n",
    "c.cd(6)\n",
    "qdc6 = tfile.Get('RECOdata')\n",
    "qdc6.Draw('Mimosa0_xPosition')\n",
    "c.Draw()"
   ]
  },
  {
   "cell_type": "code",
   "execution_count": 1,
   "metadata": {},
   "outputs": [],
   "source": [
    "import tensorflow as tf"
   ]
  },
  {
   "cell_type": "code",
   "execution_count": 2,
   "metadata": {
    "scrolled": true
   },
   "outputs": [
    {
     "data": {
      "text/plain": [
       "'2.1.0'"
      ]
     },
     "execution_count": 2,
     "metadata": {},
     "output_type": "execute_result"
    }
   ],
   "source": [
    "tf.__version__"
   ]
  },
  {
   "cell_type": "code",
   "execution_count": 7,
   "metadata": {},
   "outputs": [],
   "source": [
    "tfile = TFile('/nfs/dust/fhlabs/group/BL4S/data/DESYChain/ConvertedData/1572179299.root', 'READ')"
   ]
  },
  {
   "cell_type": "code",
   "execution_count": 22,
   "metadata": {},
   "outputs": [
    {
     "name": "stderr",
     "output_type": "stream",
     "text": [
      "Warning in <TCanvas::Constructor>: Deleting canvas with same name: c\n"
     ]
    },
    {
     "data": {
      "image/png": "[encoded data removed]",
      "text/plain": [
       "<IPython.core.display.Image object>"
      ]
     },
     "metadata": {},
     "output_type": "display_data"
    }
   ],
   "source": [
    "c = TCanvas('c', 'c', 1000, 1500)\n",
    "c.Divide(2,4)\n",
    "c.cd(1)\n",
    "reco = tfile.Get('RECOdata')\n",
    "#reco.Draw('Chamber1_position+10.02', 'Chamber1_position>-20&&Chamber1_position<0')\n",
    "reco.Draw('Chamber1_position','Chamber1_position>-20&&Chamber1_position<20')\n",
    "c.cd(2)\n",
    "reco.Draw('Chamber2_position','Chamber2_position>-10&&Chamber2_position<10')\n",
    "c.cd(3)\n",
    "reco.Draw('Chamber3_position','Chamber3_position>-10&&Chamber3_position<20')\n",
    "c.cd(4)\n",
    "reco.Draw('DWC0_yPosition')\n",
    "c.cd(5)\n",
    "reco.Draw('DWC0_xPosition','DWC0_xPosition>-3&&DWC0_xPosition<3')\n",
    "c.cd(6)\n",
    "reco.Draw('Mimosa1_yPosition')\n",
    "c.cd(7)\n",
    "reco.Draw('Mimosa2_xPosition')\n",
    "c.cd(8)\n",
    "reco.Draw('Mimosa2_yPosition')\n",
    "\n",
    "\n",
    "c.Draw()"
   ]
  },
  {
   "cell_type": "code",
   "execution_count": 30,
   "metadata": {},
   "outputs": [
    {
     "name": "stderr",
     "output_type": "stream",
     "text": [
      "Warning in <TCanvas::Constructor>: Deleting canvas with same name: c\n"
     ]
    },
    {
     "data": {
      "image/png": "[encoded data removed]",
      "text/plain": [
       "<IPython.core.display.Image object>"
      ]
     },
     "metadata": {},
     "output_type": "display_data"
    }
   ],
   "source": [
    "c = TCanvas('c', 'c', 1000, 1500)\n",
    "c.Divide(2,1)\n",
    "c.cd(1)\n",
    "reco = tfile.Get('RECOdata')\n",
    "reco.Draw('DWC0_xPosition')\n",
    "c.cd(2)\n",
    "reco.Draw('DWC0_yPosition')\n",
    "\n",
    "\n",
    "c.Draw()"
   ]
  },
  {
   "cell_type": "markdown",
   "metadata": {},
   "source": [
    "1. Regularize scintillator values based on voltage\n",
    "2. Store MPV of scintillator hist\n",
    "3. Add offsets to mimosas\n",
    "4. "
   ]
  },
  {
   "cell_type": "code",
   "execution_count": 6,
   "metadata": {},
   "outputs": [
    {
     "ename": "AttributeError",
     "evalue": "'CPyCppyy_NoneType' object has no attribute 'Draw'",
     "output_type": "error",
     "traceback": [
      "\u001b[0;31m---------------------------------------------------------------------------\u001b[0m",
      "\u001b[0;31mAttributeError\u001b[0m                            Traceback (most recent call last)",
      "\u001b[0;32m<ipython-input-6-8f8a49c2f122>\u001b[0m in \u001b[0;36m<module>\u001b[0;34m\u001b[0m\n\u001b[1;32m      6\u001b[0m \u001b[0mttree\u001b[0m\u001b[0;34m.\u001b[0m\u001b[0mDraw\u001b[0m\u001b[0;34m(\u001b[0m\u001b[0;34m'Chamber2_position>>h1'\u001b[0m\u001b[0;34m)\u001b[0m\u001b[0;34m\u001b[0m\u001b[0;34m\u001b[0m\u001b[0m\n\u001b[1;32m      7\u001b[0m \u001b[0mc\u001b[0m \u001b[0;34m=\u001b[0m \u001b[0mTCanvas\u001b[0m\u001b[0;34m(\u001b[0m\u001b[0;34m'c'\u001b[0m\u001b[0;34m,\u001b[0m \u001b[0;34m'c'\u001b[0m\u001b[0;34m,\u001b[0m \u001b[0;36m800\u001b[0m\u001b[0;34m,\u001b[0m \u001b[0;36m800\u001b[0m\u001b[0;34m)\u001b[0m\u001b[0;34m\u001b[0m\u001b[0;34m\u001b[0m\u001b[0m\n\u001b[0;32m----> 8\u001b[0;31m \u001b[0mh1\u001b[0m\u001b[0;34m.\u001b[0m\u001b[0mDraw\u001b[0m\u001b[0;34m(\u001b[0m\u001b[0;34m)\u001b[0m\u001b[0;34m\u001b[0m\u001b[0;34m\u001b[0m\u001b[0m\n\u001b[0m\u001b[1;32m      9\u001b[0m \u001b[0mc\u001b[0m\u001b[0;34m.\u001b[0m\u001b[0mDraw\u001b[0m\u001b[0;34m(\u001b[0m\u001b[0;34m)\u001b[0m\u001b[0;34m\u001b[0m\u001b[0;34m\u001b[0m\u001b[0m\n",
      "\u001b[0;31mAttributeError\u001b[0m: 'CPyCppyy_NoneType' object has no attribute 'Draw'"
     ]
    },
    {
     "name": "stderr",
     "output_type": "stream",
     "text": [
      "Warning in <TFile::Append>: Replacing existing TH1: h1 (Potential memory leak).\n",
      "Warning in <TCanvas::Constructor>: Deleting canvas with same name: c\n"
     ]
    }
   ],
   "source": [
    "from ROOT import TH1F, kBlue\n",
    "h1 = TH1F(\"h1\", (\"Two gaussian plots and their ratio; x title; h1 and h2\"\n",
    "                 \" histograms\"), 100, -5, 5)\n",
    "tfile = TFile('/nfs/dust/fhlabs/group/BL4S/data/DESYChain/ConvertedData/1572179299.root', 'READ')\n",
    "ttree = tfile.Get('RECOdata')\n",
    "ttree.Draw('Chamber2_position>>h1')\n",
    "c = TCanvas('c', 'c', 800, 800)\n",
    "h1.Draw()\n",
    "c.Draw()\n"
   ]
  },
  {
   "cell_type": "code",
   "execution_count": 15,
   "metadata": {},
   "outputs": [
    {
     "data": {
      "text/plain": [
       "0.008531662239928458"
      ]
     },
     "execution_count": 15,
     "metadata": {},
     "output_type": "execute_result"
    }
   ],
   "source": [
    "h1.GetMean()"
   ]
  },
  {
   "cell_type": "code",
   "execution_count": 36,
   "metadata": {},
   "outputs": [
    {
     "name": "stderr",
     "output_type": "stream",
     "text": [
      "Warning in <TCanvas::Constructor>: Deleting canvas with same name: c\n",
      "Error in <TTreeFormula::Compile>:  Bad numerical expression : \"goff\"\n",
      "Info in <TSelectorDraw::AbortProcess>: Variable compilation failed: {Mimosa0_xPosition,goff}\n"
     ]
    },
    {
     "data": {
      "image/png": "[encoded data removed]",
      "text/plain": [
       "<IPython.core.display.Image object>"
      ]
     },
     "metadata": {},
     "output_type": "display_data"
    }
   ],
   "source": [
    "from ROOT import gDirectory\n",
    "c = TCanvas('c', 'c', 800, 800)\n",
    "tfile = TFile('/nfs/dust/fhlabs/group/BL4S/data/DESYChain/ConvertedData/1572180849.root', 'READ')\n",
    "ttree = tfile.Get('RECOdata')\n",
    "ttree.Draw('Mimosa0_xPosition>>histo', 'goff')\n",
    "c.Draw()\n",
    "histo = gDirectory.Get(\"histo\");"
   ]
  },
  {
   "cell_type": "code",
   "execution_count": 35,
   "metadata": {},
   "outputs": [
    {
     "data": {
      "text/plain": [
       "0.09261811538326055"
      ]
     },
     "execution_count": 35,
     "metadata": {},
     "output_type": "execute_result"
    }
   ],
   "source": [
    "histo.GetMean()"
   ]
  },
  {
   "cell_type": "code",
   "execution_count": null,
   "metadata": {},
   "outputs": [],
   "source": []
  },
  {
   "cell_type": "code",
   "execution_count": null,
   "metadata": {},
   "outputs": [],
   "source": []
  }
 ],
 "metadata": {
  "kernelspec": {
   "display_name": "Python 3",
   "language": "python",
   "name": "python3"
  },
  "language_info": {
   "codemirror_mode": {
    "name": "ipython",
    "version": 3
   },
   "file_extension": ".py",
   "mimetype": "text/x-python",
   "name": "python",
   "nbconvert_exporter": "python",
   "pygments_lexer": "ipython3",
   "version": "3.6.8"
  }
 },
 "nbformat": 4,
 "nbformat_minor": 2
}
